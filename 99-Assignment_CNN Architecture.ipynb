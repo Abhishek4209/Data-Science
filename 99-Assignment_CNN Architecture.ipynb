{
 "cells": [
  {
   "cell_type": "markdown",
   "metadata": {},
   "source": [
    "# **TOPIC: Understanding Pooling and Padding in CNN**"
   ]
  },
  {
   "cell_type": "markdown",
   "metadata": {},
   "source": [
    "## **Q1:-**\n",
    "### **Descirbe the purpose and benefits of pooling in CNN.**"
   ]
  },
  {
   "cell_type": "markdown",
   "metadata": {},
   "source": [
    "### **Ans:-**"
   ]
  },
  {
   "cell_type": "markdown",
   "metadata": {},
   "source": [
    "### **Purpose of Pooling in CNN:-**\n",
    "#### **1.Spatial Hierarchical Representation:**\n",
    "\n",
    "##### Pooling helps create a spatial hierarchy in the feature maps. By downsampling the spatial dimensions, the network focuses on the most important features, allowing the model to learn hierarchical representations of the input data.\n",
    "#### **2.Translation Invariance:**\n",
    "\n",
    "##### Pooling enhances the network's ability to be partially invariant to small translations in the input data. This is particularly useful in image recognition tasks where the position of an object in the image should not affect the network's ability to recognize it.\n",
    "#### **3.Reduction of Computational Complexity:**\n",
    "\n",
    "##### Pooling reduces the number of computations in the network by decreasing the size of the feature maps. This is especially important in deep networks where the number of parameters can become very large.\n",
    "#### **4.Parameter Sharing:**\n",
    "\n",
    "##### Pooling enables parameter sharing, making the network more robust and capable of generalizing well to variations in the input data.\n",
    "### **Benefits of Pooling in CNN:**\n",
    "#### **1.Dimensionality Reduction:**\n",
    "\n",
    "##### Pooling reduces the spatial dimensions of the feature maps, leading to a decrease in the number of parameters and computational requirements in subsequent layers. This is crucial for managing computational resources and avoiding overfitting.\n",
    "#### **2.Increased Receptive Field:**\n",
    "\n",
    "##### Pooling effectively increases the receptive field of the neurons in deeper layers, allowing them to capture more global information about the input data.\n",
    "#### **3.Noise Reduction:**\n",
    "\n",
    "##### By focusing on the most relevant information and discarding less important details, pooling helps reduce the effects of noise and minor variations in the input data.\n",
    "#### **4.Improved Training Speed:**\n",
    "\n",
    "##### The reduced spatial dimensions result in a smaller volume of data being processed in subsequent layers, leading to faster training times."
   ]
  },
  {
   "cell_type": "markdown",
   "metadata": {},
   "source": [
    "## **Q2:-** \n",
    "### **Explain the diffrence between min pooling and max pooling** "
   ]
  },
  {
   "cell_type": "markdown",
   "metadata": {},
   "source": [
    "### **Ans:-**"
   ]
  },
  {
   "cell_type": "markdown",
   "metadata": {},
   "source": [
    "### **Max Pooling:**\n",
    "\n",
    "#### Takes the maximum value from a local neighborhood.\n",
    "#### Emphasizes strong, dominant features.\n",
    "#### Effective in capturing edges, corners, and texture patterns.\n",
    "#### Provides translation invariance.\n",
    "### **Min Pooling:**\n",
    "\n",
    "#### Takes the minimum value from a local neighborhood.\n",
    "#### Emphasizes minimal features.\n",
    "#### Useful in scenarios where the presence of low-intensity features is important.\n",
    "#### Can downplay the impact of strong, dominant features."
   ]
  },
  {
   "cell_type": "markdown",
   "metadata": {},
   "source": [
    "## **Q3:-**\n",
    "### **Discuss the concept of padding in CNN and its significance.**"
   ]
  },
  {
   "cell_type": "markdown",
   "metadata": {},
   "source": [
    "### **Ans:-**"
   ]
  },
  {
   "cell_type": "markdown",
   "metadata": {},
   "source": [
    "### **In Convolutional Neural Networks (CNNs), padding refers to the process of adding extra pixels or values around the input data before applying convolutional or pooling operations. Padding is usually applied to the input feature maps to ensure that the spatial dimensions of the output feature maps are compatible with the desired architecture and to address certain issues related to the border of the input.**"
   ]
  },
  {
   "cell_type": "markdown",
   "metadata": {},
   "source": [
    "### **Significance of Padding in CNN:**\n",
    "#### 1.Preservation of Spatial Information\n",
    "#### 2.Mitigation of Border Effects\n",
    "#### 3.Centering of Convolutional Kernels\n",
    "#### 4.Control over Output Size\n",
    "#### 5.Compatibility with Strided Convolutions\n",
    "#### 6.Prevention of Information Loss"
   ]
  },
  {
   "cell_type": "markdown",
   "metadata": {},
   "source": [
    "### **Types of Padding:**\n",
    "#### **1.Valid (No Padding):**\n",
    "\n",
    "##### No padding is applied, and the convolution is applied only to the pixels where the kernel completely overlaps with the input. This leads to a reduction in spatial dimensions.\n",
    "#### **2.Same Padding:**\n",
    "\n",
    "##### Padding is added to the input such that the output feature map has the same spatial dimensions as the input. It is commonly used to maintain the spatial resolution of the input through convolutional layers.\n",
    "#### **3.Full Padding:**\n",
    "\n",
    "##### Padding is added such that the convolutional kernel can fully traverse the input without any reduction in spatial dimensions. This is less common but may be used in certain scenarios."
   ]
  },
  {
   "cell_type": "markdown",
   "metadata": {},
   "source": [
    "## **Q4:-**\n",
    "### **Compare and contrast zero-padding and valid-padding in terms of their effects on the output feature map size.**"
   ]
  },
  {
   "cell_type": "markdown",
   "metadata": {},
   "source": [
    "### **Ans:-**"
   ]
  },
  {
   "cell_type": "markdown",
   "metadata": {},
   "source": [
    "### **Zero-Padding:**\n",
    "#### **1.Operation:**\n",
    "\n",
    "##### Zero-padding involves adding extra rows and columns of zeros around the input feature map.\n",
    "#### **2.Effect on Output Size:**\n",
    "\n",
    "##### Zero-padding increases the spatial dimensions of the input, preventing a reduction in the size of the output feature map during convolution.\n",
    "#### **3.Preservation of Spatial Information:**\n",
    "\n",
    "##### Zero-padding preserves spatial information at the borders of the input, helping to avoid the loss of important features.\n",
    "#### **4.Compatibility with Same Padding:\n",
    "\n",
    "##### Zero-padding is commonly used in conjunction with \"same\" padding, where the goal is to ensure that the output feature map has the same spatial dimensions as the input.\n",
    "#### **5.Control over Output Size:**\n",
    "\n",
    "##### By adjusting the amount of zero-padding, one can control the spatial dimensions of the output feature map, making it a flexible strategy for designing CNN architectures.\n",
    "### **Valid Padding:**\n",
    "#### **1.Operation:**\n",
    "\n",
    "##### Valid padding (sometimes called \"no padding\") involves applying the convolution operation without adding any extra rows or columns around the input feature map.\n",
    "#### **2.Effect on Output Size:**\n",
    "\n",
    "##### Valid padding leads to a reduction in the spatial dimensions of the output feature map.\n",
    "#### **3.Spatial Information Loss:**\n",
    "\n",
    "##### Without padding, the convolutional operation gradually reduces the spatial dimensions, potentially leading to information loss at the borders of the input.\n",
    "#### **4.Used for Dimensionality Reduction:**\n",
    "\n",
    "##### Valid padding is often chosen when the goal is to reduce the spatial dimensions of the feature map, such as in scenarios where downsampling is desired.\n",
    "#### **5.Computational Efficiency:**\n",
    "\n",
    "##### Valid padding can be computationally more efficient since it avoids the addition of extra calculations associated with padding.\n"
   ]
  },
  {
   "cell_type": "markdown",
   "metadata": {},
   "source": [
    "### **Comparison:**\n",
    "#### **Output Size:**\n",
    "##### Zero-padding increases or maintains the spatial dimensions of the output feature map.\n",
    "##### Valid padding reduces the spatial dimensions of the output feature map.\n",
    "### **Spatial Information:**\n",
    "\n",
    "##### Zero-padding preserves spatial information at the borders.\n",
    "##### Valid padding may lead to information loss at the edges of the input.\n",
    "### **Use Cases:**\n",
    "\n",
    "##### Zero-padding is often used when preservation of spatial information is crucial or when \"same\" padding is desired.\n",
    "##### Valid padding is chosen when downsampling and dimensionality reduction are the goals.\n",
    "### **Flexibility:**\n",
    "\n",
    "##### Zero-padding provides more flexibility in controlling the output size.\n",
    "##### Valid padding may be preferred for computational efficiency and when a reduction in spatial dimensio"
   ]
  },
  {
   "cell_type": "markdown",
   "metadata": {},
   "source": [
    "# **TOPIC: Exploring LeNet**"
   ]
  },
  {
   "cell_type": "markdown",
   "metadata": {},
   "source": [
    "## **Q1:-**\n",
    "### **Pcovide a brief overview of LeNet-5 architecture**"
   ]
  },
  {
   "cell_type": "markdown",
   "metadata": {},
   "source": [
    "### **Ans:-**"
   ]
  },
  {
   "cell_type": "markdown",
   "metadata": {},
   "source": [
    "### **Overview of LeNet-5 Architecture:**\n",
    "#### **Input Layer:**\n",
    "\n",
    "##### LeNet-5 takes as input grayscale images of size 32x32 pixels. At the time of its introduction, this size was common for handwritten digit recognition datasets.\n",
    "#### **Convolutional Layers:**\n",
    "\n",
    "##### LeNet-5 consists of two sets of convolutional layers, each followed by a subsampling (pooling) layer.\n",
    "##### The first convolutional layer uses a 5x5 kernel with six feature maps.\n",
    "##### The second convolutional layer uses a 5x5 kernel with 16 feature maps.\n",
    "##### The pooling layers perform average pooling.\n",
    "#### **Activation Function:**\n",
    "\n",
    "##### The activation function used throughout LeNet-5 is a sigmoid activation function. Modern architectures often use rectified linear units (ReLU), but sigmoid was more common at the time of LeNet-5's development.\n",
    "#### **Fully Connected Layers:**\n",
    "\n",
    "##### Following the convolutional and pooling layers, LeNet-5 has three fully connected layers.\n",
    "##### The first fully connected layer has 120 neurons.\n",
    "##### The second fully connected layer has 84 neurons.\n",
    "##### The output layer produces 10 outputs, corresponding to the 10 possible digit classes (0 to 9).\n",
    "#### **Flattening:**\n",
    "\n",
    "##### Before entering the fully connected layers, the feature maps are flattened into a vector.\n",
    "#### **Softmax Activation:**\n",
    "\n",
    "##### The output layer is followed by a softmax activation function, which converts the network's raw output into probability scores for each class."
   ]
  },
  {
   "cell_type": "markdown",
   "metadata": {},
   "source": [
    "## **Q2:-**\n",
    "### **Describe the key components of LeNet-5 and their respective purposes.**"
   ]
  },
  {
   "cell_type": "markdown",
   "metadata": {},
   "source": [
    "### **Ams:-**"
   ]
  },
  {
   "cell_type": "markdown",
   "metadata": {},
   "source": [
    "### **1.Input Layer:**\n",
    "\n",
    "#### Purpose: The input layer receives the grayscale images of size 32x32 pixels. The images serve as the input data for the network.\n",
    "### **2.Convolutional Layers:**\n",
    "\n",
    "#### Purpose: The convolutional layers are responsible for detecting various features in the input images through the application of convolution operations. LeNet-5 has two convolutional layers:\n",
    "#### First Convolutional Layer: Uses a 5x5 kernel with six feature maps.\n",
    "#### Second Convolutional Layer: Uses a 5x5 kernel with 16 feature maps.\n",
    "#### Activation Function: Throughout the network, including convolutional layers, the sigmoid activation function was used at the time of LeNet-5's development.\n",
    "### **3.Subsampling (Pooling) Layers:**\n",
    "\n",
    "#### Purpose: Subsampling layers reduce the spatial dimensions of the feature maps obtained from the convolutional layers. LeNet-5 uses average pooling in its subsampling layers.\n",
    "### **4.Fully Connected Layers:**\n",
    "\n",
    "#### Purpose: The fully connected layers at the end of the network combine the high-level features learned by the convolutional layers to make predictions. LeNet-5 has three fully connected layers:\n",
    "#### First Fully Connected Layer: 120 neurons.\n",
    "#### Second Fully Connected Layer: 84 neurons.\n",
    "#### Output Layer: Produces 10 outputs, corresponding to the 10 possible digit classes (0 to 9).\n",
    "### **5.Flattening:**\n",
    "\n",
    "#### Purpose: Before entering the fully connected layers, the feature maps are flattened into a vector. This allows for the transition from the spatial hierarchy learned by convolutional layers to the densely connected structure of fully connected layers.\n",
    "### **6.Softmax Activation:**\n",
    "\n",
    "#### Purpose: The softmax activation function is applied to the output layer. It converts the raw output scores into probability distributions over the possible classes, making it suitable for multi-class classification.\n",
    "### **7.Training Mechanism:**\n",
    "\n",
    "#### Purpose: LeNet-5 was trained using the backpropagation algorithm with stochastic gradient descent. The training mechanism involves updating the network's weights to minimize the difference between predicted and actual outputs.\n",
    "### **8.Sigmoid Activation Function:**\n",
    "\n",
    "#### Purpose: Sigmoid activation functions were used in the network at the time of LeNet-5's development. They introduce non-linearity to the network and squash the output values between 0 and 1."
   ]
  },
  {
   "cell_type": "markdown",
   "metadata": {},
   "source": [
    "## **Q3:-**\n",
    "### **Discuss the advantages and limitations of LeNet-5 in the context of image classification tasks.** "
   ]
  },
  {
   "cell_type": "markdown",
   "metadata": {},
   "source": [
    "### **Ans:-**"
   ]
  },
  {
   "cell_type": "markdown",
   "metadata": {},
   "source": [
    "## **Advantages of LeNet-5:**\n",
    "### **1.Pioneer in CNNs:**\n",
    "\n",
    "#### LeNet-5 was one of the pioneering architectures in the development of Convolutional Neural Networks (CNNs). It demonstrated the effectiveness of using convolutional and subsampling layers for hierarchical feature learning.\n",
    "### **2.Hierarchical Feature Extraction:**\n",
    "\n",
    "#### The architecture of LeNet-5 is designed to learn hierarchical features, starting from simple low-level features (detected by early layers) to more complex high-level features (detected by later layers). This hierarchical feature extraction is beneficial for capturing patterns at different scales.\n",
    "### **3.Translation Invariance:**\n",
    "\n",
    "#### Through the use of convolutional and pooling layers, LeNet-5 introduced the concept of achieving translation invariance, making the network robust to variations in the position of features within the input.\n",
    "### **4.Applicability to Handwritten Digits:**\n",
    "\n",
    "#### LeNet-5 was originally designed for handwritten digit recognition tasks and performed well on datasets like MNIST. Its architecture was suitable for capturing the spatial hierarchies present in handwritten digits.\n",
    "### **5.Simplicity and Interpretability:**\n",
    "\n",
    "#### The architecture of LeNet-5 is relatively simple compared to modern CNNs. Its simplicity makes it interpretable and easy to understand, which was valuable in the early days of deep learning.\n",
    "## **Limitations of LeNet-5:**\n",
    "### **1.Small Receptive Fields:**\n",
    "\n",
    "#### The small receptive fields in the early layers of LeNet-5 may limit its ability to capture global contextual information. In modern applications, deeper networks with larger receptive fields are often preferred for more complex tasks.\n",
    "### **2.Sigmoid Activation Function:**\n",
    "\n",
    "#### LeNet-5 uses the sigmoid activation function, which suffers from the vanishing gradient problem. Modern architectures commonly use rectified linear units (ReLU) to address this issue and accelerate convergence.\n",
    "### **3.Limited Capacity:**\n",
    "\n",
    "#### The capacity of LeNet-5 might be insufficient for handling the complexity of certain image classification tasks, especially those involving high-resolution images or more intricate patterns.\n",
    "### **4.Not Well-Suited for Large-Scale Datasets:**\n",
    "\n",
    "#### LeNet-5 may not scale well to larger datasets or more challenging tasks. Its architecture might not capture the richness of features present in more diverse and complex datasets.\n",
    "### **5.Lack of Batch Normalization and Dropout:**\n",
    "\n",
    "#### LeNet-5 does not incorporate modern regularization techniques like Batch Normalization and Dropout, which are commonly used in contemporary architectures to improve generalization and prevent overfitting.\n",
    "### **6.Limited Flexibility:**\n",
    "\n",
    "#### LeNet-5's fixed architecture and lack of flexibility may not be suitable for adapting to the diverse range of tasks encountered in modern computer vision applications. Customizing architectures based on specific requirements is more common today."
   ]
  },
  {
   "cell_type": "markdown",
   "metadata": {},
   "source": [
    "## **Q4:-**\n",
    "### **Implement LeNet-5 using a deep learning framework of your choice (e.g., TensorFlow, PyTorch) and train it on a publicly available dataset (e.g., MNIST). Evaluate its performance and provide insights.** "
   ]
  },
  {
   "cell_type": "markdown",
   "metadata": {},
   "source": [
    "### **Ans:-**"
   ]
  },
  {
   "cell_type": "code",
   "execution_count": 1,
   "metadata": {},
   "outputs": [
    {
     "name": "stdout",
     "output_type": "stream",
     "text": [
      "WARNING:tensorflow:From c:\\Users\\Abhi\\anaconda3\\Lib\\site-packages\\keras\\src\\losses.py:2976: The name tf.losses.sparse_softmax_cross_entropy is deprecated. Please use tf.compat.v1.losses.sparse_softmax_cross_entropy instead.\n",
      "\n"
     ]
    }
   ],
   "source": [
    "import tensorflow as tf\n",
    "import pandas as pd\n",
    "import matplotlib.pyplot as plt\n",
    "import seaborn as sns\n",
    "from tensorflow.keras import layers, models\n",
    "from tensorflow.keras.datasets import mnist\n",
    "from tensorflow.keras.utils import to_categorical"
   ]
  },
  {
   "cell_type": "markdown",
   "metadata": {},
   "source": [
    "```\n",
    " Load and preprocess the MNIST dataset\n",
    "```"
   ]
  },
  {
   "cell_type": "code",
   "execution_count": 2,
   "metadata": {},
   "outputs": [],
   "source": [
    "(train_images, train_labels), (test_images, test_labels) = mnist.load_data()\n",
    "train_images = train_images.reshape((60000, 28, 28, 1)).astype('float32') / 255\n",
    "test_images = test_images.reshape((10000, 28, 28, 1)).astype('float32') / 255\n",
    "train_labels = to_categorical(train_labels)\n",
    "test_labels = to_categorical(test_labels)"
   ]
  },
  {
   "cell_type": "markdown",
   "metadata": {},
   "source": [
    "```\n",
    " Build LeNet-5 architecture using TensorFlow\n",
    "```"
   ]
  },
  {
   "cell_type": "code",
   "execution_count": 3,
   "metadata": {},
   "outputs": [
    {
     "name": "stdout",
     "output_type": "stream",
     "text": [
      "WARNING:tensorflow:From c:\\Users\\Abhi\\anaconda3\\Lib\\site-packages\\keras\\src\\backend.py:873: The name tf.get_default_graph is deprecated. Please use tf.compat.v1.get_default_graph instead.\n",
      "\n"
     ]
    }
   ],
   "source": [
    "\n",
    "model = models.Sequential()\n",
    "model.add(layers.Conv2D(6, (5, 5), activation='sigmoid', input_shape=(28, 28, 1)))\n",
    "model.add(layers.AveragePooling2D((2, 2)))\n",
    "model.add(layers.Conv2D(16, (5, 5), activation='sigmoid'))\n",
    "model.add(layers.AveragePooling2D((2, 2)))\n",
    "model.add(layers.Flatten())\n",
    "model.add(layers.Dense(120, activation='sigmoid'))\n",
    "model.add(layers.Dense(84, activation='sigmoid'))\n",
    "model.add(layers.Dense(10, activation='softmax'))"
   ]
  },
  {
   "cell_type": "code",
   "execution_count": 4,
   "metadata": {},
   "outputs": [
    {
     "name": "stdout",
     "output_type": "stream",
     "text": [
      "WARNING:tensorflow:From c:\\Users\\Abhi\\anaconda3\\Lib\\site-packages\\keras\\src\\optimizers\\__init__.py:309: The name tf.train.Optimizer is deprecated. Please use tf.compat.v1.train.Optimizer instead.\n",
      "\n"
     ]
    }
   ],
   "source": [
    "model.compile(optimizer='adam', loss='categorical_crossentropy', metrics=['accuracy'])\n"
   ]
  },
  {
   "cell_type": "code",
   "execution_count": 5,
   "metadata": {},
   "outputs": [
    {
     "name": "stdout",
     "output_type": "stream",
     "text": [
      "Epoch 1/10\n",
      "WARNING:tensorflow:From c:\\Users\\Abhi\\anaconda3\\Lib\\site-packages\\keras\\src\\utils\\tf_utils.py:492: The name tf.ragged.RaggedTensorValue is deprecated. Please use tf.compat.v1.ragged.RaggedTensorValue instead.\n",
      "\n",
      "WARNING:tensorflow:From c:\\Users\\Abhi\\anaconda3\\Lib\\site-packages\\keras\\src\\engine\\base_layer_utils.py:384: The name tf.executing_eagerly_outside_functions is deprecated. Please use tf.compat.v1.executing_eagerly_outside_functions instead.\n",
      "\n",
      "750/750 [==============================] - 6s 6ms/step - loss: 1.1946 - accuracy: 0.6088 - val_loss: 0.4014 - val_accuracy: 0.8863\n",
      "Epoch 2/10\n",
      "750/750 [==============================] - 3s 5ms/step - loss: 0.3304 - accuracy: 0.9026 - val_loss: 0.2413 - val_accuracy: 0.9287\n",
      "Epoch 3/10\n",
      "750/750 [==============================] - 3s 5ms/step - loss: 0.2254 - accuracy: 0.9316 - val_loss: 0.1817 - val_accuracy: 0.9449\n",
      "Epoch 4/10\n",
      "750/750 [==============================] - 4s 5ms/step - loss: 0.1704 - accuracy: 0.9474 - val_loss: 0.1477 - val_accuracy: 0.9543\n",
      "Epoch 5/10\n",
      "750/750 [==============================] - 4s 5ms/step - loss: 0.1345 - accuracy: 0.9591 - val_loss: 0.1200 - val_accuracy: 0.9637\n",
      "Epoch 6/10\n",
      "750/750 [==============================] - 4s 5ms/step - loss: 0.1106 - accuracy: 0.9664 - val_loss: 0.0971 - val_accuracy: 0.9700\n",
      "Epoch 7/10\n",
      "750/750 [==============================] - 4s 5ms/step - loss: 0.0945 - accuracy: 0.9712 - val_loss: 0.0862 - val_accuracy: 0.9728\n",
      "Epoch 8/10\n",
      "750/750 [==============================] - 4s 5ms/step - loss: 0.0828 - accuracy: 0.9744 - val_loss: 0.0787 - val_accuracy: 0.9758\n",
      "Epoch 9/10\n",
      "750/750 [==============================] - 4s 5ms/step - loss: 0.0745 - accuracy: 0.9769 - val_loss: 0.0759 - val_accuracy: 0.9765\n",
      "Epoch 10/10\n",
      "750/750 [==============================] - 4s 5ms/step - loss: 0.0675 - accuracy: 0.9793 - val_loss: 0.0742 - val_accuracy: 0.9769\n"
     ]
    }
   ],
   "source": [
    "history=model.fit(train_images, train_labels, epochs=10, batch_size=64, validation_split=0.2)\n"
   ]
  },
  {
   "cell_type": "code",
   "execution_count": 6,
   "metadata": {},
   "outputs": [
    {
     "name": "stdout",
     "output_type": "stream",
     "text": [
      "313/313 [==============================] - 1s 2ms/step - loss: 0.0688 - accuracy: 0.9785\n",
      "Test accuracy: 0.9785000085830688\n"
     ]
    }
   ],
   "source": [
    "\n",
    "test_loss, test_acc = model.evaluate(test_images, test_labels)\n",
    "print(f'Test accuracy: {test_acc}')"
   ]
  },
  {
   "cell_type": "code",
   "execution_count": 7,
   "metadata": {},
   "outputs": [
    {
     "data": {
      "text/html": [
       "<div>\n",
       "<style scoped>\n",
       "    .dataframe tbody tr th:only-of-type {\n",
       "        vertical-align: middle;\n",
       "    }\n",
       "\n",
       "    .dataframe tbody tr th {\n",
       "        vertical-align: top;\n",
       "    }\n",
       "\n",
       "    .dataframe thead th {\n",
       "        text-align: right;\n",
       "    }\n",
       "</style>\n",
       "<table border=\"1\" class=\"dataframe\">\n",
       "  <thead>\n",
       "    <tr style=\"text-align: right;\">\n",
       "      <th></th>\n",
       "      <th>loss</th>\n",
       "      <th>accuracy</th>\n",
       "      <th>val_loss</th>\n",
       "      <th>val_accuracy</th>\n",
       "    </tr>\n",
       "  </thead>\n",
       "  <tbody>\n",
       "    <tr>\n",
       "      <th>0</th>\n",
       "      <td>1.194649</td>\n",
       "      <td>0.608813</td>\n",
       "      <td>0.401407</td>\n",
       "      <td>0.886250</td>\n",
       "    </tr>\n",
       "    <tr>\n",
       "      <th>1</th>\n",
       "      <td>0.330385</td>\n",
       "      <td>0.902625</td>\n",
       "      <td>0.241253</td>\n",
       "      <td>0.928667</td>\n",
       "    </tr>\n",
       "    <tr>\n",
       "      <th>2</th>\n",
       "      <td>0.225357</td>\n",
       "      <td>0.931604</td>\n",
       "      <td>0.181717</td>\n",
       "      <td>0.944917</td>\n",
       "    </tr>\n",
       "    <tr>\n",
       "      <th>3</th>\n",
       "      <td>0.170429</td>\n",
       "      <td>0.947438</td>\n",
       "      <td>0.147677</td>\n",
       "      <td>0.954333</td>\n",
       "    </tr>\n",
       "    <tr>\n",
       "      <th>4</th>\n",
       "      <td>0.134537</td>\n",
       "      <td>0.959063</td>\n",
       "      <td>0.120045</td>\n",
       "      <td>0.963667</td>\n",
       "    </tr>\n",
       "    <tr>\n",
       "      <th>5</th>\n",
       "      <td>0.110626</td>\n",
       "      <td>0.966396</td>\n",
       "      <td>0.097109</td>\n",
       "      <td>0.970000</td>\n",
       "    </tr>\n",
       "    <tr>\n",
       "      <th>6</th>\n",
       "      <td>0.094509</td>\n",
       "      <td>0.971208</td>\n",
       "      <td>0.086206</td>\n",
       "      <td>0.972750</td>\n",
       "    </tr>\n",
       "    <tr>\n",
       "      <th>7</th>\n",
       "      <td>0.082804</td>\n",
       "      <td>0.974396</td>\n",
       "      <td>0.078696</td>\n",
       "      <td>0.975833</td>\n",
       "    </tr>\n",
       "    <tr>\n",
       "      <th>8</th>\n",
       "      <td>0.074450</td>\n",
       "      <td>0.976917</td>\n",
       "      <td>0.075853</td>\n",
       "      <td>0.976500</td>\n",
       "    </tr>\n",
       "    <tr>\n",
       "      <th>9</th>\n",
       "      <td>0.067469</td>\n",
       "      <td>0.979333</td>\n",
       "      <td>0.074234</td>\n",
       "      <td>0.976917</td>\n",
       "    </tr>\n",
       "  </tbody>\n",
       "</table>\n",
       "</div>"
      ],
      "text/plain": [
       "       loss  accuracy  val_loss  val_accuracy\n",
       "0  1.194649  0.608813  0.401407      0.886250\n",
       "1  0.330385  0.902625  0.241253      0.928667\n",
       "2  0.225357  0.931604  0.181717      0.944917\n",
       "3  0.170429  0.947438  0.147677      0.954333\n",
       "4  0.134537  0.959063  0.120045      0.963667\n",
       "5  0.110626  0.966396  0.097109      0.970000\n",
       "6  0.094509  0.971208  0.086206      0.972750\n",
       "7  0.082804  0.974396  0.078696      0.975833\n",
       "8  0.074450  0.976917  0.075853      0.976500\n",
       "9  0.067469  0.979333  0.074234      0.976917"
      ]
     },
     "execution_count": 7,
     "metadata": {},
     "output_type": "execute_result"
    }
   ],
   "source": [
    "pd.DataFrame(history.history)"
   ]
  },
  {
   "cell_type": "code",
   "execution_count": 8,
   "metadata": {},
   "outputs": [
    {
     "data": {
      "text/plain": [
       "<Axes: >"
      ]
     },
     "execution_count": 8,
     "metadata": {},
     "output_type": "execute_result"
    },
    {
     "data": {
      "image/png": "[encoded data removed]",
      "text/plain": [
       "<Figure size 640x480 with 1 Axes>"
      ]
     },
     "metadata": {},
     "output_type": "display_data"
    }
   ],
   "source": [
    "pd.DataFrame(history.history).plot()"
   ]
  },
  {
   "cell_type": "code",
   "execution_count": null,
   "metadata": {},
   "outputs": [],
   "source": []
  },
  {
   "cell_type": "markdown",
   "metadata": {},
   "source": [
    "# **TOPIC: Analyzing AlexNet**"
   ]
  },
  {
   "cell_type": "markdown",
   "metadata": {},
   "source": [
    "## **Q1:-**\n",
    "### **Present an overview of the AlexNet architecture.** "
   ]
  },
  {
   "cell_type": "markdown",
   "metadata": {},
   "source": [
    "### **Ans:-**"
   ]
  },
  {
   "cell_type": "markdown",
   "metadata": {},
   "source": [
    "#### AlexNet is a deep convolutional neural network architecture designed for image classification. Introduced by Alex Krizhevsky, Ilya Sutskever, and Geoffrey Hinton in 2012, AlexNet achieved a breakthrough in computer vision tasks, particularly winning the ImageNet Large Scale Visual Recognition Challenge (ILSVRC) in 2012. Here's an overview of the AlexNet architecture:\n",
    "\n",
    "### **1.Input Layer:**\n",
    "\n",
    "#### The network takes as input a fixed-size RGB image. In the case of the ILSVRC, the input images were 224x224 pixels.\n",
    "### **2.Convolutional Layers:**\n",
    "\n",
    "#### The first five layers are convolutional layers. These layers are responsible for learning hierarchical features of increasing complexity.\n",
    "#### The convolutional layers have varying filter sizes: the first convolutional layer uses 11x11 filters, while the subsequent layers use 3x3 filters.\n",
    "#### Rectified Linear Units (ReLU) are applied as activation functions after each convolutional layer.\n",
    "### **3.Max-Pooling Layers:**\n",
    "\n",
    "#### After the first and second convolutional layers, max-pooling layers are employed to downsample the spatial dimensions of the feature maps. This helps in reducing computational complexity and creating translation invariance.\n",
    "### **4..Local Response Normalization (LRN):**\n",
    "\n",
    "#### LRN is applied after the first and second convolutional layers. It helps normalize the responses across adjacent channels, enhancing the model's generalization.\n",
    "### **5.Fully Connected Layers:**\n",
    "\n",
    "#### The last three layers of AlexNet are fully connected layers. The first two fully connected layers have 4096 neurons each, and the third fully connected layer has 1000 neurons, corresponding to the number of classes in the ILSVRC dataset.\n",
    "#### ReLU activation is applied after the fully connected layers.\n",
    "#### Dropout is used in the fully connected layers during training to prevent overfitting.\n",
    "### **6.Output Layer:**\n",
    "\n",
    "#### The output layer consists of 1000 neurons, each corresponding to one of the ImageNet classes. The softmax activation function is applied to produce probability scores for each class.\n",
    "### **7..Training Techniques:**\n",
    "\n",
    "#### Data augmentation is applied during training, involving random transformations of the input data (e.g., cropping, flipping) to increase the diversity of the training set.\n",
    "#### The network is trained using stochastic gradient descent (SGD) with momentum. GPU acceleration is employed to speed up the training process."
   ]
  },
  {
   "cell_type": "markdown",
   "metadata": {},
   "source": [
    "## **Q2:-** \n",
    "### **Explain the architectural innovations introduced in AlexNet that contributed to its breakthrough performance**"
   ]
  },
  {
   "cell_type": "markdown",
   "metadata": {},
   "source": [
    "### **Ans:-**"
   ]
  },
  {
   "cell_type": "markdown",
   "metadata": {},
   "source": [
    "### **1.Deep Architecture:**\n",
    "\n",
    "#### AlexNet was one of the first deep convolutional neural networks (CNNs) to demonstrate the effectiveness of deep learning for image classification. It consisted of eight layers, five convolutional layers followed by three fully connected layers, making it significantly deeper than previous models.\n",
    "### **2.Convolutional Layers:**\n",
    "\n",
    "#### The convolutional layers in AlexNet used a small receptive field size (3x3), which allows the network to learn local features and capture more complex patterns. Additionally, the convolutional layers were designed to operate with a stride of 1, preserving spatial resolution and capturing fine details.\n",
    "### **3.ReLU Activation Function:**\n",
    "\n",
    "#### AlexNet used Rectified Linear Units (ReLU) as the activation function for the hidden layers. ReLU introduces non-linearity to the model and helps in mitigating the vanishing gradient problem, enabling faster convergence during training.\n",
    "### **4.Local Response Normalization (LRN):**\n",
    "\n",
    "#### LRN was applied after the ReLU activation in the convolutional layers. This normalization scheme helped enhance the model's generalization ability by promoting competition among neurons, making the network less sensitive to variations in input data.\n",
    "### **5.Overlapping Max-Pooling:**\n",
    "\n",
    "#### Max-pooling layers were employed to downsample the spatial dimensions of the feature maps. In AlexNet, max-pooling was performed with a stride of 2 and a pool size of 3x3, resulting in overlapping pooling regions. This contributed to better translation invariance and helped the network learn more robust features.\n",
    "### **6.Dropout:**\n",
    "\n",
    "#### AlexNet used dropout in the fully connected layers during training. Dropout involves randomly dropping out a fraction of neurons during each training iteration, which helps prevent overfitting by promoting the learning of more robust features.\n",
    "### **7.Data Augmentation:**\n",
    "\n",
    "#### The training dataset was augmented by applying random transformations such as cropping, flipping, and adjusting brightness. Data augmentation helped the model generalize better to variations in the input data.\n",
    "### **8.GPU Acceleration:**\n",
    "\n",
    "#### AlexNet was one of the first deep learning models to leverage the power of Graphics Processing Units (GPUs) for training. The parallel processing capability of GPUs significantly accelerated the training time, allowing researchers to experiment with larger and deeper neural networks."
   ]
  },
  {
   "cell_type": "markdown",
   "metadata": {},
   "source": [
    "## **Q3:-**\n",
    "\n",
    "### **Discuss the role of convolutional layers, pooling layers, and fully connected layers in AlexNet.** "
   ]
  },
  {
   "cell_type": "markdown",
   "metadata": {},
   "source": [
    "### **Ans:-**"
   ]
  },
  {
   "cell_type": "markdown",
   "metadata": {},
   "source": [
    "### **1.Convolutional Layers:**\n",
    "\n",
    "#### AlexNet starts with five convolutional layers. These layers are responsible for learning local patterns and features in the input images.\n",
    "#### The first convolutional layer has a large receptive field (kernel size of 11x11) and a stride of 4, which helps capture large-scale features in the input image.\n",
    "#### The subsequent convolutional layers use smaller kernel sizes (3x3 and 5x5) and have a stride of 1, allowing them to capture finer details and higher-level features.\n",
    "### **2.Pooling Layers:**\n",
    "\n",
    "#### AlexNet uses max-pooling layers to downsample the spatial dimensions of the feature maps. Max-pooling helps reduce the computational complexity and provides a form of translation invariance.\n",
    "#### Max-pooling is applied after the first, second, and fifth convolutional layers. It involves taking the maximum value within a certain window (2x2) and moving that window with a certain stride.\n",
    "### **3.Fully Connected Layers:**\n",
    "\n",
    "#### AlexNet follows the convolutional and pooling layers with three fully connected layers at the end of the network. These layers are responsible for combining high-level features and making predictions.\n",
    "#### The fully connected layers have a large number of parameters and are prone to overfitting. To mitigate this, AlexNet employs dropout in the fully connected layers during training.\n",
    "#### The final fully connected layer produces the output logits for each class in the classification task.\n",
    "### **4.ReLU Activation Function:**\n",
    "\n",
    "#### Rectified Linear Unit (ReLU) activation functions are used after each convolutional and fully connected layer, introducing non-linearity to the model.\n",
    "#### ReLU helps the network learn complex patterns and representations in the data.\n",
    "### **5.Local Response Normalization (LRN):**\n",
    "\n",
    "#### AlexNet uses local response normalization in the first and second convolutional layers. This normalization encourages competition among neurons and enhances the model's generalization.\n",
    "### **6.Adaptive Average Pooling:**\n",
    "\n",
    "#### Instead of using a fixed-size fully connected layer at the end, AlexNet employs adaptive average pooling. This operation ensures that the network produces a fixed-size output regardless of the input size, providing better generalization."
   ]
  },
  {
   "cell_type": "markdown",
   "metadata": {},
   "source": [
    "## **Q4:-**\n",
    "### **Implement AlexNet using a deep learning framework of your choice and evaluate its performance on a dataset of your choice.**"
   ]
  },
  {
   "cell_type": "markdown",
   "metadata": {},
   "source": [
    "### **Ans:-**"
   ]
  },
  {
   "cell_type": "code",
   "execution_count": 9,
   "metadata": {},
   "outputs": [],
   "source": [
    "import tensorflow as tf\n",
    "import matplotlib.pyplot as plt\n",
    "from tensorflow.keras import datasets, layers, models, losses"
   ]
  },
  {
   "cell_type": "code",
   "execution_count": 10,
   "metadata": {},
   "outputs": [],
   "source": [
    "(x_train,y_train),(x_test,y_test) = datasets.mnist.load_data()\n",
    "x_train = tf.pad(x_train, [[0, 0], [2,2], [2,2]])/255\n",
    "x_test = tf.pad(x_test, [[0, 0], [2,2], [2,2]])/255\n",
    "x_train = tf.expand_dims(x_train, axis=3, name=None)\n",
    "x_test = tf.expand_dims(x_test, axis=3, name=None)\n",
    "x_train = tf.repeat(x_train, 3, axis=3)\n",
    "x_test = tf.repeat(x_test, 3, axis=3)\n",
    "x_val = x_train[-2000:,:,:,:]\n",
    "y_val = y_train[-2000:]\n",
    "x_train = x_train[:-2000,:,:,:]\n",
    "y_train = y_train[:-2000]"
   ]
  },
  {
   "cell_type": "code",
   "execution_count": 11,
   "metadata": {},
   "outputs": [
    {
     "name": "stdout",
     "output_type": "stream",
     "text": [
      "WARNING:tensorflow:From c:\\Users\\Abhi\\anaconda3\\Lib\\site-packages\\keras\\src\\layers\\pooling\\max_pooling2d.py:161: The name tf.nn.max_pool is deprecated. Please use tf.nn.max_pool2d instead.\n",
      "\n",
      "Model: \"sequential_1\"\n",
      "_________________________________________________________________\n",
      " Layer (type)                Output Shape              Param #   \n",
      "=================================================================\n",
      " resizing (Resizing)         (None, 224, 224, 3)       0         \n",
      "                                                                 \n",
      " conv2d_2 (Conv2D)           (None, 56, 56, 96)        34944     \n",
      "                                                                 \n",
      " lambda (Lambda)             (None, 56, 56, 96)        0         \n",
      "                                                                 \n",
      " activation (Activation)     (None, 56, 56, 96)        0         \n",
      "                                                                 \n",
      " max_pooling2d (MaxPooling2  (None, 27, 27, 96)        0         \n",
      " D)                                                              \n",
      "                                                                 \n",
      " conv2d_3 (Conv2D)           (None, 7, 7, 256)         614656    \n",
      "                                                                 \n",
      " lambda_1 (Lambda)           (None, 7, 7, 256)         0         \n",
      "                                                                 \n",
      " activation_1 (Activation)   (None, 7, 7, 256)         0         \n",
      "                                                                 \n",
      " max_pooling2d_1 (MaxPoolin  (None, 3, 3, 256)         0         \n",
      " g2D)                                                            \n",
      "                                                                 \n",
      " conv2d_4 (Conv2D)           (None, 1, 1, 384)         885120    \n",
      "                                                                 \n",
      " activation_2 (Activation)   (None, 1, 1, 384)         0         \n",
      "                                                                 \n",
      " conv2d_5 (Conv2D)           (None, 1, 1, 384)         1327488   \n",
      "                                                                 \n",
      " activation_3 (Activation)   (None, 1, 1, 384)         0         \n",
      "                                                                 \n",
      " conv2d_6 (Conv2D)           (None, 1, 1, 256)         884992    \n",
      "                                                                 \n",
      " activation_4 (Activation)   (None, 1, 1, 256)         0         \n",
      "                                                                 \n",
      " flatten_1 (Flatten)         (None, 256)               0         \n",
      "                                                                 \n",
      " dense_3 (Dense)             (None, 4096)              1052672   \n",
      "                                                                 \n",
      " dropout (Dropout)           (None, 4096)              0         \n",
      "                                                                 \n",
      " dense_4 (Dense)             (None, 4096)              16781312  \n",
      "                                                                 \n",
      " dropout_1 (Dropout)         (None, 4096)              0         \n",
      "                                                                 \n",
      " dense_5 (Dense)             (None, 10)                40970     \n",
      "                                                                 \n",
      "=================================================================\n",
      "Total params: 21622154 (82.48 MB)\n",
      "Trainable params: 21622154 (82.48 MB)\n",
      "Non-trainable params: 0 (0.00 Byte)\n",
      "_________________________________________________________________\n"
     ]
    }
   ],
   "source": [
    "model = models.Sequential()\n",
    "model.add(layers.experimental.preprocessing.Resizing(224, 224, interpolation=\"bilinear\", input_shape=x_train.shape[1:]))\n",
    "model.add(layers.Conv2D(96, 11, strides=4, padding='same'))\n",
    "model.add(layers.Lambda(tf.nn.local_response_normalization))\n",
    "model.add(layers.Activation('relu'))\n",
    "model.add(layers.MaxPooling2D(3, strides=2))\n",
    "model.add(layers.Conv2D(256, 5, strides=4, padding='same'))\n",
    "model.add(layers.Lambda(tf.nn.local_response_normalization))\n",
    "model.add(layers.Activation('relu'))\n",
    "model.add(layers.MaxPooling2D(3, strides=2))\n",
    "model.add(layers.Conv2D(384, 3, strides=4, padding='same'))\n",
    "model.add(layers.Activation('relu'))\n",
    "model.add(layers.Conv2D(384, 3, strides=4, padding='same'))\n",
    "model.add(layers.Activation('relu'))\n",
    "model.add(layers.Conv2D(256, 3, strides=4, padding='same'))\n",
    "model.add(layers.Activation('relu'))\n",
    "model.add(layers.Flatten())\n",
    "model.add(layers.Dense(4096, activation='relu'))\n",
    "model.add(layers.Dropout(0.5))\n",
    "model.add(layers.Dense(4096, activation='relu'))\n",
    "model.add(layers.Dropout(0.5))\n",
    "model.add(layers.Dense(10, activation='softmax'))\n",
    "model.summary()"
   ]
  },
  {
   "cell_type": "code",
   "execution_count": 12,
   "metadata": {},
   "outputs": [
    {
     "name": "stdout",
     "output_type": "stream",
     "text": [
      "907/907 [==============================] - 726s 798ms/step - loss: 0.4206 - accuracy: 0.8523 - val_loss: 0.0631 - val_accuracy: 0.9865\n"
     ]
    }
   ],
   "source": [
    "model.compile(optimizer='adam', loss=losses.sparse_categorical_crossentropy, metrics=['accuracy'])\n",
    "history = model.fit(x_train, y_train, batch_size=64, epochs=1, validation_data=(x_val, y_val))"
   ]
  },
  {
   "cell_type": "code",
   "execution_count": 13,
   "metadata": {},
   "outputs": [
    {
     "data": {
      "text/plain": [
       "<matplotlib.legend.Legend at 0x16771675a10>"
      ]
     },
     "execution_count": 13,
     "metadata": {},
     "output_type": "execute_result"
    },
    {
     "data": {
      "image/png": "[encoded data removed]",
      "text/plain": [
       "<Figure size 1500x1500 with 2 Axes>"
      ]
     },
     "metadata": {},
     "output_type": "display_data"
    }
   ],
   "source": [
    "fig, axs = plt.subplots(2, 1, figsize=(15,15))\n",
    "axs[0].plot(history.history['loss'])\n",
    "axs[0].plot(history.history['val_loss'])\n",
    "axs[0].title.set_text('Training Loss vs Validation Loss')\n",
    "axs[0].set_xlabel('Epochs')\n",
    "axs[0].set_ylabel('Loss')\n",
    "axs[0].legend(['Train', 'Val'])\n",
    "axs[1].plot(history.history['accuracy'])\n",
    "axs[1].plot(history.history['val_accuracy'])\n",
    "axs[1].title.set_text('Training Accuracy vs Validation Accuracy')\n",
    "axs[1].set_xlabel('Epochs')\n",
    "axs[1].set_ylabel('Accuracy')\n",
    "axs[1].legend(['Train', 'Val'])"
   ]
  },
  {
   "cell_type": "code",
   "execution_count": 14,
   "metadata": {},
   "outputs": [
    {
     "name": "stdout",
     "output_type": "stream",
     "text": [
      "313/313 [==============================] - 38s 120ms/step - loss: 0.0742 - accuracy: 0.9778\n"
     ]
    },
    {
     "data": {
      "text/plain": [
       "[0.07422307878732681, 0.9778000116348267]"
      ]
     },
     "execution_count": 14,
     "metadata": {},
     "output_type": "execute_result"
    }
   ],
   "source": [
    "model.evaluate(x_test, y_test)"
   ]
  }
 ],
 "metadata": {
  "kernelspec": {
   "display_name": "base",
   "language": "python",
   "name": "python3"
  },
  "language_info": {
   "codemirror_mode": {
    "name": "ipython",
    "version": 3
   },
   "file_extension": ".py",
   "mimetype": "text/x-python",
   "name": "python",
   "nbconvert_exporter": "python",
   "pygments_lexer": "ipython3",
   "version": "3.11.5"
  }
 },
 "nbformat": 4,
 "nbformat_minor": 2
}
