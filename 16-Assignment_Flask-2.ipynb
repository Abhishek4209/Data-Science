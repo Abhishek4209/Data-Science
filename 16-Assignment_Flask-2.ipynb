{
 "cells": [
  {
   "cell_type": "code",
   "execution_count": 2,
   "metadata": {},
   "outputs": [],
   "source": [
    "from flask import Flask"
   ]
  },
  {
   "cell_type": "markdown",
   "metadata": {},
   "source": [
    "## **Q1:-**\n",
    "### **Explain GET and POST methods.**"
   ]
  },
  {
   "cell_type": "markdown",
   "metadata": {},
   "source": [
    "### **Ans:-**"
   ]
  },
  {
   "cell_type": "markdown",
   "metadata": {},
   "source": [
    "### **GET Method:**\n",
    "\n",
    "#### Purpose: The GET method is used to request data from a specified resource.\n",
    "#### Data Transmission: Data is appended to the URL in the form of parameters. This means that the data is visible in the URL, and it has limitations on the amount of data that can be sent. The data is included in the URL after a question mark (?), and multiple parameters are separated by ampersands (&).\n",
    "#### Caching: GET requests can be cached, and they can be bookmarked and remain in the browser history, making them suitable for retrieving data that doesn't change frequently.\n",
    "#### Idempotent: GET requests are considered idempotent, meaning that making the same request multiple times should have the same effect as making it once."
   ]
  },
  {
   "cell_type": "markdown",
   "metadata": {},
   "source": [
    "### **POST Method:**\n",
    "\n",
    "#### Purpose: The POST method is used to submit data to be processed to a specified resource.\n",
    "#### Data Transmission: Data is sent in the request body, rather than in the URL. This allows for the transmission of larger amounts of data and is more secure than GET because the data is not visible in the URL.\n",
    "#### Security: POST requests are not cached, and they do not remain in the browser history, making them more suitable for sensitive data or operations that should not be repeated unintentionally."
   ]
  },
  {
   "cell_type": "markdown",
   "metadata": {},
   "source": [
    "## **Q2:-** \n",
    "### **Why is request used in Flask?**"
   ]
  },
  {
   "cell_type": "markdown",
   "metadata": {},
   "source": [
    "### **Ans:-**"
   ]
  },
  {
   "cell_type": "markdown",
   "metadata": {},
   "source": [
    "### **In Flask, the request object is a part of the Flask framework and is used to handle incoming HTTP requests. It provides a convenient way to access and manipulate data that is sent by a client (e.g., a web browser) as part of an HTTP request. The request object allows you to extract information from the request, such as form data, query parameters, headers, and more.**"
   ]
  },
  {
   "cell_type": "markdown",
   "metadata": {},
   "source": [
    "#### **1.Accessing Form Data:**\n",
    "##### **When a user submits an HTML form, the data is typically sent to the server as part of the HTTP request. The request object allows you to access this form data in your Flask route handlers.**"
   ]
  },
  {
   "cell_type": "code",
   "execution_count": 3,
   "metadata": {},
   "outputs": [],
   "source": [
    "from flask import Flask, request\n",
    "\n",
    "app = Flask(__name__)\n",
    "\n",
    "@app.route('/submit_form', methods=['POST'])\n",
    "def submit_form():\n",
    "    username = request.form['username']\n",
    "    password = request.form['password']\n",
    "    # Process the form data...\n"
   ]
  },
  {
   "cell_type": "markdown",
   "metadata": {},
   "source": [
    "### **2.Handling Query Parameters:**\n",
    "\n",
    "#### When data is sent in the URL as query parameters, the request object can be used to retrieve and process this data."
   ]
  },
  {
   "cell_type": "code",
   "execution_count": 4,
   "metadata": {},
   "outputs": [],
   "source": [
    "from flask import Flask, request\n",
    "\n",
    "app = Flask(__name__)\n",
    "\n",
    "@app.route('/search', methods=['GET'])\n",
    "def search():\n",
    "    query = request.args.get('q')\n",
    "    # Perform a search based on the query parameter...\n"
   ]
  },
  {
   "cell_type": "markdown",
   "metadata": {},
   "source": [
    "### **3.Working with Cookies:**\n",
    "\n",
    "#### **The request object allows you to access cookies sent by the client and to set cookies in the response.**"
   ]
  },
  {
   "cell_type": "code",
   "execution_count": 5,
   "metadata": {},
   "outputs": [],
   "source": [
    "from flask import Flask, request\n",
    "\n",
    "app = Flask(__name__)\n",
    "\n",
    "@app.route('/')\n",
    "def index():\n",
    "    username = request.cookies.get('username')\n",
    "    # Process the username stored in the cookie...\n"
   ]
  },
  {
   "cell_type": "markdown",
   "metadata": {},
   "source": [
    "#### **4.Accessing Headers:**\n",
    "##### Information about the HTTP request, such as headers, can be accessed using the request object."
   ]
  },
  {
   "cell_type": "code",
   "execution_count": 6,
   "metadata": {},
   "outputs": [],
   "source": [
    "from flask import Flask, request\n",
    "\n",
    "app = Flask(__name__)\n",
    "\n",
    "@app.route('/user_agent')\n",
    "def user_agent():\n",
    "    user_agent = request.headers.get('User-Agent')\n",
    "    # Access and process the User-Agent header...\n"
   ]
  },
  {
   "cell_type": "markdown",
   "metadata": {},
   "source": [
    "## **Q3:-** \n",
    "### **Why is redirect() used in Flask?**"
   ]
  },
  {
   "cell_type": "markdown",
   "metadata": {},
   "source": [
    "### **Ans:-**"
   ]
  },
  {
   "cell_type": "markdown",
   "metadata": {},
   "source": [
    "### **In Flask, the redirect() function is used to perform a redirection to another endpoint or URL. This function is often employed in web applications to guide the user to a different page or route after a particular action has been performed. The primary use cases for redirect() include:**"
   ]
  },
  {
   "cell_type": "markdown",
   "metadata": {},
   "source": [
    "### **1.After Form Submission:**\n",
    "\n",
    "#### When a user submits a form on a webpage, the server processes the form data, and in many cases, it's desirable to redirect the user to a different page to display the results or a success message. This helps prevent issues related to browser reloads and ensures a clean separation between form submission logic and the display of results."
   ]
  },
  {
   "cell_type": "code",
   "execution_count": 7,
   "metadata": {},
   "outputs": [],
   "source": [
    "from flask import Flask, render_template, request, redirect, url_for\n",
    "\n",
    "app = Flask(__name__)\n",
    "\n",
    "@app.route('/submit_form', methods=['POST'])\n",
    "def submit_form():\n",
    "    # Process form data...\n",
    "    return redirect(url_for('success'))\n",
    "@app.route('/success')\n",
    "def success():\n",
    "    return render_template('success.html')\n"
   ]
  },
  {
   "cell_type": "markdown",
   "metadata": {},
   "source": [
    "### **2.After Authentication or Login:**\n",
    "\n",
    "#### After a user successfully logs in or is authenticated, it's common to redirect them to their dashboard or a specific page for authenticated users."
   ]
  },
  {
   "cell_type": "code",
   "execution_count": 8,
   "metadata": {},
   "outputs": [],
   "source": [
    "from flask import Flask, render_template, request, redirect, url_for\n",
    "\n",
    "app = Flask(__name__)\n",
    "\n",
    "@app.route('/login', methods=['POST'])\n",
    "def login():\n",
    "    # Authenticate user...\n",
    "    return redirect(url_for('dashboard'))\n",
    "\n",
    "@app.route('/dashboard')\n",
    "def dashboard():\n",
    "    return render_template('dashboard.html')\n"
   ]
  },
  {
   "cell_type": "markdown",
   "metadata": {},
   "source": [
    "## **Q4:-**\n",
    "### **What are templates in Flask? Why is the render_template() function used?**"
   ]
  },
  {
   "cell_type": "markdown",
   "metadata": {},
   "source": [
    "### **Ans:-**"
   ]
  },
  {
   "cell_type": "markdown",
   "metadata": {},
   "source": [
    "### **In Flask, templates are used to generate dynamic HTML content. Templates allow you to embed dynamic data within HTML files, making it easier to create web pages that can display different content based on variables, user input, or other dynamic factors.**\n",
    "\n",
    "### **The render_template() function in Flask is used to render templates. This function takes the name of the template file as its first argument and additional keyword arguments representing variables that should be passed to the template. The template file is typically stored in the \"templates\" folder within your Flask project.**"
   ]
  },
  {
   "cell_type": "code",
   "execution_count": 9,
   "metadata": {},
   "outputs": [],
   "source": [
    "from flask import Flask, render_template\n",
    "\n",
    "app = Flask(__name__)\n",
    "\n",
    "@app.route('/')\n",
    "def index():\n",
    "    # Some dynamic data\n",
    "    message = \"Hello, Flask!\"\n",
    "\n",
    "    # Render the template with the dynamic data\n",
    "    return render_template('index.html', message=message)\n"
   ]
  },
  {
   "cell_type": "markdown",
   "metadata": {},
   "source": [
    "### the render_template() function is used to render the \"index.html\" template and pass the message variable to it. The template file can then use this variable to display dynamic content.\n",
    "\n",
    "### Here's a simplified example of what \"index.html\" might look like:"
   ]
  },
  {
   "cell_type": "code",
   "execution_count": 10,
   "metadata": {},
   "outputs": [],
   "source": [
    "# <!DOCTYPE html>\n",
    "# <html>\n",
    "# <head>\n",
    "#     <title>Flask Template Example</title>\n",
    "# </head>\n",
    "# <body>\n",
    "#     <h1>{{ message }}</h1>\n",
    "# </body>\n",
    "# </html>\n"
   ]
  },
  {
   "cell_type": "markdown",
   "metadata": {},
   "source": [
    "## **Q5:-**\n",
    "### **Create a simple API. Use Postman to test it. Attach the screenshot of the output in the Jupyter Notebook.**"
   ]
  },
  {
   "cell_type": "markdown",
   "metadata": {},
   "source": [
    "### **Ans:-**"
   ]
  },
  {
   "cell_type": "code",
   "execution_count": 11,
   "metadata": {},
   "outputs": [
    {
     "name": "stdout",
     "output_type": "stream",
     "text": [
      " * Serving Flask app '__main__'\n",
      " * Debug mode: on\n"
     ]
    },
    {
     "name": "stderr",
     "output_type": "stream",
     "text": [
      "WARNING: This is a development server. Do not use it in a production deployment. Use a production WSGI server instead.\n",
      " * Running on http://127.0.0.1:5000\n",
      "Press CTRL+C to quit\n",
      " * Restarting with watchdog (windowsapi)\n"
     ]
    },
    {
     "ename": "SystemExit",
     "evalue": "1",
     "output_type": "error",
     "traceback": [
      "An exception has occurred, use %tb to see the full traceback.\n",
      "\u001b[1;31mSystemExit\u001b[0m\u001b[1;31m:\u001b[0m 1\n"
     ]
    },
    {
     "name": "stderr",
     "output_type": "stream",
     "text": [
      "C:\\Users\\Abhi\\AppData\\Roaming\\Python\\Python311\\site-packages\\IPython\\core\\interactiveshell.py:3516: UserWarning: To exit: use 'exit', 'quit', or Ctrl-D.\n",
      "  warn(\"To exit: use 'exit', 'quit', or Ctrl-D.\", stacklevel=1)\n"
     ]
    }
   ],
   "source": [
    "from flask import Flask, jsonify\n",
    "\n",
    "app = Flask(__name__)\n",
    "\n",
    "@app.route('/api/hello', methods=['GET'])\n",
    "def hello():\n",
    "    return jsonify(message='Hello, this is a simple API!')\n",
    "\n",
    "if __name__ == '__main__':\n",
    "    app.run(debug=True)"
   ]
  },
  {
   "attachments": {
    "ss.png": {
     "image/png": "[encoded data removed]"
    }
   },
   "cell_type": "markdown",
   "metadata": {},
   "source": [
    "![ss.png](attachment:ss.png)"
   ]
  }
 ],
 "metadata": {
  "kernelspec": {
   "display_name": "base",
   "language": "python",
   "name": "python3"
  },
  "language_info": {
   "codemirror_mode": {
    "name": "ipython",
    "version": 3
   },
   "file_extension": ".py",
   "mimetype": "text/x-python",
   "name": "python",
   "nbconvert_exporter": "python",
   "pygments_lexer": "ipython3",
   "version": "3.11.5"
  }
 },
 "nbformat": 4,
 "nbformat_minor": 2
}
