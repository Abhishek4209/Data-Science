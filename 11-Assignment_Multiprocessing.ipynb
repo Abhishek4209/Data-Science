{
 "cells": [
  {
   "attachments": {},
   "cell_type": "markdown",
   "metadata": {},
   "source": [
    "# **Q1:-** \n",
    "### **What is multiprocessing in python? Why is it useful?**"
   ]
  },
  {
   "cell_type": "markdown",
   "metadata": {},
   "source": [
    "### **Ans:-**"
   ]
  },
  {
   "cell_type": "markdown",
   "metadata": {},
   "source": [
    "### **Multiprocessing is the ability for computers to complete multiple tasks at the same time without having to wait for one task to complete before the next task can be started.**"
   ]
  },
  {
   "cell_type": "markdown",
   "metadata": {},
   "source": [
    "### **Multiprocessing is useful for CPU-bound processes, such as computationally heavy tasks since it will benefit from having multiple processors**"
   ]
  },
  {
   "attachments": {},
   "cell_type": "markdown",
   "metadata": {},
   "source": [
    "## **Q2:-**\n",
    "### **What are the differences between multiprocessing and multithreading?**"
   ]
  },
  {
   "cell_type": "markdown",
   "metadata": {},
   "source": [
    "### **Ans:-**"
   ]
  },
  {
   "cell_type": "markdown",
   "metadata": {},
   "source": [
    "### **Multithreading refers to the ability of a processor to execute multiple threads concurrently, where each thread runs a process.**"
   ]
  },
  {
   "cell_type": "markdown",
   "metadata": {},
   "source": [
    "### **Multiprocessing refers to the ability of a system to run multiple processors in parallel, where each processor can run one or more threads**"
   ]
  },
  {
   "attachments": {},
   "cell_type": "markdown",
   "metadata": {},
   "source": [
    "# **Q3:-** \n",
    "### **Write a python code to create a process using the multiprocessing module.**"
   ]
  },
  {
   "cell_type": "code",
   "execution_count": 1,
   "metadata": {},
   "outputs": [
    {
     "name": "stdout",
     "output_type": "stream",
     "text": [
      "Main process continues while the child process runs.\n"
     ]
    }
   ],
   "source": [
    "import multiprocessing\n",
    "\n",
    "# Define a function that will run in the new process\n",
    "def my_function():\n",
    "    print(\"This is running in a separate process!\")\n",
    "\n",
    "if __name__ == \"__main__\":\n",
    "    # Create a multiprocessing Process object\n",
    "    my_process = multiprocessing.Process(target=my_function)\n",
    "\n",
    "    # Start the process\n",
    "    my_process.start()\n",
    "\n",
    "    # Wait for the process to complete (optional)\n",
    "    my_process.join()\n",
    "\n",
    "    print(\"Main process continues while the child process runs.\")"
   ]
  },
  {
   "attachments": {},
   "cell_type": "markdown",
   "metadata": {},
   "source": [
    "# **Q4:-** \n",
    "### **What is a multiprocessing pool in python? Why is it used?**"
   ]
  },
  {
   "cell_type": "markdown",
   "metadata": {},
   "source": [
    "### **Ans:-**"
   ]
  },
  {
   "cell_type": "markdown",
   "metadata": {},
   "source": [
    "### **Python multiprocessing Pool can be used for parallel execution of a function across multiple input values, distributing the input data across processes (data parallelism).**"
   ]
  },
  {
   "cell_type": "markdown",
   "metadata": {},
   "source": [
    "### **The Pool class in multiprocessing can handle an enormous number of processes. It allows you to run multiple jobs per process (due to its ability to queue the jobs). The memory is allocated only to the executing processes, unlike the Process class, which allocates memory to all the processes.**"
   ]
  },
  {
   "attachments": {},
   "cell_type": "markdown",
   "metadata": {},
   "source": [
    "## **Q5:-** \n",
    "### **How can we create a pool of worker processes in python using the multiprocessing module?**"
   ]
  },
  {
   "cell_type": "markdown",
   "metadata": {},
   "source": [
    "### **Ans:-**"
   ]
  },
  {
   "cell_type": "markdown",
   "metadata": {},
   "source": [
    "#### **1.Create a Pool object by specifying the number of worker processes you want in the pool using the processes parameter.**\n",
    "#### **2.Use the map() method of the Pool object to distribute tasks to the worker processes.**\n",
    "#### **3.When you're done, you should call the close() method to indicate that no more tasks will be added to the pool and then call the join()** \n",
    "#### **4.method to wait for all the worker processes to complete their tasks.**"
   ]
  },
  {
   "cell_type": "code",
   "execution_count": 2,
   "metadata": {},
   "outputs": [],
   "source": [
    "import time\n",
    "from multiprocessing import Pool\n",
    "\n",
    "\n",
    "def square(x):\n",
    "    print(f\"start process {x}\")\n",
    "    square = x * x\n",
    "    time.sleep(1)\n",
    "    print(f\"end process {x}\")\n",
    "    return square\n",
    "\n",
    "\n",
    "if __name__ == \"__main__\":\n",
    "    pool = Pool()\n",
    "    a = pool.map(square, range(0, 5))\n",
    "    print(a)"
   ]
  },
  {
   "attachments": {},
   "cell_type": "markdown",
   "metadata": {},
   "source": [
    "## **Q6:-**\n",
    "### **Write a python program to create 4 processes, each process should print a different number using the multiprocessing module in python.**"
   ]
  },
  {
   "cell_type": "code",
   "execution_count": null,
   "metadata": {},
   "outputs": [
    {
     "name": "stdout",
     "output_type": "stream",
     "text": [
      "Process [10, 20, 30, 4]: My number is [10, 20, 30, 4]\n"
     ]
    }
   ],
   "source": [
    "import multiprocessing\n",
    "\n",
    "# Define a function to print a number\n",
    "def print_number(number):\n",
    "    print(f\"Process {number}: My number is {number}\")\n",
    "\n",
    "if __name__ == \"__main__\":\n",
    "    # Create a list of numbers\n",
    "    numbers = [10, 20, 30, 40]\n",
    "\n",
    "    # Create a list to store process objects\n",
    "    processes = []\n",
    "\n",
    "    # Create four processes, each printing a different number\n",
    "    for number in numbers:\n",
    "        process = multiprocessing.Process(target=print_number, args=(number,))\n",
    "        processes.append(process)\n",
    "        process.start()\n",
    "\n",
    "    # Wait for all processes to finish\n",
    "    for process in processes:\n",
    "        process.join()\n",
    "print_number([10,20,30,4])"
   ]
  }
 ],
 "metadata": {
  "kernelspec": {
   "display_name": "Python 3",
   "language": "python",
   "name": "python3"
  },
  "language_info": {
   "codemirror_mode": {
    "name": "ipython",
    "version": 3
   },
   "file_extension": ".py",
   "mimetype": "text/x-python",
   "name": "python",
   "nbconvert_exporter": "python",
   "pygments_lexer": "ipython3",
   "version": "3.11.3"
  },
  "orig_nbformat": 4
 },
 "nbformat": 4,
 "nbformat_minor": 2
}
