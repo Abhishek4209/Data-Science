{
 "cells": [
  {
   "cell_type": "markdown",
   "metadata": {},
   "source": [
    "## **Q1:-**\n",
    "### **What is anomaly detection and what is its purpose?**"
   ]
  },
  {
   "cell_type": "markdown",
   "metadata": {},
   "source": [
    "### **Ans:-**"
   ]
  },
  {
   "cell_type": "markdown",
   "metadata": {},
   "source": [
    "### **Anomaly detection identifies suspicious activity that falls outside of your established normal patterns of behavior. A solution protects your system in real-time from instances that could result in significant financial losses, data breaches, and other harmful events.**"
   ]
  },
  {
   "cell_type": "markdown",
   "metadata": {},
   "source": [
    "## **Q2:-** \n",
    "### **What are the key challenges in anomaly detection?**"
   ]
  },
  {
   "cell_type": "markdown",
   "metadata": {},
   "source": [
    "### **Ans:-**"
   ]
  },
  {
   "cell_type": "markdown",
   "metadata": {},
   "source": [
    "### **Challenge #1: Data quality**\n",
    "#### **1.Null data or incomplete datasets.**\n",
    "#### **2.Inconsistent data formats.**\n",
    "#### **3.Duplicate data.**\n",
    "#### **4.Different scales of measurement.**\n",
    "#### **5.Human error.**"
   ]
  },
  {
   "cell_type": "markdown",
   "metadata": {},
   "source": [
    "## **Q3:-**  \n",
    "### **How does unsupervised anomaly detection differ from supervised anomaly detection?**"
   ]
  },
  {
   "cell_type": "markdown",
   "metadata": {},
   "source": [
    "### **Ans:-**"
   ]
  },
  {
   "cell_type": "markdown",
   "metadata": {},
   "source": [
    "### **The supervised and semi-supervised techniques can only detect known anomalies. However, the vast majority of data is unlabeled. In these cases, data scientists might use unsupervised anomaly detection techniques, which can automatically identify exceptional or rare events.**"
   ]
  },
  {
   "cell_type": "markdown",
   "metadata": {},
   "source": [
    "## **Q4:-** \n",
    "### **What are the main categories of anomaly detection algorithms?**"
   ]
  },
  {
   "cell_type": "markdown",
   "metadata": {},
   "source": [
    "### **Ans:-**"
   ]
  },
  {
   "cell_type": "markdown",
   "metadata": {},
   "source": [
    "### **There are three main classes of anomaly detection techniques: unsupervised, semi-supervised, and supervised. Essentially, the correct anomaly detection method depends on the available labels in the dataset.**"
   ]
  },
  {
   "cell_type": "markdown",
   "metadata": {},
   "source": [
    "## **Q5:-** \n",
    "### **What are the main assumptions made by distance-based anomaly detection methods?**"
   ]
  },
  {
   "cell_type": "markdown",
   "metadata": {},
   "source": [
    "### **Ans:-**"
   ]
  },
  {
   "cell_type": "markdown",
   "metadata": {},
   "source": [
    "### **In general, the outlier or anomaly can be found using distance based or density based algorithms. These algorithms measure the distance between data instances and on the assumption that abnormal data point will be away from other data points where anomalies are found.**"
   ]
  },
  {
   "cell_type": "markdown",
   "metadata": {},
   "source": [
    "## **Q6:-** \n",
    "### **How does the LOF algorithm compute anomaly scores?**"
   ]
  },
  {
   "cell_type": "markdown",
   "metadata": {},
   "source": [
    "### **Ans:-**"
   ]
  },
  {
   "cell_type": "markdown",
   "metadata": {},
   "source": [
    "### **The LOF of a point is based on the ratios of the local density of the area around the point and the local densities of its neighbors. It considers relative density of data points. In simple words, LOF compares the local density of a point to local density of its k-nearest neighbors and gives a score as final output.**"
   ]
  },
  {
   "cell_type": "markdown",
   "metadata": {},
   "source": [
    "## **Q7:-** \n",
    "### **What are the key parameters of the Isolation Forest algorithm?**"
   ]
  },
  {
   "cell_type": "markdown",
   "metadata": {},
   "source": [
    "### **Ans:-**"
   ]
  },
  {
   "cell_type": "markdown",
   "metadata": {},
   "source": [
    "### **Important parameters in Isolation Forest:**\n",
    "#### **number of trees / estimators : how big is the forest.**\n",
    "#### **contamination: the fraction of the dataset that contains abnormal instances, e.g. 0.1 or 10%**\n",
    "#### **max samples: The number of samples to draw from the training set to train each Isolation Tree with.**"
   ]
  },
  {
   "cell_type": "markdown",
   "metadata": {},
   "source": [
    "## **Q8:-** \n",
    "### **If a data point has only 2 neighbours of the same class within a radius of 0.5, what is its anomaly score using KNN with K=10?**"
   ]
  },
  {
   "cell_type": "markdown",
   "metadata": {},
   "source": [
    "### **Ans:-**"
   ]
  },
  {
   "cell_type": "markdown",
   "metadata": {},
   "source": [
    "### **To calculate the anomaly score of a data point using the k-nearest neighbors (KNN) algorithm with K=10, you need to find the distance between the data point and its 10th nearest neighbor. If a data point has only 2 neighbors of the same class within a radius of 0.5, it implies that there are not enough neighbors within the specified radius to fulfill the KNN requirement of K=10 neighbors. In such a case, you may handle it as an outlier or anomaly since it does not have enough neighbors of the same class to make a reliable classification decision.**\n",
    "\n",
    "### **Anomaly Score = Distance to the 10th nearest neighbor**\n",
    "\n",
    "#### **However, if you want a more specific anomaly score, you would need to calculate the distance to the 10th nearest neighbor if it exists within the specified radius of 0.5. If there are not enough neighbors within that radius, you may consider the point as an anomaly with a high anomaly score**"
   ]
  },
  {
   "cell_type": "markdown",
   "metadata": {},
   "source": [
    "## **Q9:-** \n",
    "### **Using the Isolation Forest algorithm with 100 trees and a dataset of 3000 data points, what is the anomaly score for a data point that has an average path length of 5.0 compared to the average path length of the trees?**"
   ]
  },
  {
   "cell_type": "markdown",
   "metadata": {},
   "source": [
    "### **Ans:-**\n"
   ]
  },
  {
   "cell_type": "markdown",
   "metadata": {},
   "source": [
    "### **In the Isolation Forest algorithm, an anomaly score is calculated based on the average path length of a data point as it traverses through the isolation trees in the forest. The average path length of normal data points is typically longer than that of anomalies.**\n",
    "\n",
    "#### **In your case, you have a data point with an average path length of 5.0. To compare this to the average path length of the trees, you'll need to know the expected average path length for normal data points.**\n",
    "\n",
    "#### **The expected average path length for a normal data point in an isolation tree in a forest with 3000 data points can be calculated as:**\n",
    "\n",
    "#### **E(T(n)) = 2 * (log2(n) + 0.5772156649) - (2 * (n - 1) / n)**\n",
    "\n",
    "#### **Where:**\n",
    "\n",
    "#### **E(T(n)) is the expected average path length for a normal data point.**\n",
    "#### **n is the number of data points in the dataset (3000 in this case).**\n",
    "#### **Let's calculate it:**\n",
    "\n",
    "#### **E(T(3000)) = 2 * (log2(3000) + 0.5772156649) - (2 * (3000 - 1) / 3000)**\n",
    "\n",
    "#### **E(T(3000)) ≈ 21.85**\n",
    "\n",
    "#### **So, the expected average path length for a normal data point in this Isolation Forest with 100 trees and 3000 data points is approximately 21.85.**\n",
    "\n",
    "#### **Now, you have a data point with an average path length of 5.0. To calculate its anomaly score compared to the average path length of the trees, you can simply subtract its average path length from the expected average path length for normal data points:**\n",
    "\n",
    "#### **Anomaly Score = Expected Average Path Length for Normal Data Points - Average Path Length of the Data Point**\n",
    "\n",
    "#### **Anomaly Score = 21.85 - 5.0**\n",
    "\n",
    "#### **Anomaly Score ≈ 16.85**\n",
    "\n",
    "#### **So, the anomaly score for the data point is approximately 16.85 compared to the average path length of the trees in the Isolation Forest. Lower average path lengths are indicative of anomalies, so a data point with an average path length of 5.0 is quite anomalous in this context.**"
   ]
  }
 ],
 "metadata": {
  "language_info": {
   "name": "python"
  },
  "orig_nbformat": 4
 },
 "nbformat": 4,
 "nbformat_minor": 2
}
