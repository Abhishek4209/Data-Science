{
 "cells": [
  {
   "attachments": {},
   "cell_type": "markdown",
   "metadata": {},
   "source": [
    "# **Q1:-**\n",
    "###  **What is Web Scraping? Why is it Used? Give three areas where Web Scraping is used to get data.**"
   ]
  },
  {
   "cell_type": "markdown",
   "metadata": {},
   "source": [
    "### **Ans:-**"
   ]
  },
  {
   "cell_type": "markdown",
   "metadata": {},
   "source": [
    "### **Web scraping is the process of automatically extracting information and data from websites. It involves sending requests to web pages, parsing the HTML or other structured data on those pages, and then extracting specific pieces of information for various purposes. Web scraping can be done manually, but it's more commonly performed using automated scripts or software tools known as web scrapers or web crawling bots.**"
   ]
  },
  {
   "cell_type": "markdown",
   "metadata": {},
   "source": [
    "### **1.Data Collection for Research and Analysis**\n",
    "### **2.Content Aggregation and Monitoring**\n",
    "### **3.Data for Machine Learning and AI**"
   ]
  },
  {
   "attachments": {},
   "cell_type": "markdown",
   "metadata": {},
   "source": [
    "# **Q2:-**\n",
    "### **What are the different methods used for Web Scraping?**"
   ]
  },
  {
   "cell_type": "markdown",
   "metadata": {},
   "source": [
    "### **Ans:-**"
   ]
  },
  {
   "cell_type": "markdown",
   "metadata": {},
   "source": [
    "### **Web scraping can be performed using various methods and techniques, depending on the complexity of the target website and the specific requirements of the scraping task. Here are some of the common methods used for web scraping:**"
   ]
  },
  {
   "cell_type": "markdown",
   "metadata": {},
   "source": [
    "### **1.Manual Copy-Paste:**\n",
    "### **2.Regular Expressions (Regex)**\n",
    "### **3.HTML Parsing Libraries**\n",
    "### **4.Web Scraping Frameworks and Tools**\n",
    "### **5.APIs (Application Programming Interfaces)**\n",
    "### **6.Headless Browsers**"
   ]
  },
  {
   "attachments": {},
   "cell_type": "markdown",
   "metadata": {},
   "source": [
    "# **Q3:-** \n",
    "### **What is Beautiful Soup? Why is it used?**"
   ]
  },
  {
   "cell_type": "markdown",
   "metadata": {},
   "source": [
    "### **Ans:-**"
   ]
  },
  {
   "cell_type": "markdown",
   "metadata": {},
   "source": [
    "### **Beautiful Soup is a Python package for parsing HTML and XML documents (including having malformed markup, i.e. non-closed tags, so named after tag soup). It creates a parse tree for parsed pages that can be used to extract data from HTML, which is useful for web scraping.**"
   ]
  },
  {
   "cell_type": "code",
   "execution_count": 2,
   "metadata": {},
   "outputs": [
    {
     "name": "stdout",
     "output_type": "stream",
     "text": [
      "Page Title: Example Domain\n"
     ]
    }
   ],
   "source": [
    "import requests\n",
    "from bs4 import BeautifulSoup\n",
    "\n",
    "# Send an HTTP GET request to a webpage\n",
    "response = requests.get('https://example.com')\n",
    "\n",
    "# Parse the HTML content of the page using Beautiful Soup\n",
    "soup = BeautifulSoup(response.text, 'html.parser')\n",
    "\n",
    "# Extract and print the page title\n",
    "title = soup.title.string\n",
    "print(f\"Page Title: {title}\")"
   ]
  },
  {
   "attachments": {},
   "cell_type": "markdown",
   "metadata": {},
   "source": [
    "# **Q4:**-\n",
    "### **Why is flask used in this Web Scraping project?**"
   ]
  },
  {
   "cell_type": "markdown",
   "metadata": {},
   "source": [
    "### **Ans:-**"
   ]
  },
  {
   "cell_type": "markdown",
   "metadata": {},
   "source": [
    "### **Flask is a lightweight framework to build websites. We'll use this to parse our collected data and display it as HTML in a new HTML file. The requests module allows us to send http requests to the website we want to scrape. The first line imports the Flask class and the render_template method from the flask library.**"
   ]
  },
  {
   "attachments": {},
   "cell_type": "markdown",
   "metadata": {},
   "source": [
    "# **Q5:-**\n",
    "### **Write the names of AWS services used in this project. Also, explain the use of each service.**"
   ]
  },
  {
   "cell_type": "markdown",
   "metadata": {},
   "source": [
    "### **Ans:-**"
   ]
  },
  {
   "cell_type": "markdown",
   "metadata": {},
   "source": [
    "### **1.Amazon EC2 (Elastic Compute Cloud)**\n",
    "#### **Use: EC2 provides scalable virtual servers in the cloud. It's used for running applications, hosting websites, and performing various computing tasks.**\n",
    "### **2.Amazon S3 (Simple Storage Service):**\n",
    "#### **Use: S3 is an object storage service for storing and retrieving data, including files, images, and backups.**\n",
    "### **3.Amazon API Gateway:**\n",
    "#### **Use: API Gateway allows you to create, publish, and manage APIs for your applications. It's used for building and exposing RESTful APIs.**"
   ]
  }
 ],
 "metadata": {
  "kernelspec": {
   "display_name": "Python 3",
   "language": "python",
   "name": "python3"
  },
  "language_info": {
   "codemirror_mode": {
    "name": "ipython",
    "version": 3
   },
   "file_extension": ".py",
   "mimetype": "text/x-python",
   "name": "python",
   "nbconvert_exporter": "python",
   "pygments_lexer": "ipython3",
   "version": "3.11.3"
  },
  "orig_nbformat": 4
 },
 "nbformat": 4,
 "nbformat_minor": 2
}
