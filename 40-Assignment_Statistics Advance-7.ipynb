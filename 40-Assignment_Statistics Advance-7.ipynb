{
 "cells": [
  {
   "cell_type": "markdown",
   "metadata": {},
   "source": [
    "## **Q1:-**  \n",
    "### **Write a Python function that takes in two arrays of data and calculates the F-value for a variance ratio test. The function should return the F-value and the corresponding p-value for the test.**"
   ]
  },
  {
   "cell_type": "code",
   "execution_count": 1,
   "metadata": {},
   "outputs": [],
   "source": [
    "import numpy as np\n",
    "from scipy.stats import f\n",
    "\n",
    "def variance_ratio_test(data1, data2):\n",
    "    var1 = np.var(data1, ddof=1)\n",
    "    var2 = np.var(data2, ddof=1)\n",
    "    F = var1 / var2\n",
    "    df1 = len(data1) - 1\n",
    "    df2 = len(data2) - 1\n",
    "\n",
    "    # Calculate the p-value\n",
    "    p_value = 1 - f.cdf(F, df1, df2)\n",
    "\n",
    "    return F, p_value\n"
   ]
  },
  {
   "cell_type": "code",
   "execution_count": 2,
   "metadata": {},
   "outputs": [
    {
     "name": "stdout",
     "output_type": "stream",
     "text": [
      "F-value: 0.6807511737089202\n",
      "p-value: 0.6407448626837924\n"
     ]
    }
   ],
   "source": [
    "data1 = [15, 18, 20, 22, 25]\n",
    "data2 = [12, 16, 19, 21, 24]\n",
    "\n",
    "F, p_value = variance_ratio_test(data1, data2)\n",
    "print(\"F-value:\", F)\n",
    "print(\"p-value:\", p_value)\n"
   ]
  },
  {
   "cell_type": "markdown",
   "metadata": {},
   "source": [
    "## **Q2:-**  \n",
    "### **Given a significance level of 0.05 and the degrees of freedom for the numerator and denominator of an F-distribution, write a Python function that returns the critical F-value for a two-tailed test.**"
   ]
  },
  {
   "cell_type": "code",
   "execution_count": 3,
   "metadata": {},
   "outputs": [],
   "source": [
    "from scipy.stats import f\n",
    "\n",
    "def critical_f_value(alpha, df1, df2):\n",
    "    # Calculate the critical F-value for a two-tailed test\n",
    "    f_critical = f.ppf(1 - alpha / 2, df1, df2)\n",
    "    \n",
    "    return f_critical\n"
   ]
  },
  {
   "cell_type": "code",
   "execution_count": 4,
   "metadata": {},
   "outputs": [
    {
     "name": "stdout",
     "output_type": "stream",
     "text": [
      "Critical F-value: 4.825621493405406\n"
     ]
    }
   ],
   "source": [
    "alpha = 0.05\n",
    "df1 = 3\n",
    "df2 = 10\n",
    "f_critical = critical_f_value(alpha, df1, df2)\n",
    "print(\"Critical F-value:\", f_critical)\n"
   ]
  },
  {
   "cell_type": "markdown",
   "metadata": {},
   "source": [
    "## **Q3:-**  \n",
    "### **Write a Python program that generates random samples from two normal distributions with known variances and uses an F-test to determine if the variances are equal. The program should output the F- value, degrees of freedom, and p-value for the test.**"
   ]
  },
  {
   "cell_type": "code",
   "execution_count": 5,
   "metadata": {},
   "outputs": [],
   "source": [
    "import numpy as np\n",
    "from scipy.stats import f\n",
    "\n",
    "def perform_f_test(data1, data2, alpha=0.05):\n",
    "    # Calculate the variances\n",
    "    var1 = np.var(data1, ddof=1)  # ddof=1 for unbiased estimate\n",
    "    var2 = np.var(data2, ddof=1)\n",
    "    n1 = len(data1)\n",
    "    n2 = len(data2)\n",
    "    # Calculate the degrees of freedom\n",
    "    df1 = n1 - 1\n",
    "    df2 = n2 - 1\n",
    "    # Calculate the F-value\n",
    "    F = var1 / var2\n",
    "    # Calculate the p-value\n",
    "    p_value = 1 - f.cdf(F, df1, df2)\n",
    "    # Determine if variances are equal\n",
    "    equal_variances = (p_value > alpha)\n",
    "    return F, df1, df2, p_value, equal_variances\n"
   ]
  },
  {
   "cell_type": "code",
   "execution_count": 6,
   "metadata": {},
   "outputs": [
    {
     "name": "stdout",
     "output_type": "stream",
     "text": [
      "F-value: 1.6850029607063983\n",
      "Degrees of Freedom (numerator): 49\n",
      "Degrees of Freedom (denominator): 49\n",
      "P-value: 0.03539712616083446\n",
      "Are variances equal? False\n"
     ]
    }
   ],
   "source": [
    "np.random.seed(0)\n",
    "data1 = np.random.normal(loc=0, scale=2, size=50)\n",
    "data2 = np.random.normal(loc=0, scale=2, size=50)\n",
    "\n",
    "F, df1, df2, p_value, equal_variances = perform_f_test(data1, data2)\n",
    "\n",
    "print(\"F-value:\", F)\n",
    "print(\"Degrees of Freedom (numerator):\", df1)\n",
    "print(\"Degrees of Freedom (denominator):\", df2)\n",
    "print(\"P-value:\", p_value)\n",
    "print(\"Are variances equal?\", equal_variances)\n"
   ]
  },
  {
   "cell_type": "markdown",
   "metadata": {},
   "source": [
    "## **Q4:-**\n",
    "### **The variances of two populations are known to be 10 and 15. A sample of 12 observations is taken from each population. Conduct an F-test at the 5% significance level to determine if the variances are significantly different.**"
   ]
  },
  {
   "cell_type": "markdown",
   "metadata": {},
   "source": [
    "### **Ans:-**"
   ]
  },
  {
   "cell_type": "markdown",
   "metadata": {},
   "source": [
    "### **Null Hypothesis (H0):-**  \n",
    "#### The variances of the two populations are equal.\n",
    "### **Alternative Hypothesis (H1):-**  \n",
    "#### The variances of the two populations are significantly different."
   ]
  },
  {
   "cell_type": "code",
   "execution_count": 7,
   "metadata": {},
   "outputs": [
    {
     "name": "stdout",
     "output_type": "stream",
     "text": [
      "Fail to reject the null hypothesis: The variances are not significantly different.\n"
     ]
    }
   ],
   "source": [
    "import scipy.stats as stats\n",
    "variance1 = 10\n",
    "variance2 = 15\n",
    "n1 = 12\n",
    "n2 = 12\n",
    "\n",
    "F = variance1 / variance2\n",
    "\n",
    "# Degrees of freedom\n",
    "df1 = n1 - 1\n",
    "df2 = n2 - 1\n",
    "\n",
    "# Significance level\n",
    "alpha = 0.05\n",
    "\n",
    "# Calculate the critical F-value for a two-tailed test\n",
    "critical_f = stats.f.ppf(1 - alpha/2, df1, df2)\n",
    "\n",
    "# Compare F-statistic to critical F-value\n",
    "if F > critical_f:\n",
    "    print(\"Reject the null hypothesis: The variances are significantly different.\")\n",
    "else:\n",
    "    print(\"Fail to reject the null hypothesis: The variances are not significantly different.\")\n"
   ]
  },
  {
   "cell_type": "markdown",
   "metadata": {},
   "source": [
    "## **Q5:-** \n",
    "### **A manufacturer claims that the variance of the diameter of a certain product is 0.005. A sample of 25 products is taken, and the sample variance is found to be 0.006. Conduct an F-test at the 1% significance level to determine if the claim is justified.**"
   ]
  },
  {
   "cell_type": "markdown",
   "metadata": {},
   "source": [
    "### **Ans:-**"
   ]
  },
  {
   "cell_type": "markdown",
   "metadata": {},
   "source": [
    "### **Null Hypothesis (H0):-** \n",
    "#### The variance of the product's diameter is 0.005 (as claimed by the manufacturer).\n",
    "### **Alternative Hypothesis (H1):-** \n",
    "#### The variance of the product's diameter is not equal to 0.005."
   ]
  },
  {
   "cell_type": "code",
   "execution_count": 8,
   "metadata": {},
   "outputs": [
    {
     "name": "stdout",
     "output_type": "stream",
     "text": [
      "Fail to reject the null hypothesis: The claimed variance is justified.\n"
     ]
    }
   ],
   "source": [
    "import scipy.stats as stats\n",
    "claimed_variance = 0.005\n",
    "sample_variance = 0.006\n",
    "# Sample size\n",
    "n = 25\n",
    "# Calculate the F-statistic\n",
    "F = sample_variance / claimed_variance\n",
    "# Degrees of freedom\n",
    "df1 = n - 1\n",
    "df2 = 1\n",
    "# Significance level\n",
    "alpha = 0.01\n",
    "# Calculate the critical F-value for a two-tailed test\n",
    "critical_f = stats.f.ppf(1 - alpha/2, df1, df2)\n",
    "# Compare F-statistic to critical F-value\n",
    "if F > critical_f or F < 1 / critical_f:\n",
    "    print(\"Reject the null hypothesis: The claimed variance is not justified.\")\n",
    "else:\n",
    "    print(\"Fail to reject the null hypothesis: The claimed variance is justified.\")\n"
   ]
  },
  {
   "cell_type": "markdown",
   "metadata": {},
   "source": [
    "## **Q6:-** \n",
    "### **Write a Python function that takes in the degrees of freedom for the numerator and denominator of an F-distribution and calculates the mean and variance of the distribution. The function should return the mean and variance as a tuple.**"
   ]
  },
  {
   "cell_type": "markdown",
   "metadata": {},
   "source": [
    "### **Ans:-**"
   ]
  },
  {
   "cell_type": "code",
   "execution_count": 9,
   "metadata": {},
   "outputs": [],
   "source": [
    "def calculate_f_distribution_mean_and_variance(df1, df2):\n",
    "    # Mean of the F-distribution\n",
    "    if df2 > 2:\n",
    "        mean = df2 / (df2 - 2)\n",
    "    else:\n",
    "        mean = float('inf')  # The mean is undefined when df2 <= 2\n",
    "\n",
    "    # Variance of the F-distribution\n",
    "    if df2 > 4:\n",
    "        variance = (2 * (df2**2 * (df1 + df2 - 2))) / (df1 * (df2 - 2)**2 * (df2 - 4))\n",
    "    else:\n",
    "        variance = float('inf') \n",
    "\n",
    "    return mean, variance"
   ]
  },
  {
   "cell_type": "code",
   "execution_count": 10,
   "metadata": {},
   "outputs": [
    {
     "name": "stdout",
     "output_type": "stream",
     "text": [
      "Mean: 1.1111111111111112\n",
      "Variance: 0.43209876543209874\n"
     ]
    }
   ],
   "source": [
    "df1 = 10\n",
    "df2 = 20\n",
    "mean, variance = calculate_f_distribution_mean_and_variance(df1, df2)\n",
    "print(\"Mean:\", mean)\n",
    "print(\"Variance:\", variance)\n"
   ]
  },
  {
   "cell_type": "markdown",
   "metadata": {},
   "source": [
    "## **Q7:-** \n",
    "### **A random sample of 10 measurements is taken from a normal population with unknown variance. The sample variance is found to be 25. Another random sample of 15 measurements is taken from another normal population with unknown variance, and the sample variance is found to be 20. Conduct an F-test at the 10% significance level to determine if the variances are significantly different.**"
   ]
  },
  {
   "cell_type": "markdown",
   "metadata": {},
   "source": [
    "### **Null Hypothesis (H0):-**  \n",
    "#### The variances of the two populations are equal.\n",
    "### **Alternative Hypothesis (H1):-**  \n",
    "#### The variances of the two populations are significantly different.**"
   ]
  },
  {
   "cell_type": "code",
   "execution_count": 11,
   "metadata": {},
   "outputs": [
    {
     "name": "stdout",
     "output_type": "stream",
     "text": [
      "Fail to reject the null hypothesis: The variances are not significantly different.\n"
     ]
    }
   ],
   "source": [
    "import scipy.stats as stats\n",
    "variance1 = 25\n",
    "variance2 = 20\n",
    "# Degrees of freedom\n",
    "df1 = 10 - 1\n",
    "df2 = 15 - 1\n",
    "# Calculate the F-statistic\n",
    "F = variance1 / variance2\n",
    "# Significance level\n",
    "alpha = 0.10\n",
    "\n",
    "# critical F-value for a two-tailed test\n",
    "critical_f = stats.f.ppf(1 - alpha/2, df1, df2)\n",
    "# Compare F-statistic to critical F-value\n",
    "if F > critical_f or F < 1 / critical_f:\n",
    "    print(\"Reject the null hypothesis: The variances are significantly different.\")\n",
    "else:\n",
    "    print(\"Fail to reject the null hypothesis: The variances are not significantly different.\")\n"
   ]
  },
  {
   "cell_type": "markdown",
   "metadata": {},
   "source": [
    "## **Q8:-**  \n",
    "### **The following data represent the waiting times in minutes at two different restaurants on a Saturday night: Restaurant A: 24, 25, 28, 23, 22, 20, 27; Restaurant B: 31, 33, 35, 30, 32, 36. Conduct an F-test at the 5% significance level to determine if the variances are significantly different.**"
   ]
  },
  {
   "cell_type": "markdown",
   "metadata": {},
   "source": [
    "## **Ans:-**"
   ]
  },
  {
   "cell_type": "markdown",
   "metadata": {},
   "source": [
    "### **Null Hypothesis (H0):-** \n",
    "##### The variances of waiting times at Restaurant A and Restaurant B are equal.\n",
    "### **Alternative Hypothesis (H1):-**  \n",
    "##### The variances of waiting times at Restaurant A and Restaurant B are significantly different."
   ]
  },
  {
   "cell_type": "code",
   "execution_count": 12,
   "metadata": {},
   "outputs": [
    {
     "name": "stdout",
     "output_type": "stream",
     "text": [
      "Fail to reject the null hypothesis: The variances are not significantly different.\n"
     ]
    }
   ],
   "source": [
    "import scipy.stats as stats\n",
    "restaurant_a_times = [24, 25, 28, 23, 22, 20, 27]\n",
    "restaurant_b_times = [31, 33, 35, 30, 32, 36]\n",
    "\n",
    "variance_a = sum((x - np.mean(restaurant_a_times))**2 for x in restaurant_a_times) / (len(restaurant_a_times) - 1)\n",
    "variance_b = sum((x - np.mean(restaurant_b_times))**2 for x in restaurant_b_times) / (len(restaurant_b_times) - 1)\n",
    "\n",
    "# Calculate the F-statistic\n",
    "F = variance_a / variance_b\n",
    "\n",
    "# Degrees of freedom\n",
    "df1 = len(restaurant_a_times) - 1\n",
    "df2 = len(restaurant_b_times)\n",
    "\n",
    "# Significance level\n",
    "alpha = 0.05\n",
    "\n",
    "# critical F-value for a two-tailed test\n",
    "critical_f = stats.f.ppf(1 - alpha/2, df1, df2)\n",
    "# Compare F-statistic to critical F-value\n",
    "if F > critical_f or F < 1 / critical_f:\n",
    "    print(\"Reject the null hypothesis: The variances are significantly different.\")\n",
    "else:\n",
    "    print(\"Fail to reject the null hypothesis: The variances are not significantly different.\")\n"
   ]
  },
  {
   "cell_type": "markdown",
   "metadata": {},
   "source": [
    "## **Q9:-**  \n",
    "### **The following data represent the test scores of two groups of students: Group A: 80, 85, 90, 92, 87, 83; Group B: 75, 78, 82, 79, 81, 84. Conduct an F-test at the 1% significance level to determine if the variances are significantly different.**"
   ]
  },
  {
   "cell_type": "markdown",
   "metadata": {},
   "source": [
    "### **Ans:-**"
   ]
  },
  {
   "cell_type": "markdown",
   "metadata": {},
   "source": [
    "### **Null Hypothesis (H0):-** \n",
    "##### The variances of Group A and Group B are equal.\n",
    "### **Alternative Hypothesis (H1):-** \n",
    "##### The variances of Group A and Group B are significantly different."
   ]
  },
  {
   "cell_type": "code",
   "execution_count": 13,
   "metadata": {},
   "outputs": [
    {
     "name": "stdout",
     "output_type": "stream",
     "text": [
      "Fail to reject the null hypothesis: The variances are not significantly different.\n"
     ]
    }
   ],
   "source": [
    "import scipy.stats as stats\n",
    "group_a_scores = [80, 85, 90, 92, 87, 83]\n",
    "group_b_scores = [75, 78, 82, 79, 81, 84]\n",
    "variance_a = sum((x - np.mean(group_a_scores))**2 for x in group_a_scores) / (len(group_a_scores) - 1)\n",
    "variance_b = sum((x - np.mean(group_b_scores))**2 for x in group_b_scores) / (len(group_b_scores) - 1)\n",
    "F = variance_a / variance_b\n",
    "\n",
    "# Degrees of freedom\n",
    "df1 = len(group_a_scores) - 1\n",
    "df2 = len(group_b_scores) - 1\n",
    "\n",
    "# Significance level\n",
    "alpha = 0.01\n",
    "\n",
    "# critical F-value for a two-tailed test\n",
    "critical_f = stats.f.ppf(1 - alpha/2, df1, df2)\n",
    "\n",
    "# Compare F-statistic to critical F-value\n",
    "if F > critical_f or F < 1 / critical_f:\n",
    "    print(\"Reject the null hypothesis: The variances are significantly different.\")\n",
    "else:\n",
    "    print(\"Fail to reject the null hypothesis: The variances are not significantly different.\")\n"
   ]
  }
 ],
 "metadata": {
  "kernelspec": {
   "display_name": "base",
   "language": "python",
   "name": "python3"
  },
  "language_info": {
   "codemirror_mode": {
    "name": "ipython",
    "version": 3
   },
   "file_extension": ".py",
   "mimetype": "text/x-python",
   "name": "python",
   "nbconvert_exporter": "python",
   "pygments_lexer": "ipython3",
   "version": "3.11.5"
  }
 },
 "nbformat": 4,
 "nbformat_minor": 2
}
