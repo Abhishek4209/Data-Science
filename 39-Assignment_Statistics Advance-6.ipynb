{
 "cells": [
  {
   "cell_type": "markdown",
   "metadata": {},
   "source": [
    "## **Q1:-**  \n",
    "### **Explain the assumptions required to use ANOVA and provide examples of violations that could impact the validity of the results.**"
   ]
  },
  {
   "cell_type": "markdown",
   "metadata": {},
   "source": [
    "### **Ans:-**"
   ]
  },
  {
   "cell_type": "markdown",
   "metadata": {},
   "source": [
    "### **1.Independence:-**\n",
    "#### The observations within each group are assumed to be independent of each other. In other words, the values in one group should not be dependent on the values in another group.\n",
    "##### Example of Violation: In a repeated measures design where the same subjects are used in each group, independence is violated. For example, if you measure the performance of the same individuals under different conditions, their performance may be correlated due to carryover effects.\n",
    "\n",
    "\n",
    "### **2.Homogeneity of Variance (Homoscedasticity):-**\n",
    "#### The variances within each group are assumed to be equal. This means that the spread of the data (i.e., the variance) is approximately the same in each group.**\n",
    "##### Example of Violation: In a one-way ANOVA, if one group has a much larger variance compared to the other groups, it can violate this assumption. For instance, if the data in one group is much more spread out than the data in other groups, it may lead to unequal variances.\n",
    "\n",
    "### **3.Normality:-** \n",
    "#### The data within each group should follow a normal distribution. This means that the data should be approximately bell-shaped.\n",
    "##### Example of Violation:-\n",
    "##### If the data in one or more groups are significantly skewed or do not follow a normal distribution, it can violate the normality assumption. For instance, if a group's data is highly skewed, ANOVA results may be unreliable.\n",
    "\n",
    "### **4.Equal Sample Sizes:-**  \n",
    "#### In some ANOVA models, it is assumed that the sample sizes are equal for all groups.\n",
    "##### Example of Violation: If the sample sizes are not equal, it may violate this assumption. For example, if one group has a much smaller sample size than the others, it can affect the validity of the results.\n"
   ]
  },
  {
   "cell_type": "markdown",
   "metadata": {},
   "source": [
    "## **Q2:-**  \n",
    "### **What are the three types of ANOVA, and in what situations would each be used?**"
   ]
  },
  {
   "cell_type": "markdown",
   "metadata": {},
   "source": [
    "### **Ans:-**"
   ]
  },
  {
   "cell_type": "markdown",
   "metadata": {},
   "source": [
    "### **ANOVA is used to compare treatments, analyze factors impact on a variable, or compare means across multiple groups. Types of ANOVA include one-way (for comparing means of groups) and two-way (for examining effects of two independent variables on a dependent variable)**"
   ]
  },
  {
   "cell_type": "markdown",
   "metadata": {},
   "source": [
    "## **Q3:-**  \n",
    "### **What is the partitioning of variance in ANOVA, and why is it important to understand this concept?**"
   ]
  },
  {
   "cell_type": "markdown",
   "metadata": {},
   "source": [
    "### **Ans:-**"
   ]
  },
  {
   "cell_type": "markdown",
   "metadata": {},
   "source": [
    "### **The total variation present in a set of data may be partitioned into a number of non-overlapping components as per the nature of the classification. The systematic procedure to achieve this is called Analysis of Variance (ANOVA). With the help of such a partitioning, some testing of hypothesis may be performed.**"
   ]
  },
  {
   "cell_type": "markdown",
   "metadata": {},
   "source": [
    "## **Q4:-** \n",
    "### **How would you calculate the total sum of squares (SST), explained sum of squares (SSE), and residual sum of squares (SSR) in a one-way ANOVA using Python?**"
   ]
  },
  {
   "cell_type": "markdown",
   "metadata": {},
   "source": [
    "### **Ans:-**\n"
   ]
  },
  {
   "cell_type": "markdown",
   "metadata": {},
   "source": [
    "### 1.Calculate the Grand Mean (GM):\n",
    "\n",
    "###### Calculate the mean of all the data points across all groups.\n",
    "### 2.Calculate SST (Total Sum of Squares):\n",
    "\n",
    "##### Find the squared difference between each data point and the Grand Mean.\n",
    "##### Sum up these squared differences.\n",
    "### 3.Calculate SSE (Explained Sum of Squares):\n",
    "\n",
    "##### Calculate the mean of each group's data points.\n",
    "##### Find the squared difference between each data point and its group mean.\n",
    "##### Sum up these squared differences for all groups.\n",
    "### 4.Calculate SSR (Residual Sum of Squares):\n",
    "\n",
    "##### Subtract SSE from SST: SSR = SST - SSE.\n"
   ]
  },
  {
   "cell_type": "code",
   "execution_count": 1,
   "metadata": {},
   "outputs": [],
   "source": [
    "import numpy as np\n",
    "from scipy.stats import f_oneway"
   ]
  },
  {
   "cell_type": "code",
   "execution_count": 2,
   "metadata": {},
   "outputs": [],
   "source": [
    "group_A = np.array([10, 12, 15, 11, 14])\n",
    "group_B = np.array([20, 22, 25, 21, 24])\n",
    "group_C = np.array([30, 32, 35, 31, 34])"
   ]
  },
  {
   "cell_type": "code",
   "execution_count": 3,
   "metadata": {},
   "outputs": [],
   "source": [
    "all_data = np.concatenate([group_A, group_B, group_C])"
   ]
  },
  {
   "cell_type": "code",
   "execution_count": 4,
   "metadata": {},
   "outputs": [],
   "source": [
    "grand_mean = np.mean(all_data)"
   ]
  },
  {
   "cell_type": "code",
   "execution_count": 5,
   "metadata": {},
   "outputs": [],
   "source": [
    "sst = np.sum((all_data - grand_mean)**2)"
   ]
  },
  {
   "cell_type": "code",
   "execution_count": 6,
   "metadata": {},
   "outputs": [],
   "source": [
    "group_means = [np.mean(group_A), np.mean(group_B), np.mean(group_C)]\n",
    "sse = np.sum([(len(group) * (mean - grand_mean)**2) for group, mean in zip([group_A, group_B, group_C], group_means)])"
   ]
  },
  {
   "cell_type": "code",
   "execution_count": 7,
   "metadata": {},
   "outputs": [],
   "source": [
    "# Calculate SSR (Residual Sum of Squares)\n",
    "ssr = sst - sse\n"
   ]
  },
  {
   "cell_type": "code",
   "execution_count": 8,
   "metadata": {},
   "outputs": [],
   "source": [
    "# Perform one-way ANOVA\n",
    "f_statistic, p_value = f_oneway(group_A, group_B, group_C)"
   ]
  },
  {
   "cell_type": "code",
   "execution_count": 9,
   "metadata": {},
   "outputs": [
    {
     "name": "stdout",
     "output_type": "stream",
     "text": [
      "SST (Total Sum of Squares): 1051.60\n",
      "SSE (Explained Sum of Squares): 1000.00\n",
      "SSR (Residual Sum of Squares): 51.60\n",
      "F-statistic: 116.28\n",
      "P-value: 0.0000\n"
     ]
    }
   ],
   "source": [
    "print(f\"SST (Total Sum of Squares): {sst:.2f}\")\n",
    "print(f\"SSE (Explained Sum of Squares): {sse:.2f}\")\n",
    "print(f\"SSR (Residual Sum of Squares): {ssr:.2f}\")\n",
    "print(f\"F-statistic: {f_statistic:.2f}\")\n",
    "print(f\"P-value: {p_value:.4f}\")\n"
   ]
  },
  {
   "cell_type": "markdown",
   "metadata": {},
   "source": [
    "## **Q5:-** \n",
    "### **In a two-way ANOVA, how would you calculate the main effects and interaction effects using Python?**\n"
   ]
  },
  {
   "cell_type": "markdown",
   "metadata": {},
   "source": [
    "### **Ans:-**"
   ]
  },
  {
   "cell_type": "code",
   "execution_count": 10,
   "metadata": {},
   "outputs": [],
   "source": [
    "import numpy as np\n",
    "from scipy.stats import f_oneway\n",
    "\n",
    "np.random.seed(42)\n",
    "\n",
    "levels_a = ['A1', 'A2']\n",
    "levels_b = ['B1', 'B2']\n",
    "n_samples = 50\n",
    "\n",
    "data = np.random.randn(2 * n_samples)\n",
    "factor_a = np.repeat(levels_a, n_samples)\n",
    "factor_b = np.tile(levels_b, n_samples)"
   ]
  },
  {
   "cell_type": "code",
   "execution_count": 11,
   "metadata": {},
   "outputs": [],
   "source": [
    "# Perform two-way ANOVA\n",
    "f_statistic_a, p_value_a = f_oneway(data[factor_a == 'A1'], data[factor_a == 'A2'])\n",
    "f_statistic_b, p_value_b = f_oneway(data[factor_b == 'B1'], data[factor_b == 'B2'])"
   ]
  },
  {
   "cell_type": "code",
   "execution_count": 12,
   "metadata": {},
   "outputs": [],
   "source": [
    "# Interaction effect\n",
    "interaction_data_A1B1 = data[(factor_a == 'A1') & (factor_b == 'B1')]\n",
    "interaction_data_A1B2 = data[(factor_a == 'A1') & (factor_b == 'B2')]\n",
    "interaction_data_A2B1 = data[(factor_a == 'A2') & (factor_b == 'B1')]\n",
    "interaction_data_A2B2 = data[(factor_a == 'A2') & (factor_b == 'B2')]\n",
    "\n",
    "f_statistic_interaction, p_value_interaction = f_oneway(\n",
    "    interaction_data_A1B1, interaction_data_A1B2, interaction_data_A2B1, interaction_data_A2B2\n",
    ")"
   ]
  },
  {
   "cell_type": "code",
   "execution_count": 13,
   "metadata": {},
   "outputs": [
    {
     "name": "stdout",
     "output_type": "stream",
     "text": [
      "Main Effect A - F-statistic: 1.8082615862606561, p-value: 0.18182095878579319\n",
      "Main Effect B - F-statistic: 0.12174365935810394, p-value: 0.7278995353995543\n",
      "Interaction Effect - F-statistic: 0.8783854922263483, p-value: 0.4551995251282638\n"
     ]
    }
   ],
   "source": [
    "# Print results\n",
    "print(f\"Main Effect A - F-statistic: {f_statistic_a}, p-value: {p_value_a}\")\n",
    "print(f\"Main Effect B - F-statistic: {f_statistic_b}, p-value: {p_value_b}\")\n",
    "print(f\"Interaction Effect - F-statistic: {f_statistic_interaction}, p-value: {p_value_interaction}\")"
   ]
  },
  {
   "cell_type": "markdown",
   "metadata": {},
   "source": [
    "## **Q6:-** \n",
    "### **Suppose you conducted a one-way ANOVA and obtained an F-statistic of 5.23 and a p-value of 0.02.**\n",
    "### **What can you conclude about the differences between the groups, and how would you interpret these results?**"
   ]
  },
  {
   "cell_type": "markdown",
   "metadata": {},
   "source": [
    "### **Ans:-**"
   ]
  },
  {
   "cell_type": "markdown",
   "metadata": {},
   "source": [
    "### **1.Significance of the F-statistic (ANOVA test):-**\n",
    "\n",
    "#### The F-statistic is a test statistic that compares the variance between groups to the variance within groups. If the F-statistic is significantly greater than 1, it suggests that there are significant differences among at least some of the group means.\n",
    "\n",
    "### **2.P-value (p):-**\n",
    "#### The p-value is the probability of observing the F-statistic (or a more extreme one) under the null hypothesis, which assumes that there are no significant differences between the groups.\n",
    "#### A small p-value (e.g., p < 0.05) indicates that the differences among the group means are statistically significant, and you reject the null hypothesis.\n",
    "\n",
    "\n",
    "### Based on your results:-\n",
    "#### The F-statistic of 5.23 suggests that there are significant differences between at least some of the groups.\n",
    "#### The p-value of 0.02 is less than the typical significance level of 0.05 (assuming a 5% significance level), which indicates that the differences among the group means are statistically significant."
   ]
  },
  {
   "cell_type": "markdown",
   "metadata": {},
   "source": [
    "## **Q7:-** \n",
    "### **In a repeated measures ANOVA, how would you handle missing data, and what are the potential consequences of using different methods to handle missing data?**"
   ]
  },
  {
   "cell_type": "markdown",
   "metadata": {},
   "source": [
    "### **Ans:-**"
   ]
  },
  {
   "cell_type": "markdown",
   "metadata": {},
   "source": [
    "### **1.Listwise Deletion (Complete Case Analysis):-**\n",
    "\n",
    "#### This method involves removing all cases with missing data from the analysis.\n",
    "#### Consequences:\n",
    "###### Pros: It's straightforward and does not require imputation.\n",
    "###### Cons: Can result in a significant loss of data, reduced statistical power, and potentially biased estimates if data are not missing completely at random (MCAR).\n",
    "### **2.Pairwise Deletion (Available Case Analysis):-**\n",
    "##### This method uses all available data for each pairwise comparison, even if some data points are missing for specific variables.\n",
    "#### Consequences:\n",
    "##### Pros: Maximizes the use of available data and may result in higher statistical power compared to listwise deletion.\n",
    "##### Cons: Estimates can be inconsistent due to the use of different subsets of the data for different comparisons, which may lead to biased results.\n"
   ]
  },
  {
   "cell_type": "markdown",
   "metadata": {},
   "source": [
    "## **Q8:-** \n",
    "### **What are some common post-hoc tests used after ANOVA, and when would you use each one? Provide an example of a situation where a post-hoc test might be necessary.**"
   ]
  },
  {
   "cell_type": "markdown",
   "metadata": {},
   "source": [
    "### **Ans:-**"
   ]
  },
  {
   "cell_type": "markdown",
   "metadata": {},
   "source": [
    "### **The post hoc test I'll use is Tukey's method. There are a variety of post hoc tests you can choose from, but Tukey's method is the most common for comparing all possible group pairings. There are two ways to present post hoc test results—adjusted p-values and simultaneous confidence intervals.**"
   ]
  },
  {
   "cell_type": "markdown",
   "metadata": {},
   "source": [
    "## **Q9:-** \n",
    "### **A researcher wants to compare the mean weight loss of three diets: A, B, and C. They collect data from 50 participants who were randomly assigned to one of the diets. Conduct a one-way ANOVA using Python to determine if there are any significant differences between the mean weight loss of the three diets.**\n",
    "### **Report the F-statistic and p-value, and interpret the results.**"
   ]
  },
  {
   "cell_type": "markdown",
   "metadata": {},
   "source": [
    "### **Ans:-**"
   ]
  },
  {
   "cell_type": "code",
   "execution_count": 14,
   "metadata": {},
   "outputs": [],
   "source": [
    "import numpy as np\n",
    "import scipy.stats as stats"
   ]
  },
  {
   "cell_type": "code",
   "execution_count": 15,
   "metadata": {},
   "outputs": [],
   "source": [
    "diet_A = [1.5, 2.0, 1.8, 1.6, 1.7, 1.9, 2.1, 1.8, 2.0, 1.6, 1.7, 2.1, 1.9, 2.0, 1.8, 1.6, 1.7, 1.9, 2.1, 1.8, 2.0, 1.6, 1.7, 2.1, 1.9, 2.0, 1.8, 1.6, 1.7, 1.9]\n",
    "diet_B = [1.0, 1.2, 1.1, 1.3, 1.5, 1.4, 1.2, 1.1, 1.3, 1.5, 1.4, 1.2, 1.1, 1.3, 1.5, 1.4, 1.2, 1.1, 1.3, 1.5, 1.4, 1.2, 1.1, 1.3, 1.5, 1.4, 1.2, 1.1, 1.3, 1.5]\n",
    "diet_C = [0.5, 0.8, 0.7, 0.9, 0.6, 0.8, 0.7, 0.9, 0.6, 0.8, 0.7, 0.9, 0.6, 0.8, 0.7, 0.9, 0.6, 0.8, 0.7, 0.9, 0.6, 0.8, 0.7, 0.9, 0.6, 0.8, 0.7, 0.9, 0.6, 0.8]"
   ]
  },
  {
   "cell_type": "code",
   "execution_count": 16,
   "metadata": {},
   "outputs": [],
   "source": [
    "# Perform a one-way ANOVA\n",
    "f_statistic, p_value = stats.f_oneway(diet_A, diet_B, diet_C)"
   ]
  },
  {
   "cell_type": "code",
   "execution_count": 17,
   "metadata": {},
   "outputs": [
    {
     "name": "stdout",
     "output_type": "stream",
     "text": [
      "F-statistic: 383.08\n",
      "P-value: 0.0000\n"
     ]
    }
   ],
   "source": [
    "print(f\"F-statistic: {f_statistic:.2f}\")\n",
    "print(f\"P-value: {p_value:.4f}\")\n",
    "alpha = 0.05  # Significance level\n"
   ]
  },
  {
   "cell_type": "code",
   "execution_count": 18,
   "metadata": {},
   "outputs": [
    {
     "name": "stdout",
     "output_type": "stream",
     "text": [
      "Reject the null hypothesis. There are significant differences between the mean weight loss of the three diets.\n"
     ]
    }
   ],
   "source": [
    "if p_value < alpha:\n",
    "    print(\"Reject the null hypothesis. There are significant differences between the mean weight loss of the three diets.\")\n",
    "else:\n",
    "    print(\"Fail to reject the null hypothesis. There are no significant differences between the mean weight loss of the three diets.\")\n"
   ]
  },
  {
   "cell_type": "markdown",
   "metadata": {},
   "source": [
    "## **Q10:-**  \n",
    "### **A company wants to know if there are any significant differences in the average time it takes to complete a task using three different software programs: Program A, Program B, and Program C. They randomly assign 30 employees to one of the programs and record the time it takes each employee to complete the task. Conduct a two-way ANOVA using Python to determine if there are any main effects or interaction effects between the software programs and employee experience level (novice vs. experienced). Report the F-statistics and p-values, and interpret the results.**"
   ]
  },
  {
   "cell_type": "markdown",
   "metadata": {},
   "source": [
    "### **Ans:-**"
   ]
  },
  {
   "cell_type": "code",
   "execution_count": 19,
   "metadata": {},
   "outputs": [],
   "source": [
    "import pandas as pd\n",
    "import statsmodels.api as sm\n",
    "from statsmodels.formula.api import ols"
   ]
  },
  {
   "cell_type": "code",
   "execution_count": 20,
   "metadata": {},
   "outputs": [],
   "source": [
    "data = {\n",
    "    'Software': ['A', 'B', 'C'] * 30, \n",
    "    'Experience': ['Novice', 'Experienced'] * 45, \n",
    "    'Time': [25, 30, 28, 22, 27, 26, 24, 29, 31] * 10, \n",
    "}\n",
    "df = pd.DataFrame(data)"
   ]
  },
  {
   "cell_type": "code",
   "execution_count": 21,
   "metadata": {},
   "outputs": [],
   "source": [
    "# Perform a two-way ANOVA\n",
    "formula = 'Time ~ Software + Experience + Software:Experience'\n",
    "model = ols(formula, data=df).fit()\n",
    "anova_table = sm.stats.anova_lm(model, typ=2)"
   ]
  },
  {
   "cell_type": "code",
   "execution_count": 22,
   "metadata": {},
   "outputs": [
    {
     "name": "stdout",
     "output_type": "stream",
     "text": [
      "ANOVA Results:\n",
      "                           sum_sq    df             F        PR(>F)\n",
      "Software             4.688889e+02   2.0  8.951515e+01  1.511775e-21\n",
      "Experience           1.767190e-27   1.0  6.747454e-28  1.000000e+00\n",
      "Software:Experience  5.127596e-29   2.0  9.789047e-30  1.000000e+00\n",
      "Residual             2.200000e+02  84.0           NaN           NaN\n"
     ]
    }
   ],
   "source": [
    "print(\"ANOVA Results:\")\n",
    "print(anova_table)\n"
   ]
  },
  {
   "cell_type": "markdown",
   "metadata": {},
   "source": [
    "## **Q11:-**  \n",
    "### **An educational researcher is interested in whether a new teaching method improves student test scores. They randomly assign 100 students to either the control group (traditional teaching method) or the experimental group (new teaching method) and administer a test at the end of the semester. Conduct a two-sample t-test using Python to determine if there are any significant differences in test scores between the two groups. If the results are significant, follow up with a post-hoc test to determine which group(s) differ significantly from each other.**"
   ]
  },
  {
   "cell_type": "markdown",
   "metadata": {},
   "source": [
    "### **Ans:-**"
   ]
  },
  {
   "cell_type": "code",
   "execution_count": 23,
   "metadata": {},
   "outputs": [],
   "source": [
    "import numpy as np\n",
    "import scipy.stats as stats\n",
    "control_group_scores = np.array([75, 80, 82, 78, 76, 79, 81, 77, 74, 76, 80, 82, 78, 75, 77, 79, 76, 80, 82, 78, 76, 79, 81, 77, 74, 76, 80, 82, 78, 76])\n",
    "experimental_group_scores = np.array([85, 88, 90, 87, 84, 89, 86, 88, 87, 86, 90, 91, 88, 85, 87, 89, 86, 90, 91, 88, 86, 85, 88, 87, 84, 89, 86, 88, 87, 86])"
   ]
  },
  {
   "cell_type": "code",
   "execution_count": 24,
   "metadata": {},
   "outputs": [
    {
     "name": "stdout",
     "output_type": "stream",
     "text": [
      "t-statistic: -16.09\n",
      "P-value: 0.0000\n"
     ]
    }
   ],
   "source": [
    "t_statistic, p_value = stats.ttest_ind(control_group_scores, experimental_group_scores)\n",
    "\n",
    "print(f\"t-statistic: {t_statistic:.2f}\")\n",
    "print(f\"P-value: {p_value:.4f}\")\n",
    "\n",
    "# Interpret the results\n",
    "alpha = 0.05  # Significance level"
   ]
  },
  {
   "cell_type": "code",
   "execution_count": 25,
   "metadata": {},
   "outputs": [
    {
     "name": "stdout",
     "output_type": "stream",
     "text": [
      "Reject the null hypothesis. There is a significant difference in test scores between the two groups.\n"
     ]
    }
   ],
   "source": [
    "if p_value < alpha:\n",
    "    print(\"Reject the null hypothesis. There is a significant difference in test scores between the two groups.\")\n",
    "else:\n",
    "    print(\"Fail to reject the null hypothesis. There is no significant difference in test scores between the two groups.\")\n"
   ]
  },
  {
   "cell_type": "markdown",
   "metadata": {},
   "source": [
    "## **Q12:-** \n",
    "### **A researcher wants to know if there are any significant differences in the average daily sales of three retail stores: Store A, Store B, and Store C. They randomly select 30 days and record the sales for each store on those days. Conduct a repeated measures ANOVA using Python to determine if there are any significant differences in sales between the three stores. If the results are significant, follow up with a post- hoc test to determine which store(s) differ significantly from each other.**"
   ]
  },
  {
   "cell_type": "markdown",
   "metadata": {},
   "source": [
    "### **Ans:-**"
   ]
  },
  {
   "cell_type": "code",
   "execution_count": 26,
   "metadata": {},
   "outputs": [],
   "source": [
    "import numpy as np\n",
    "import scipy.stats as stats"
   ]
  },
  {
   "cell_type": "code",
   "execution_count": 27,
   "metadata": {},
   "outputs": [],
   "source": [
    "store_A_sales = np.array([100, 110, 120, 130, 115, 105, 125, 110, 115, 120, 130, 135, 140, 115, 125, 130, 105, 120, 115, 110, 135, 125, 110, 120, 125, 135, 130, 120, 110, 125])\n",
    "store_B_sales = np.array([90, 95, 100, 105, 110, 115, 95, 100, 105, 110, 115, 120, 125, 130, 100, 105, 110, 115, 120, 95, 100, 105, 110, 115, 120, 105, 110, 95, 100, 105])\n",
    "store_C_sales = np.array([70, 75, 80, 85, 90, 95, 70, 75, 80, 85, 90, 95, 70, 75, 80, 85, 90, 95, 70, 75, 80, 85, 90, 95, 80, 85, 70, 75, 80, 85])"
   ]
  },
  {
   "cell_type": "code",
   "execution_count": 28,
   "metadata": {},
   "outputs": [
    {
     "name": "stdout",
     "output_type": "stream",
     "text": [
      "F-statistic: 128.45\n",
      "P-value: 0.0000\n"
     ]
    }
   ],
   "source": [
    "\n",
    "# Perform a one-way ANOVA\n",
    "f_statistic, p_value = stats.f_oneway(store_A_sales, store_B_sales, store_C_sales)\n",
    "\n",
    "print(f\"F-statistic: {f_statistic:.2f}\")\n",
    "print(f\"P-value: {p_value:.4f}\")\n",
    "\n",
    "# Interpret the results\n",
    "alpha = 0.05  # Significance level"
   ]
  },
  {
   "cell_type": "code",
   "execution_count": 29,
   "metadata": {},
   "outputs": [
    {
     "name": "stdout",
     "output_type": "stream",
     "text": [
      "Reject the null hypothesis. There are significant differences in sales between the three stores.\n"
     ]
    }
   ],
   "source": [
    "if p_value < alpha:\n",
    "    print(\"Reject the null hypothesis. There are significant differences in sales between the three stores.\")\n",
    "else:\n",
    "    print(\"Fail to reject the null hypothesis. There are no significant differences in sales between the three stores.\")\n"
   ]
  }
 ],
 "metadata": {
  "kernelspec": {
   "display_name": "base",
   "language": "python",
   "name": "python3"
  },
  "language_info": {
   "codemirror_mode": {
    "name": "ipython",
    "version": 3
   },
   "file_extension": ".py",
   "mimetype": "text/x-python",
   "name": "python",
   "nbconvert_exporter": "python",
   "pygments_lexer": "ipython3",
   "version": "3.11.5"
  }
 },
 "nbformat": 4,
 "nbformat_minor": 2
}
