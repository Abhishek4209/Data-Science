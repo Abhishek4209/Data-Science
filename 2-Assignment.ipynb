{
 "cells": [
  {
   "attachments": {},
   "cell_type": "markdown",
   "metadata": {},
   "source": [
    "# **Assignment:-**"
   ]
  },
  {
   "attachments": {},
   "cell_type": "markdown",
   "metadata": {},
   "source": [
    "## **Q1. How do you comment code in Python? What are the different types of comments?**"
   ]
  },
  {
   "attachments": {},
   "cell_type": "markdown",
   "metadata": {},
   "source": [
    "### Comments are brief descriptions of the logic and workings of the written code. They are used to enhance code readability. Generally, two types of comments exist: single-line comments. multi-line comments.\n"
   ]
  },
  {
   "attachments": {},
   "cell_type": "markdown",
   "metadata": {},
   "source": [
    "#### **Single line comment:-**"
   ]
  },
  {
   "cell_type": "code",
   "execution_count": 6,
   "metadata": {},
   "outputs": [
    {
     "name": "stdout",
     "output_type": "stream",
     "text": [
      "Above linr is a single line comment \n"
     ]
    }
   ],
   "source": [
    "# This is a single line comment in python.\n",
    "print(\"Above line is a single line comment \")"
   ]
  },
  {
   "cell_type": "code",
   "execution_count": 5,
   "metadata": {},
   "outputs": [
    {
     "name": "stdout",
     "output_type": "stream",
     "text": [
      "Above Sentance is a multi line comment\n"
     ]
    }
   ],
   "source": [
    "\"\"\"This is a multi line comments in python .\"\"\"\n",
    "print(\"Above Sentance is a multi line comment\")"
   ]
  },
  {
   "attachments": {},
   "cell_type": "markdown",
   "metadata": {},
   "source": [
    "## **Q2. What are variables in Python? How do you declare and assign values to variables?**"
   ]
  },
  {
   "attachments": {},
   "cell_type": "markdown",
   "metadata": {},
   "source": [
    "#### Variables is the name of memory location , where we store data.\n",
    "#### **1.Just name the variable.**\n",
    "#### **2.Assign the required value to it.**\n",
    "#### **3.The data type of the variable will be automatically determined from the value assigned, we need not define it explicitly**\n",
    "#### Here we get an example for assign value in a variable."
   ]
  },
  {
   "cell_type": "code",
   "execution_count": 8,
   "metadata": {},
   "outputs": [],
   "source": [
    "a=10\n",
    "b=12\n"
   ]
  },
  {
   "attachments": {},
   "cell_type": "markdown",
   "metadata": {},
   "source": [
    "## **Q3. How do you convert one data type to another in Python?**"
   ]
  },
  {
   "attachments": {},
   "cell_type": "markdown",
   "metadata": {},
   "source": [
    "#### **In python, if we want to convert type of data from one to another then we used a reserve word. Which meaning is already define in python compiler.**"
   ]
  },
  {
   "cell_type": "code",
   "execution_count": 36,
   "metadata": {},
   "outputs": [
    {
     "name": "stdout",
     "output_type": "stream",
     "text": [
      "<class 'int'>\n",
      "<class 'str'>\n",
      "<class 'str'>\n",
      "<class 'int'>\n",
      "<class 'int'>\n"
     ]
    }
   ],
   "source": [
    "a=12 #Here a is int type data.\n",
    "print(type(a))\n",
    "a=str(a) #Here a is a str type data.\n",
    "print(type(a))\n",
    "b=\"12\"# Here b is str type data.\n",
    "print(type(b))\n",
    "b=int(b) #Here b is int type data.\n",
    "print(type(b))\n",
    "c=int(input(\"pls enter a number\"))#input function is always taken input in string form.\n",
    "print(type(c))\n"
   ]
  },
  {
   "attachments": {},
   "cell_type": "markdown",
   "metadata": {},
   "source": [
    "## **Q4. How do you write and execute a Python script from the command line?**"
   ]
  },
  {
   "attachments": {},
   "cell_type": "markdown",
   "metadata": {},
   "source": [
    "#### open a command-line and type in the word python , or python3 if you have both versions, followed by the path to your script"
   ]
  },
  {
   "attachments": {},
   "cell_type": "markdown",
   "metadata": {},
   "source": [
    "## **Q5. Given a list my_list = [1, 2, 3, 4, 5], write the code to slice the list and obtain the sub-list [2, 3].**"
   ]
  },
  {
   "cell_type": "code",
   "execution_count": 26,
   "metadata": {},
   "outputs": [
    {
     "name": "stdout",
     "output_type": "stream",
     "text": [
      "[2, 3]\n",
      "[2, 3]\n"
     ]
    }
   ],
   "source": [
    "my_list=[1,2,3,4,5]\n",
    "print(my_list[1:3])\n",
    "print(my_list[-4:-2])"
   ]
  },
  {
   "attachments": {},
   "cell_type": "markdown",
   "metadata": {},
   "source": [
    "## **Q6. What is a complex number in mathematics, and how is it represented in Python?**"
   ]
  },
  {
   "attachments": {},
   "cell_type": "markdown",
   "metadata": {},
   "source": [
    "#### Combination of two values(Real ,Imaginary) is known as complex number.\n",
    "#### ex:-2+3j"
   ]
  },
  {
   "cell_type": "code",
   "execution_count": 20,
   "metadata": {},
   "outputs": [
    {
     "name": "stdout",
     "output_type": "stream",
     "text": [
      "<class 'complex'>\n",
      "Given complex number is:- (2+3j)\n",
      "The real part of complex number is:- 2.0\n",
      "The imaginary part of complex number is:- 3.0\n"
     ]
    }
   ],
   "source": [
    "a=complex(2,3)\n",
    "print(type(a))\n",
    "print(\"Given complex number is:-\",a)\n",
    "print(\"The real part of complex number is:-\",a.real)\n",
    "print(\"The imaginary part of complex number is:-\",a.imag)\n"
   ]
  },
  {
   "attachments": {},
   "cell_type": "markdown",
   "metadata": {},
   "source": [
    "## **Q7. What is the correct way to declare a variable named age and assign the value 25 to it?**"
   ]
  },
  {
   "attachments": {},
   "cell_type": "markdown",
   "metadata": {},
   "source": [
    "#### ➡️Just name the variable.\n",
    "#### ➡️Assign the required value to it.\n",
    "#### ➡️The data type of the variable will be automatically determined from the value assigned, we need not define it explicitly"
   ]
  },
  {
   "cell_type": "code",
   "execution_count": null,
   "metadata": {},
   "outputs": [],
   "source": [
    "age=25"
   ]
  },
  {
   "attachments": {},
   "cell_type": "markdown",
   "metadata": {},
   "source": [
    "## **Q8. Declare a variable named price and assign the value 9.99 to it. What data type does this variable belong to?**"
   ]
  },
  {
   "cell_type": "code",
   "execution_count": 31,
   "metadata": {},
   "outputs": [
    {
     "name": "stdout",
     "output_type": "stream",
     "text": [
      "<class 'float'>\n"
     ]
    }
   ],
   "source": [
    "price=9.99\n",
    "print(type(price))"
   ]
  },
  {
   "attachments": {},
   "cell_type": "markdown",
   "metadata": {},
   "source": [
    "## **Q9. Create a variable named name and assign your full name to it as a string. How would you print the value of this variable?**"
   ]
  },
  {
   "cell_type": "code",
   "execution_count": 2,
   "metadata": {},
   "outputs": [
    {
     "name": "stdout",
     "output_type": "stream",
     "text": [
      "Abhishek Upadhyay"
     ]
    }
   ],
   "source": [
    "name=\"Abhishek Upadhyay\"\n",
    "for i in range(len(name)):\n",
    "    print(name[i],end=\"\")\n"
   ]
  },
  {
   "attachments": {},
   "cell_type": "markdown",
   "metadata": {},
   "source": [
    "## **Q10. Given the string \"Hello, World!\", extract the substring \"World\".**"
   ]
  },
  {
   "cell_type": "code",
   "execution_count": 30,
   "metadata": {},
   "outputs": [
    {
     "name": "stdout",
     "output_type": "stream",
     "text": [
      "W\n",
      "o\n",
      "r\n",
      "l\n",
      "d\n"
     ]
    }
   ],
   "source": [
    "a=\"Hellow,World!\"\n",
    "for i in range(7,12):\n",
    "    print(a[i])\n"
   ]
  },
  {
   "attachments": {},
   "cell_type": "markdown",
   "metadata": {},
   "source": [
    "### **Q11. Create a variable named \"is_student\" and assign it a boolean value indicating whether you are currently a student or not.**"
   ]
  },
  {
   "cell_type": "code",
   "execution_count": 19,
   "metadata": {},
   "outputs": [
    {
     "name": "stdout",
     "output_type": "stream",
     "text": [
      "<class 'dict'>\n",
      "{'Student': True, 'Not_Student': False}\n"
     ]
    }
   ],
   "source": [
    "is_student={\"Student\":True,\"Not_Student\":False}# We can easly solve this problem by using dictionary.\n",
    "print(type(is_student))\n",
    "print(is_student)"
   ]
  }
 ],
 "metadata": {
  "kernelspec": {
   "display_name": "Python 3",
   "language": "python",
   "name": "python3"
  },
  "language_info": {
   "codemirror_mode": {
    "name": "ipython",
    "version": 3
   },
   "file_extension": ".py",
   "mimetype": "text/x-python",
   "name": "python",
   "nbconvert_exporter": "python",
   "pygments_lexer": "ipython3",
   "version": "3.10.6"
  },
  "orig_nbformat": 4
 },
 "nbformat": 4,
 "nbformat_minor": 2
}
