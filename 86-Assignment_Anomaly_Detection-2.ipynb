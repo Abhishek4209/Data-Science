{
 "cells": [
  {
   "cell_type": "markdown",
   "metadata": {},
   "source": [
    "## **Q1:-** \n",
    "### **What is the role of feature selection in anomaly detection?**"
   ]
  },
  {
   "cell_type": "markdown",
   "metadata": {},
   "source": [
    "### **Ans:-**"
   ]
  },
  {
   "cell_type": "markdown",
   "metadata": {},
   "source": [
    "### **Feature extraction and selection:-**\n",
    "#### **Feature extraction refers to transforming your data into a lower-dimensional space, while feature selection refers to choosing a subset of features that are most relevant and informative for your anomaly detection task.**"
   ]
  },
  {
   "cell_type": "markdown",
   "metadata": {},
   "source": [
    "## **Q2:-** \n",
    "### **What are some common evaluation metrics for anomaly detection algorithms and how are they computed?**"
   ]
  },
  {
   "cell_type": "markdown",
   "metadata": {},
   "source": [
    "### **Ans:-**"
   ]
  },
  {
   "cell_type": "markdown",
   "metadata": {},
   "source": [
    "### **Generally, in order to evaluate the quality of an anomaly detection technique, the confusion matrix and its derived metrics such as precision and recall are used. These metrics, however, do not take this temporal dimension into consideration.**"
   ]
  },
  {
   "cell_type": "markdown",
   "metadata": {},
   "source": [
    "## **Q3:-** \n",
    "### **What is DBSCAN and how does it work for clustering?**"
   ]
  },
  {
   "cell_type": "markdown",
   "metadata": {},
   "source": [
    "### **Ans:-**"
   ]
  },
  {
   "cell_type": "markdown",
   "metadata": {},
   "source": [
    "### **DBSCAN stands for density-based spatial clustering of applications with noise. It is able to find arbitrary shaped clusters and clusters with noise (i.e. outliers). The main idea behind DBSCAN is that a point belongs to a cluster if it is close to many points from that cluster.**"
   ]
  },
  {
   "cell_type": "markdown",
   "metadata": {},
   "source": [
    "## **Q4:-** \n",
    "### **How does the epsilon parameter affect the performance of DBSCAN in detecting anomalies?**"
   ]
  },
  {
   "cell_type": "markdown",
   "metadata": {},
   "source": [
    "### **Ans:-**"
   ]
  },
  {
   "cell_type": "markdown",
   "metadata": {},
   "source": [
    "### **Too small epsilon: If epsilon is chosen much too small, then a large part of the data will not be clustered. Too large epsilon: If epsilon is chosen much too large, then clusters will merge and the majority of objects will be in the same cluster.**"
   ]
  },
  {
   "cell_type": "markdown",
   "metadata": {},
   "source": [
    "## **Q5:-** \n",
    "### **What are the differences between the core, border, and noise points in DBSCAN, and how do they relate to anomaly detection?**"
   ]
  },
  {
   "cell_type": "markdown",
   "metadata": {},
   "source": [
    "### **Ans:-**"
   ]
  },
  {
   "cell_type": "markdown",
   "metadata": {},
   "source": [
    "### **Core points are those that have a minimum number of points (MinPts) within a specified radius ε. Border points have fewer than MinPts within ε but are in the neighborhood of a core point. Noise points are all other points that are neither core nor border points.**"
   ]
  },
  {
   "cell_type": "markdown",
   "metadata": {},
   "source": [
    "## **Q6:-** \n",
    "### **How does DBSCAN detect anomalies and what are the key parameters involved in the process?**"
   ]
  },
  {
   "cell_type": "markdown",
   "metadata": {},
   "source": [
    "### **Ans:-**"
   ]
  },
  {
   "cell_type": "markdown",
   "metadata": {},
   "source": [
    "### **There are two key parameters of DBSCAN : eps: The distance that specifies the neighborhoods. Two points are considered to be neighbors if the distance between them are less than or equal to eps. minPts: Minimum number of data points to define a cluster**"
   ]
  },
  {
   "cell_type": "markdown",
   "metadata": {},
   "source": [
    "## **Q7:-** \n",
    "### **What is the make_circles package in scikit-learn used for?**"
   ]
  },
  {
   "cell_type": "markdown",
   "metadata": {},
   "source": [
    "### **Ans:-**"
   ]
  },
  {
   "cell_type": "markdown",
   "metadata": {},
   "source": [
    "### **Make a large circle containing a smaller circle in 2d. A simple toy dataset to visualize clustering and classification algorithms. Read more in the User Guide.**"
   ]
  },
  {
   "cell_type": "markdown",
   "metadata": {},
   "source": [
    "## **Q8:-** \n",
    "### **What are local outliers and global outliers, and how do they differ from each other?**"
   ]
  },
  {
   "cell_type": "markdown",
   "metadata": {},
   "source": [
    "### **Ans:-**"
   ]
  },
  {
   "cell_type": "markdown",
   "metadata": {},
   "source": [
    "### **There are two general types of outlier detection: global and local. Global outliers fall outside the normal range for an entire dataset, whereas local outliers may fall within the normal range for the entire dataset, but outside the normal range for the surrounding data points**"
   ]
  },
  {
   "cell_type": "markdown",
   "metadata": {},
   "source": [
    "## **Q9:-** \n",
    "### **How can local outliers be detected using the Local Outlier Factor (LOF) algorithm?**"
   ]
  },
  {
   "cell_type": "markdown",
   "metadata": {},
   "source": [
    "### **Ans:-**"
   ]
  },
  {
   "cell_type": "markdown",
   "metadata": {},
   "source": [
    "### **Due to the local approach, LOF is able to identify outliers in a data set that would not be outliers in another area of the data set. For example, a point at a \"small\" distance to a very dense cluster is an outlier, while a point within a sparse cluster might exhibit similar distances to its neighbors.**"
   ]
  },
  {
   "cell_type": "markdown",
   "metadata": {},
   "source": [
    "## **Q10:-** \n",
    "### **How can global outliers be detected using the Isolation Forest algorithm?**"
   ]
  },
  {
   "cell_type": "markdown",
   "metadata": {},
   "source": [
    "### **Ans:-**"
   ]
  },
  {
   "cell_type": "markdown",
   "metadata": {},
   "source": [
    "### **Isolation Forest is based on the Decision Tree algorithm. It isolates the outliers by randomly selecting a feature from the given set of features and then randomly selecting a split value between the max and min values of that feature**"
   ]
  },
  {
   "cell_type": "markdown",
   "metadata": {},
   "source": [
    "## **Q11:-** \n",
    "### **What are some real-world applications where local outlier detection is more appropriate than global outlier detection, and vice versa?**"
   ]
  },
  {
   "cell_type": "markdown",
   "metadata": {},
   "source": [
    "### **Ans:-**"
   ]
  },
  {
   "cell_type": "markdown",
   "metadata": {},
   "source": [
    "### **Local outlier detection and global outlier detection are two different approaches used in anomaly detection, and their suitability depends on the specific characteristics of the data and the goals of the analysis. Here are some real-world applications where one may be more appropriate than the other:**\n",
    "\n",
    "### **Local Outlier Detection:-**\n",
    "\n",
    "#### **1.Network Security: In a network, detecting local anomalies can help identify potentially compromised devices or unusual behavior in specific segments of the network, allowing for early intrusion detection**.\n",
    "\n",
    "#### **2.Manufacturing Quality Control: When monitoring the quality of products on an assembly line, local outlier detection can be used to identify anomalies in the measurements of individual components, which can help pinpoint the source of defects.**\n",
    "\n",
    "#### **3.Credit Card Fraud Detection: For credit card transactions, it's important to detect unusual spending patterns for individual accounts, which may indicate fraud. Local outlier detection can be applied on a per-customer basis.**\n",
    "\n",
    "#### **4.Environmental Monitoring: In environmental monitoring systems, local anomalies may indicate pollution or contamination in specific geographic regions, helping authorities take targeted actions.**\n",
    "\n",
    "#### **5.Healthcare: In patient monitoring, identifying local anomalies in vital signs can be crucial for early diagnosis and intervention, especially in intensive care units.**\n",
    "\n",
    "### **Global Outlier Detection:-**\n",
    "\n",
    "#### **1.Financial Fraud Detection: In the banking sector, global outlier detection is often used to detect large-scale fraudulent activities, such as money laundering schemes or fraudulent transactions affecting multiple accounts.**\n",
    "\n",
    "#### **2.Quality Assurance in Manufacturing: When monitoring overall manufacturing quality across multiple production lines or factories, global outlier detection can help identify systemic issues affecting the entire process.**\n",
    "\n",
    "#### **3.Environmental Monitoring (Global): Sometimes, it's important to identify global anomalies in environmental data to detect large-scale environmental events, such as climate change trends or natural disasters.**\n",
    "\n",
    "#### **4.Network Traffic Analysis: In cybersecurity, global outlier detection can be applied to detect large-scale distributed denial-of-service (DDoS) attacks or unusual patterns in network traffic that affect the entire infrastructure.**\n",
    "\n",
    "#### **5.Epidemiology: In disease outbreak detection, global outlier detection can be used to identify unusual spikes in cases across a region or country, indicating the potential spread of an infectious disease.**"
   ]
  }
 ],
 "metadata": {
  "language_info": {
   "name": "python"
  },
  "orig_nbformat": 4
 },
 "nbformat": 4,
 "nbformat_minor": 2
}
