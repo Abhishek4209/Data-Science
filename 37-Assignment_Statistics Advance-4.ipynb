{
 "cells": [
  {
   "cell_type": "markdown",
   "metadata": {},
   "source": [
    "## **Q1:-**\n",
    "### **What is the difference between a t-test and a z-test? Provide an example scenario where you would use each type of test.**"
   ]
  },
  {
   "cell_type": "markdown",
   "metadata": {},
   "source": [
    "### **Ans:-**"
   ]
  },
  {
   "cell_type": "markdown",
   "metadata": {},
   "source": [
    "### **The main difference between a t-test and a z-test is the number of observations in the sample. A t-test is used when the number of observations is less than 30, while a z-test is used when the number of observations is greater than or equal to 30.**\n",
    "### **Another difference between the two tests is the assumption about the population standard deviation. A t-test assumes that the population standard deviation is unknown, while a z-test assumes that the population standard deviation is known.**"
   ]
  },
  {
   "cell_type": "markdown",
   "metadata": {},
   "source": [
    "## **Q2:-**  \n",
    "### **Differentiate between one-tailed and two-tailed tests.**"
   ]
  },
  {
   "cell_type": "markdown",
   "metadata": {},
   "source": [
    "### **Ans:-**"
   ]
  },
  {
   "cell_type": "markdown",
   "metadata": {},
   "source": [
    "### **One-tailed tests determine if there is statistical significance in one direction, while two-tailed tests determine if there is statistical significance between two groups in either direction.**"
   ]
  },
  {
   "cell_type": "markdown",
   "metadata": {},
   "source": [
    "## **Q3:-**  \n",
    "### **Explain the concept of Type 1 and Type 2 errors in hypothesis testing. Provide an example scenario for each type of error.**"
   ]
  },
  {
   "cell_type": "markdown",
   "metadata": {},
   "source": [
    "### **Ans:-**"
   ]
  },
  {
   "cell_type": "markdown",
   "metadata": {},
   "source": [
    "### **A type I error (false-positive) occurs if an investigator rejects a null hypothesis that is actually true in the population; a type II error (false-negative) occurs if the investigator fails to reject a null hypothesis that is actually false in the population.**"
   ]
  },
  {
   "cell_type": "markdown",
   "metadata": {},
   "source": [
    "## **Q4:-**  \n",
    "### **Explain Bayes's theorem with an example.**"
   ]
  },
  {
   "cell_type": "markdown",
   "metadata": {},
   "source": [
    "### **Ans:-**"
   ]
  },
  {
   "cell_type": "markdown",
   "metadata": {},
   "source": [
    "### **Bayes' Theorem follows simply from the axioms of conditional probability, which is the probability of an event given that another event occurred. For example, a simple probability question may ask: \"What is the probability of Amazon.com's stock price falling?\"**"
   ]
  },
  {
   "cell_type": "markdown",
   "metadata": {},
   "source": [
    "## **Q5:-**  \n",
    "### **What is a confidence interval? How to calculate the confidence interval, explain with an example.**"
   ]
  },
  {
   "cell_type": "markdown",
   "metadata": {},
   "source": [
    "### **Ans:-**"
   ]
  },
  {
   "cell_type": "markdown",
   "metadata": {},
   "source": [
    "### **Analysts often use confidence intervals that contain either 95% or 99% of expected observations. Thus, if a point estimate is generated from a statistical model of 10.00 with a 95% confidence interval of 9.50 - 10.50, it can be inferred that there is a 95% probability that the true value falls within that range.**"
   ]
  },
  {
   "cell_type": "markdown",
   "metadata": {},
   "source": [
    "## **Q6:-**  \n",
    "### **Use Bayes' Theorem to calculate the probability of an event occurring given prior knowledge of the event's probability and new evidence. Provide a sample problem and solution.**"
   ]
  },
  {
   "cell_type": "markdown",
   "metadata": {},
   "source": [
    "### **Ans:-**"
   ]
  },
  {
   "cell_type": "markdown",
   "metadata": {},
   "source": [
    "### **Bayes' Theorem is a mathematical formula that helps calculate the probability of an event occurring, given prior knowledge of the event's probability and new evidence. The formula is:**\n",
    "### P(A∣B)= P(A)P(B∣A)/P(B)"
   ]
  },
  {
   "cell_type": "markdown",
   "metadata": {},
   "source": [
    "Suppose you are a doctor and you have a patient with a certain set of symptoms. You know that there are two possible diseases that could cause these symptoms: Disease X and Disease Y. You also know that in the general population, Disease X occurs in 2% of cases, and Disease Y occurs in 1% of cases. Additionally, you have conducted tests that are 95% accurate for Disease X and 90% accurate for Disease Y."
   ]
  },
  {
   "cell_type": "markdown",
   "metadata": {},
   "source": [
    "##### Solution:\n",
    "\n",
    "##### Let's define the events:\n",
    "\n",
    "##### Event A: The patient has Disease X.\n",
    "##### Event B: The test result is positive.\n",
    "##### We want to find P(A∣B), the probability that the patient has Disease X given a positive test result.\n",
    "\n",
    "##### Using Bayes' Theorem:\n",
    "##### We know:\n",
    "\n",
    "##### P(A)=0.02 (prior probability of Disease X)\n",
    "##### P(B∣A)=0.95 (accuracy of the test for Disease X)\n",
    "##### P(B∣A)=1−P(B∣A)=0.05 (probability of a false negative, where Disease X)\n",
    "\n",
    "\n",
    "\n",
    "##### Now, calculate P(B), the probability of getting a positive test result:\n",
    "\n",
    "\n",
    "##### P(B)=P(B∣A)⋅P(A)+P(B∣A)\n",
    "##### P(B)=(0.95⋅0.02)+(0.1⋅0.98)\n",
    "##### Now, plug these values into the Bayes' Theorem formula:\n",
    "\n",
    "##### P(A∣B)= (0.95⋅0.02)/[(0.95⋅0.02)+(0.1⋅0.98)]\n",
    "\n",
    "#### Calculate P(A∣B) to find the probability that the patient has Disease X given a positive test result."
   ]
  },
  {
   "cell_type": "markdown",
   "metadata": {},
   "source": [
    "## **Q7:-** \n",
    "### **Calculate the 95% confidence interval for a sample of data with a mean of 50 and a standard deviation of 5. Interpret the results.**"
   ]
  },
  {
   "cell_type": "markdown",
   "metadata": {},
   "source": [
    "### **Ans:-**"
   ]
  },
  {
   "cell_type": "markdown",
   "metadata": {},
   "source": [
    "#### For a 95% confidence interval, the Z-score is approximately 1.96. This value is commonly used for large sample sizes.\n",
    "####  x=50 (sample mean),\n",
    "#### s=5 (sample standard deviation).\n",
    "### Confidence Interval=50±1.96( 5/(n)^1/2)\n",
    "#### Since the sample size (n) is not provided, I'll assume a large sample size for the sake of illustration. If you have the actual sample size, please substitute it into the formula.\n",
    "\n",
    "### Interpretation of the results:\n",
    "#### The 95% confidence interval for the true population mean is an interval within which we are 95% confident the population mean lies. In this case, if you were to repeat the sampling process many times and calculate a 95% confidence interval each time, you would expect the true population mean to fall within the calculated interval about 95% of the time."
   ]
  },
  {
   "cell_type": "markdown",
   "metadata": {},
   "source": [
    "## **Q8:-**  \n",
    "### **What is the margin of error in a confidence interval? How does sample size affect the margin of error? Provide an example of a scenario where a larger sample size would result in a smaller margin of error.**"
   ]
  },
  {
   "cell_type": "markdown",
   "metadata": {},
   "source": [
    "### **Ans:-**"
   ]
  },
  {
   "cell_type": "markdown",
   "metadata": {},
   "source": [
    "### The margin of error (MOE) is a measure of the precision or uncertainty associated with a particular sample-based estimate. It is often used in the context of confidence intervals, which are ranges of values used to estimate a population parameter, such as a mean or proportion.\n",
    "\n",
    "### The margin of error is influenced by several factors, including the level of confidence chosen and the standard deviation of the population. However, one of the most critical factors affecting the margin of error is the sample size. In general, larger sample sizes tend to result in smaller margins of error, while smaller sample sizes lead to larger margins of error.\n",
    "\n",
    "### The formula for the margin of error in the context of estimating a population mean (assuming a normal distribution) is:"
   ]
  },
  {
   "cell_type": "markdown",
   "metadata": {},
   "source": [
    "### MOE=Z×(σ/(n)^1/2)"
   ]
  },
  {
   "cell_type": "markdown",
   "metadata": {},
   "source": [
    "### Where:\n",
    "#### MOE is the margin of error.\n",
    "#### Z is the z-score corresponding to the chosen level of confidence (e.g., 1.96 for a 95% confidence interval).\n",
    "#### σ is the population standard deviation.\n",
    "#### n is the sample size."
   ]
  },
  {
   "cell_type": "markdown",
   "metadata": {},
   "source": [
    "#### Suppose you are conducting a survey to estimate the average height of adults in a certain city. You decide to collect data from a random sample of 100 individuals. If you calculate a 95% confidence interval for the mean height, the margin of error will be relatively small due to the larger sample size.\n",
    "\n",
    "#### Now, imagine you had chosen a smaller sample size of only 30 individuals. In this case, the margin of error would be larger, indicating greater uncertainty in your estimate of the population mean height."
   ]
  },
  {
   "cell_type": "markdown",
   "metadata": {},
   "source": [
    "## **Q9:-**  \n",
    "### **Calculate the z-score for a data point with a value of 75, a population mean of 70, and a population standard deviation of 5. Interpret the results.**"
   ]
  },
  {
   "cell_type": "markdown",
   "metadata": {},
   "source": [
    "### **Ans:-**"
   ]
  },
  {
   "cell_type": "markdown",
   "metadata": {},
   "source": [
    "### The z-score (or standard score) is a measure of how many standard deviations a particular data point is from the mean of a population. The formula for calculating the z-score is:"
   ]
  },
  {
   "cell_type": "markdown",
   "metadata": {},
   "source": [
    "### X=75 (the value of the data point),\n",
    "### μ=70 (the mean of the population),\n",
    "### σ=5 (the standard deviation of the population).\n",
    "Now, l"
   ]
  },
  {
   "cell_type": "markdown",
   "metadata": {},
   "source": [
    "Z= (75−70)/5 =1\n",
    "\n"
   ]
  },
  {
   "cell_type": "markdown",
   "metadata": {},
   "source": [
    "### Interpretation:\n",
    "### A z-score of 1 means that the data point (75) is 1 standard deviation above the mean (70) of the population. In other words, the value of 75 is relatively high compared to the average value of the population, and it falls within the range of one standard deviation above the mean."
   ]
  },
  {
   "cell_type": "markdown",
   "metadata": {},
   "source": [
    "## **Q10:-** \n",
    "### **In a study of the effectiveness of a new weight loss drug, a sample of 50 participants lost an average of 6 pounds with a standard deviation of 2.5 pounds. Conduct a hypothesis test to determine if the drug is significantly effective at a 95% confidence level using a t-test.**"
   ]
  },
  {
   "cell_type": "markdown",
   "metadata": {},
   "source": [
    "### **Ans:-**"
   ]
  },
  {
   "cell_type": "markdown",
   "metadata": {},
   "source": [
    "### Null hypothesis (H0): The mean weight loss(μ) is equal to zero.\n",
    "### Alternative hypothesis (H1):The mean weight loss(μ) is not equal to zero."
   ]
  },
  {
   "cell_type": "markdown",
   "metadata": {},
   "source": [
    "### Given data:\n",
    "### Sample mean (X): 6 pounds\n",
    "### Sample standard deviation (s):2.5 pounds\n",
    "### Sample size(n): 50\n",
    "### The formula for the t-test statistic for a sample mean is:\n",
    "## **t=(X-μ0)/s/(n)^1/2**"
   ]
  },
  {
   "cell_type": "markdown",
   "metadata": {},
   "source": [
    "### X is the sample mean.\n",
    "### μ0 is the hypothesized population mean under the null hypothesis.\n",
    "### s is the sample standard deviation.\n",
    "### n is the sample size."
   ]
  },
  {
   "cell_type": "markdown",
   "metadata": {},
   "source": [
    "### In this case,μ0 is 0 (assuming no weight loss). The level of significance (α) is commonly set at 0.05 for a 95% confidence level.\n",
    "### Calculate the t-test statistic:"
   ]
  },
  {
   "cell_type": "markdown",
   "metadata": {},
   "source": [
    "### t= (6-0)/2.5/(50)^1/2"
   ]
  },
  {
   "cell_type": "markdown",
   "metadata": {},
   "source": [
    "### You can then compare the calculated t-test statistic to the critical t-value for a two-tailed test with n−1 degrees of freedom (where n is the sample size).\n",
    "### If the absolute value of the calculated t-test statistic is greater than the critical t-value, you would reject the null hypothesis and conclude that there is evidence to suggest a significant effect of the weight loss drug."
   ]
  },
  {
   "cell_type": "markdown",
   "metadata": {},
   "source": [
    "### Note: It's important to use a t-distribution table or statistical software to find the critical t-value based on the chosen level of significance and degrees of freedom. Additionally, be cautious about assumptions related to normality and the t-test. If the sample size is sufficiently large (usually n>30), the Central Limit Theorem often allows for the use of the t-test even if the population distribution is not exactly normal."
   ]
  },
  {
   "cell_type": "markdown",
   "metadata": {},
   "source": [
    "## **Q11:-**  \n",
    "### **In a survey of 500 people, 65% reported being satisfied with their current job. Calculate the 95% confidence interval for the true proportion of people who are satisfied with their job.**"
   ]
  },
  {
   "cell_type": "markdown",
   "metadata": {},
   "source": [
    "### **Ans:-**"
   ]
  },
  {
   "cell_type": "markdown",
   "metadata": {},
   "source": [
    "### To calculate the 95% confidence interval for the true proportion of people who are satisfied with their job, you can use the following formula for a confidence interval for a population proportion:\n",
    "\n",
    "#### Confidence Interval =(p^) ± (Z)X(p^(1-p^)/n)^1/2\n"
   ]
  },
  {
   "cell_type": "markdown",
   "metadata": {},
   "source": [
    "### Where:\n",
    "### p^ is the sample proportion (in decimal form).\n",
    "### Z is the z-score corresponding to the desired confidence level. For a 95% confidence interval, \n",
    "### Z≈1.96.\n",
    "### n is the sample size."
   ]
  },
  {
   "cell_type": "markdown",
   "metadata": {},
   "source": [
    "### In your case:\n",
    "### p^=0.65 (65% as a decimal is 0.65).\n",
    "### Z≈1.96 for a 95% confidence interval.\n",
    "### n=500 (sample size)."
   ]
  },
  {
   "cell_type": "markdown",
   "metadata": {},
   "source": [
    "### Now, plug in these values into the formula:\n",
    "### Confidence Interval=0.65±1.96×(0.65×(1−0.65)500)^1/2\n",
    "\n",
    "### Calculate the margin of error:\n",
    "### Margin of Error= 1.96 × 0.65 ×(1−0.65)500\n",
    "### Margin of Error=1.96× ((0.65 X (1-0.65)/500))^1/2\n",
    "​\n",
    "### Then, calculate the confidence interval:\n",
    "\n",
    "### Confidence Interval = 0.65±Margin of Error\n",
    "#### Perform the calculations to find the margin of error and then the confidence interval. The final result will be an interval estimate for the true proportion of people who are satisfied with their job at a 95% confidence level.\n",
    "\n",
    "\n",
    "\n",
    "\n",
    "\n"
   ]
  },
  {
   "cell_type": "markdown",
   "metadata": {},
   "source": [
    "## **Q12:-**  \n",
    "### **A researcher is testing the effectiveness of two different teaching methods on student performance. Sample A has a mean score of 85 with a standard deviation of 6, while sample B has a mean score of 82 with a standard deviation of 5. Conduct a hypothesis test to determine if the two teaching methods have a significant difference in student performance using a t-test with a significance level of 0.01.**"
   ]
  },
  {
   "cell_type": "markdown",
   "metadata": {},
   "source": [
    "### **Ans:-**"
   ]
  },
  {
   "cell_type": "markdown",
   "metadata": {},
   "source": [
    "### Now, set up the hypotheses:\n",
    "### H0:μ1−μ2=0\n",
    "### H1:μ1−μ2!=0"
   ]
  },
  {
   "cell_type": "markdown",
   "metadata": {},
   "source": [
    "## **t=(85-82)/(6^2/(n)+(5)^2/n)^1/2**"
   ]
  },
  {
   "cell_type": "markdown",
   "metadata": {},
   "source": [
    "### To determine the critical t-value, you would use the degrees of freedom, which is 2n−2 in this case. Since the significance level is 0.01, you would find the critical t-value for a two-tailed test with a significance level of 0.005.\n",
    "\n",
    "### If the calculated t-statistic is beyond the critical t-value, you would reject the null hypothesis and conclude that there is a significant difference in student performance between the two teaching methods. Otherwise, you would fail to reject the null hypothesis."
   ]
  },
  {
   "cell_type": "markdown",
   "metadata": {},
   "source": [
    "## **Q13:-** \n",
    "### **A population has a mean of 60 and a standard deviation of 8. A sample of 50 observations has a mean of 65. Calculate the 90% confidence interval for the true population mean.**"
   ]
  },
  {
   "cell_type": "markdown",
   "metadata": {},
   "source": [
    "### **Ans:-**"
   ]
  },
  {
   "cell_type": "markdown",
   "metadata": {},
   "source": [
    "#### To calculate the 90% confidence interval for the true population mean (μ), you can use the formula:\n",
    "\n",
    "#### Confidence Interval =xˉ ± Z(s/ (n)^1/2)\n",
    "\n",
    "#### where:\n",
    "#### xˉ is the sample mean,\n",
    "\n",
    "#### Z is the Z-score corresponding to the desired confidence level,\n",
    "#### s is the sample standard deviation,\n",
    "\n",
    "#### n is the sample size.\n",
    "#### For a 90% confidence interval, the Z-score is 1.645. This value can be obtained from a standard normal distribution table or calculated using statistical software.\n",
    "\n",
    "#### Given the information in the question:\n",
    "#### xˉ=65 (sample mean),\n",
    "#### s=8 (sample standard deviation),\n",
    "\n",
    "#### n=50 (sample size),\n",
    "#### Z-score for 90% confidence level is approximately 1.645.\n",
    "\n",
    "#### Now, substitute these values into the formula:\n",
    "#### Confidence Interval =65 ± 1.645 (8/(50)^1/2)\n",
    "#### Confidence Interval=65±1.645(8/(50)^1/2)\n",
    "​\n",
    "\n",
    "\n",
    "\n",
    "\n",
    "#### Now, calculate the upper and lower bounds of the confidence interval:\n",
    "\n",
    "#### Upper Bound:  65 + 1.855 =66.855\n",
    "\n",
    "\n",
    "#### Lower Bound:  65 −1.855 = 63.145\n",
    "\n",
    "#### Therefore, the 90% confidence interval for the true population mean is approximately \n",
    "\n",
    "#### (63.145,66.855).\n",
    "\n",
    "\n",
    "\n",
    "\n"
   ]
  },
  {
   "cell_type": "markdown",
   "metadata": {},
   "source": [
    "## **Q14:-**  \n",
    "### **In a study of the effects of caffeine on reaction time, a sample of 30 participants had an average reaction time of 0.25 seconds with a standard deviation of 0.05 seconds. Conduct a hypothesis test to determine if the caffeine has a significant effect on reaction time at a 90% confidence level using a t-test.**"
   ]
  },
  {
   "cell_type": "markdown",
   "metadata": {},
   "source": [
    "### **Ans:-**"
   ]
  },
  {
   "cell_type": "markdown",
   "metadata": {},
   "source": [
    "### To conduct a hypothesis test to determine if caffeine has a significant effect on reaction time, you can use a one-sample t-test. The null hypothesis (H0) is that there is no significant effect, and the alternative hypothesis (H1) is that there is a significant effect."
   ]
  },
  {
   "cell_type": "markdown",
   "metadata": {},
   "source": [
    "### The formula for the t-test for a single sample is given by:\n",
    "### t= [mean(X)-μ] /[s/​(n)^1/2]\n",
    "#### μ is the population mean under the null hypothesis,\n",
    "#### s is the sample standard deviation,\n",
    "#### n is the sample size."
   ]
  },
  {
   "cell_type": "markdown",
   "metadata": {},
   "source": [
    "#### Sample mean (mean(X)): 0.25 seconds\n",
    "#### Sample standard deviation (s): 0.05 seconds\n",
    "#### Sample size (n): 30"
   ]
  },
  {
   "cell_type": "markdown",
   "metadata": {},
   "source": [
    "####  Since the population mean under the null hypothesis (μ) is not specified, let's assume it is 0. The null and alternative hypotheses are:"
   ]
  },
  {
   "cell_type": "markdown",
   "metadata": {},
   "source": [
    "#### H0:μ=0\n",
    "#### H1:μ!=0\n",
    "#### Now, calculate the t-statistic:\n",
    "\n",
    "## **t=(0.25-0)/0.05/(30)^1/2**"
   ]
  },
  {
   "cell_type": "markdown",
   "metadata": {},
   "source": [
    "### To determine the critical t-value for a two-tailed test with a 90% confidence level, you would need to find the t-value with 29 degrees of freedom (since n−1=30−1=29)."
   ]
  },
  {
   "cell_type": "markdown",
   "metadata": {},
   "source": [
    "#### Once you have the calculated t-statistic and the critical t-value, you can compare them. If the calculated t-statistic is beyond the critical t-value, you would reject the null hypothesis and conclude that caffeine has a significant effect on reaction time. Otherwise, you would fail to reject the null hypothesis.\n",
    "\n",
    "#### You can use a t-table or statistical software to find the critical t-value for a two-tailed test with 29 degrees of freedom at a 90% confidence level."
   ]
  }
 ],
 "metadata": {
  "kernelspec": {
   "display_name": "base",
   "language": "python",
   "name": "python3"
  },
  "language_info": {
   "codemirror_mode": {
    "name": "ipython",
    "version": 3
   },
   "file_extension": ".py",
   "mimetype": "text/x-python",
   "name": "python",
   "nbconvert_exporter": "python",
   "pygments_lexer": "ipython3",
   "version": "3.11.5"
  }
 },
 "nbformat": 4,
 "nbformat_minor": 2
}
