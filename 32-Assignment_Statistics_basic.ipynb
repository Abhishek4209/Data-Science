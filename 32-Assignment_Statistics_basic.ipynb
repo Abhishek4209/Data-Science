{
 "cells": [
  {
   "cell_type": "markdown",
   "metadata": {},
   "source": [
    "# **Statistics Basic-1**"
   ]
  },
  {
   "cell_type": "markdown",
   "metadata": {},
   "source": [
    "## **Q1:-**\n",
    "### **What is Statistics?**"
   ]
  },
  {
   "cell_type": "markdown",
   "metadata": {},
   "source": [
    "### **Ans:-**"
   ]
  },
  {
   "cell_type": "markdown",
   "metadata": {},
   "source": [
    "#### **Statistics is the science concerned with developing and studying methods for collecting, analyzing, interpreting and presenting empirical data.**"
   ]
  },
  {
   "cell_type": "markdown",
   "metadata": {},
   "source": [
    "## **Q2:-**\n",
    "### **Define the different types of statistics and give an example of when each type might be used.**"
   ]
  },
  {
   "cell_type": "markdown",
   "metadata": {},
   "source": [
    "### **Ans:-**"
   ]
  },
  {
   "cell_type": "markdown",
   "metadata": {},
   "source": [
    "#### **statistics, which describes the properties of sample and population data, and inferential statistics, which uses those properties to test hypotheses and draw conclusions. Descriptive statistics include mean (average), variance, skewness, and kurtosis.**"
   ]
  },
  {
   "cell_type": "markdown",
   "metadata": {},
   "source": [
    "## **Q3:-** \n",
    "### **What are the different types of data and how do they differ from each other? Provide an example of each type of data.**"
   ]
  },
  {
   "cell_type": "markdown",
   "metadata": {},
   "source": [
    "### **Ans:-**"
   ]
  },
  {
   "cell_type": "markdown",
   "metadata": {},
   "source": [
    "#### **There are two types of data: Qualitative and Quantitative data, which are further classified into:**\n",
    "\n",
    "#### **The data is classified into four categories:**\n",
    "#### **1.Nominal data.**\n",
    "#### **2.Ordinal data.**\n",
    "#### **3.Discrete data.**\n",
    "#### **4.Continuous data.**\n",
    "#### **So there are 4 Types of Data: Nominal, Ordinal, Discrete, and Continuous.**"
   ]
  },
  {
   "cell_type": "markdown",
   "metadata": {},
   "source": [
    "## **Q4:-** \n",
    "### **Categorise the following datasets with respect to quantitative and qualitative data types:**\n",
    "#### **(i) Grading in exam: A+, A, B+, B, C+, C, D, E**\n",
    "#### **(ii) Colour of mangoes: yellow, green, orange, red**\n",
    "#### **(iii) Height data of a class: [178.9, 179, 179.5, 176, 177.2, 178.3, 175.8,...]**\n",
    "#### **(iv) Number of mangoes exported by a farm: [500, 600, 478, 672, ...]**"
   ]
  },
  {
   "cell_type": "markdown",
   "metadata": {},
   "source": [
    "### **Ans:-**"
   ]
  },
  {
   "cell_type": "markdown",
   "metadata": {},
   "source": [
    "#### **(i) Grading in exam: A+, A, B+, B, C+, C, D, E**\n",
    "##### **Ordinal Data**"
   ]
  },
  {
   "cell_type": "markdown",
   "metadata": {},
   "source": [
    "#### **(ii) Colour of mangoes: yellow, green, orange, red**\n",
    "##### **Nominal Data**"
   ]
  },
  {
   "cell_type": "markdown",
   "metadata": {},
   "source": [
    "#### **(iii) Height data of a class: [178.9, 179, 179.5, 176, 177.2, 178.3, 175.8,...]**\n",
    "##### **Continues Data**"
   ]
  },
  {
   "cell_type": "markdown",
   "metadata": {},
   "source": [
    "#### **(iv) Number of mangoes exported by a farm: [500, 600, 478, 672, ...]**\n",
    "##### **Discrete**"
   ]
  },
  {
   "cell_type": "markdown",
   "metadata": {},
   "source": [
    "## **Q5:-** \n",
    "### **Explain the concept of levels of measurement and give an example of a variable for each level.**"
   ]
  },
  {
   "cell_type": "markdown",
   "metadata": {},
   "source": [
    "### **Ans:-**"
   ]
  },
  {
   "cell_type": "markdown",
   "metadata": {},
   "source": [
    "#### **Statisticians often refer to the \"levels of measurement\" of a variable, a measure, or a scale to distinguish between measured variables that have different properties. There are four basic levels: nominal, ordinal, interval, and ratio.**"
   ]
  },
  {
   "cell_type": "markdown",
   "metadata": {},
   "source": [
    "## **Q6:-** \n",
    "### **Why is it important to understand the level of measurement when analyzing data? Provide an example to illustrate your answer.**"
   ]
  },
  {
   "cell_type": "markdown",
   "metadata": {},
   "source": [
    "### **Ans:-**"
   ]
  },
  {
   "cell_type": "markdown",
   "metadata": {},
   "source": [
    "#### **It is important to understand the level of measurement of variables in research, because the level of measurement determines the type of statistical analysis that can be conducted, and, therefore, the type of conclusions that can be drawn from the research.**"
   ]
  },
  {
   "cell_type": "markdown",
   "metadata": {},
   "source": [
    "## **Q7:-** \n",
    "### **How nominal data type is different from ordinal data type.**"
   ]
  },
  {
   "cell_type": "markdown",
   "metadata": {},
   "source": [
    "### **Ans:-**"
   ]
  },
  {
   "cell_type": "markdown",
   "metadata": {},
   "source": [
    "#### **Nominal Data is classified without any intrinsic ordering or rank, Ordinal Data has some predetermined or natural order.**"
   ]
  },
  {
   "cell_type": "markdown",
   "metadata": {},
   "source": [
    "## **Q8:-**  \n",
    "### **Which type of plot can be used to display data in terms of range?**"
   ]
  },
  {
   "cell_type": "markdown",
   "metadata": {},
   "source": [
    "### **Ans:-**"
   ]
  },
  {
   "cell_type": "markdown",
   "metadata": {},
   "source": [
    "#### **Histogram. If the groups depicted in a bar chart are actually continuous numeric ranges**"
   ]
  },
  {
   "cell_type": "markdown",
   "metadata": {},
   "source": [
    "## **Q9:-** \n",
    "### **Describe the difference between descriptive and inferential statistics. Give an example of each type of statistics and explain how they are used.**"
   ]
  },
  {
   "cell_type": "markdown",
   "metadata": {},
   "source": [
    "### **Ans:-**"
   ]
  },
  {
   "cell_type": "markdown",
   "metadata": {},
   "source": [
    "#### **In a nutshell, descriptive statistics focus on describing the visible characteristics of a dataset (a population or sample). Meanwhile, inferential statistics focus on making predictions or generalizations about a larger dataset, based on a sample of those data**"
   ]
  },
  {
   "cell_type": "markdown",
   "metadata": {},
   "source": [
    "## **Q10:-**  \n",
    "### **What are some common measures of central tendency and variability used in statistics? Explain how each measure can be used to describe a dataset.**"
   ]
  },
  {
   "cell_type": "markdown",
   "metadata": {},
   "source": [
    "### **Ans:-**"
   ]
  },
  {
   "cell_type": "markdown",
   "metadata": {},
   "source": [
    "#### **Measures of central tendency tell us what is common or typical about our variable. Three measures of central tendency are the mode, the median and the mean. The mode is used almost exclusively with nominal-level data, as it is the only measure of central tendency available for such variables**"
   ]
  }
 ],
 "metadata": {
  "language_info": {
   "name": "python"
  },
  "orig_nbformat": 4
 },
 "nbformat": 4,
 "nbformat_minor": 2
}
