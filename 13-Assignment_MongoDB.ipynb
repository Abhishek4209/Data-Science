{
 "cells": [
  {
   "cell_type": "markdown",
   "metadata": {},
   "source": [
    "## **Q1:-** \n",
    "### **What is MongoDB? Explain non-relational databases in short. In which scenarios it is preferred to use MongoDB over SQL databases?**"
   ]
  },
  {
   "cell_type": "markdown",
   "metadata": {},
   "source": [
    "### **Ans:-**"
   ]
  },
  {
   "cell_type": "markdown",
   "metadata": {},
   "source": [
    "### **MongoDB is a popular open-source NoSQL (non-relational) database management system. It stores data in flexible, JSON-like documents called BSON (Binary JSON), allowing for dynamic and schema-free data models. MongoDB is designed to handle large volumes of unstructured or semi-structured data and is known for its scalability, flexibility, and ease of use.**"
   ]
  },
  {
   "cell_type": "markdown",
   "metadata": {},
   "source": [
    "### **MongoDB is preferred over SQL databases in various scenarios, including:**\n",
    "#### 1.Scalability\n",
    "#### 2.Flexibility of Schema\n",
    "#### 3.Handling Large Amounts of Unstructured Data\n",
    "#### 4.Agile Development and Prototyping\n",
    "#### 5.Document-Oriented Data Model"
   ]
  },
  {
   "cell_type": "markdown",
   "metadata": {},
   "source": [
    "## **Q2:-** \n",
    "### **State and Explain the features of MongoDB.**"
   ]
  },
  {
   "cell_type": "markdown",
   "metadata": {},
   "source": [
    "### **Ans:-**"
   ]
  },
  {
   "cell_type": "markdown",
   "metadata": {},
   "source": [
    "### **MongoDB, being a NoSQL database, offers a variety of features that contribute to its popularity and effectiveness in handling diverse data needs. Here are some key features of MongoDB:**\n",
    "\n",
    "### **1.Document-Oriented Storage:**\n",
    "\n",
    "#### MongoDB stores data in flexible, JSON-like BSON documents, which can contain nested arrays and subdocuments. This document-oriented storage allows for a more natural representation of complex data structures.\n",
    "### 2.**Dynamic Schema:**\n",
    "\n",
    "#### MongoDB does not enforce a predefined schema, allowing documents in the same collection to have different fields. This flexibility is beneficial when dealing with evolving or dynamic data.\n",
    "### **3.Indexing:**\n",
    "\n",
    "#### MongoDB supports secondary indexes, which provide efficient query performance by allowing the database to locate and retrieve specific documents quickly. Indexes can be created on any field within a document.\n",
    "### **4.Aggregation Framework:**\n",
    "\n",
    "#### MongoDB provides a powerful aggregation framework for data processing and transformation. It supports a variety of operations, such as filtering, grouping, sorting, and projecting, enabling complex data manipulations.\n",
    "### **5.High Availability:**\n",
    "\n",
    "#### MongoDB offers high availability through features like replica sets. Replica sets consist of multiple copies of the data distributed across different servers, ensuring data redundancy and fault tolerance."
   ]
  },
  {
   "cell_type": "markdown",
   "metadata": {},
   "source": [
    "## **Q3:-** \n",
    "### **Write a code to connect MongoDB to Python. Also, create a database and a collection in MongoDB.**"
   ]
  },
  {
   "cell_type": "markdown",
   "metadata": {},
   "source": [
    "### **Ans:-**"
   ]
  },
  {
   "cell_type": "code",
   "execution_count": 1,
   "metadata": {},
   "outputs": [
    {
     "name": "stdout",
     "output_type": "stream",
     "text": [
      "Inserted document ID: 6592610b03bcaf7f546d4380\n"
     ]
    }
   ],
   "source": [
    "import pymongo\n",
    "\n",
    "mongo_uri = \"mongodb://localhost:27017/\"\n",
    "\n",
    "client = pymongo.MongoClient(mongo_uri)\n",
    "database_name = \"mydatabase\"\n",
    "db = client[database_name]\n",
    "collection_name = \"mycollection\"\n",
    "collection = db[collection_name]\n",
    "document = {\"name\": \"John Doe\", \"age\": 30, \"city\": \"New York\"}\n",
    "inserted_document = collection.insert_one(document)\n",
    "print(f\"Inserted document ID: {inserted_document.inserted_id}\")\n",
    "client.close()\n"
   ]
  },
  {
   "cell_type": "markdown",
   "metadata": {},
   "source": [
    "## **Q4:-** \n",
    "### **Using the database and the collection created in question number 3, write a code to insert one record,and insert many records. Use the find() and find_one() methods to print the inserted record.**"
   ]
  },
  {
   "cell_type": "code",
   "execution_count": 2,
   "metadata": {},
   "outputs": [
    {
     "name": "stdout",
     "output_type": "stream",
     "text": [
      "Inserted single document ID: 6592610b03bcaf7f546d4382\n",
      "Inserted multiple documents IDs: [ObjectId('6592610b03bcaf7f546d4383'), ObjectId('6592610b03bcaf7f546d4384'), ObjectId('6592610b03bcaf7f546d4385')]\n",
      "\n",
      "All documents in the collection:\n",
      "{'_id': ObjectId('65925ab54214d612e79e147d'), 'name': 'John Doe', 'age': 30, 'city': 'New York'}\n",
      "{'_id': ObjectId('65925b2f4214d612e79e147f'), 'name': 'John Doe', 'age': 30, 'city': 'New York'}\n",
      "{'_id': ObjectId('65925b9f4214d612e79e1481'), 'name': 'Alice', 'age': 25, 'city': 'London'}\n",
      "{'_id': ObjectId('65925b9f4214d612e79e1482'), 'name': 'Bob', 'age': 30, 'city': 'Paris'}\n",
      "{'_id': ObjectId('65925b9f4214d612e79e1483'), 'name': 'Charlie', 'age': 22, 'city': 'Berlin'}\n",
      "{'_id': ObjectId('65925b9f4214d612e79e1484'), 'name': 'Diana', 'age': 35, 'city': 'Tokyo'}\n",
      "{'_id': ObjectId('65925e8b4214d612e79e1486'), 'name': 'John Doe', 'age': 30, 'city': 'New York'}\n",
      "{'_id': ObjectId('65925e8b4214d612e79e1488'), 'name': 'Alice', 'age': 25, 'city': 'London'}\n",
      "{'_id': ObjectId('65925e8b4214d612e79e1489'), 'name': 'Bob', 'age': 30, 'city': 'Paris'}\n",
      "{'_id': ObjectId('65925e8b4214d612e79e148a'), 'name': 'Charlie', 'age': 22, 'city': 'Berlin'}\n",
      "{'_id': ObjectId('65925e8b4214d612e79e148b'), 'name': 'Diana', 'age': 35, 'city': 'Tokyo'}\n",
      "{'_id': ObjectId('659260ac4214d612e79e1497'), 'name': 'John Doe', 'age': 30, 'city': 'New York'}\n",
      "{'_id': ObjectId('659260ac4214d612e79e1499'), 'name': 'Alice', 'age': 25, 'city': 'London'}\n",
      "{'_id': ObjectId('659260ac4214d612e79e149a'), 'name': 'Bob', 'age': 30, 'city': 'Paris'}\n",
      "{'_id': ObjectId('659260ac4214d612e79e149b'), 'name': 'Charlie', 'age': 22, 'city': 'Berlin'}\n",
      "{'_id': ObjectId('659260ac4214d612e79e149c'), 'name': 'Diana', 'age': 35, 'city': 'Tokyo'}\n",
      "{'_id': ObjectId('6592610b03bcaf7f546d4380'), 'name': 'John Doe', 'age': 30, 'city': 'New York'}\n",
      "{'_id': ObjectId('6592610b03bcaf7f546d4382'), 'name': 'Alice', 'age': 25, 'city': 'London'}\n",
      "{'_id': ObjectId('6592610b03bcaf7f546d4383'), 'name': 'Bob', 'age': 30, 'city': 'Paris'}\n",
      "{'_id': ObjectId('6592610b03bcaf7f546d4384'), 'name': 'Charlie', 'age': 22, 'city': 'Berlin'}\n",
      "{'_id': ObjectId('6592610b03bcaf7f546d4385'), 'name': 'Diana', 'age': 35, 'city': 'Tokyo'}\n",
      "\n",
      "One document in the collection:\n",
      "{'_id': ObjectId('65925b9f4214d612e79e1482'), 'name': 'Bob', 'age': 30, 'city': 'Paris'}\n"
     ]
    }
   ],
   "source": [
    "import pymongo\n",
    "mongo_uri = \"mongodb://localhost:27017/\"\n",
    "\n",
    "client = pymongo.MongoClient(mongo_uri)\n",
    "\n",
    "database_name = \"mydatabase\"\n",
    "collection_name = \"mycollection\"\n",
    "\n",
    "db = client[database_name]\n",
    "collection = db[collection_name]\n",
    "\n",
    "single_document = {\"name\": \"Alice\", \"age\": 25, \"city\": \"London\"}\n",
    "inserted_single_document = collection.insert_one(single_document)\n",
    "\n",
    "# Insert multiple records into the collection\n",
    "multiple_documents = [\n",
    "    {\"name\": \"Bob\", \"age\": 30, \"city\": \"Paris\"},\n",
    "    {\"name\": \"Charlie\", \"age\": 22, \"city\": \"Berlin\"},\n",
    "    {\"name\": \"Diana\", \"age\": 35, \"city\": \"Tokyo\"}\n",
    "]\n",
    "inserted_multiple_documents = collection.insert_many(multiple_documents)\n",
    "\n",
    "print(f\"Inserted single document ID: {inserted_single_document.inserted_id}\")\n",
    "print(f\"Inserted multiple documents IDs: {inserted_multiple_documents.inserted_ids}\")\n",
    "\n",
    "\n",
    "all_documents = collection.find()\n",
    "print(\"\\nAll documents in the collection:\")\n",
    "for document in all_documents:\n",
    "    print(document)\n",
    "\n",
    "\n",
    "one_document = collection.find_one({\"name\": \"Bob\"})\n",
    "print(\"\\nOne document in the collection:\")\n",
    "print(one_document)\n",
    "\n",
    "client.close()\n"
   ]
  },
  {
   "cell_type": "markdown",
   "metadata": {},
   "source": [
    "## **Q5:-**\n",
    "### **Explain how you can use the find() method to query the MongoDB database. Write a simple code to demonstrate this.**"
   ]
  },
  {
   "cell_type": "markdown",
   "metadata": {},
   "source": [
    "### **Ans:-**"
   ]
  },
  {
   "cell_type": "code",
   "execution_count": 3,
   "metadata": {},
   "outputs": [
    {
     "name": "stdout",
     "output_type": "stream",
     "text": [
      "Matching documents:\n",
      "{'_id': ObjectId('659260264214d612e79e148e'), 'name': 'Bob', 'age': 30, 'city': 'San Francisco'}\n",
      "{'_id': ObjectId('659260264214d612e79e1490'), 'name': 'Diana', 'age': 35, 'city': 'Chicago'}\n",
      "{'_id': ObjectId('6592605f4214d612e79e1493'), 'name': 'Bob', 'age': 30, 'city': 'San Francisco'}\n",
      "{'_id': ObjectId('6592605f4214d612e79e1495'), 'name': 'Diana', 'age': 35, 'city': 'Chicago'}\n",
      "{'_id': ObjectId('659260ac4214d612e79e149f'), 'name': 'Bob', 'age': 30, 'city': 'San Francisco'}\n",
      "{'_id': ObjectId('659260ac4214d612e79e14a1'), 'name': 'Diana', 'age': 35, 'city': 'Chicago'}\n",
      "{'_id': ObjectId('659260ac4214d612e79e14a4'), 'name': 'Bob', 'age': 30, 'city': 'San Francisco'}\n",
      "{'_id': ObjectId('659260ac4214d612e79e14a6'), 'name': 'Diana', 'age': 35, 'city': 'Chicago'}\n",
      "{'_id': ObjectId('6592610b03bcaf7f546d4388'), 'name': 'Bob', 'age': 30, 'city': 'San Francisco'}\n",
      "{'_id': ObjectId('6592610b03bcaf7f546d438a'), 'name': 'Diana', 'age': 35, 'city': 'Chicago'}\n"
     ]
    }
   ],
   "source": [
    "import pymongo\n",
    "\n",
    "mongo_uri = \"mongodb://localhost:27017/\"\n",
    "\n",
    "client = pymongo.MongoClient(mongo_uri)\n",
    "\n",
    "# Access the database and collection\n",
    "database_name = \"mydatabase\"\n",
    "collection_name = \"users\"\n",
    "db = client[database_name]\n",
    "collection = db[collection_name]\n",
    "\n",
    "# Insert some sample data (for demonstration purposes)\n",
    "sample_data = [\n",
    "    {\"name\": \"Alice\", \"age\": 25, \"city\": \"New York\"},\n",
    "    {\"name\": \"Bob\", \"age\": 30, \"city\": \"San Francisco\"},\n",
    "    {\"name\": \"Charlie\", \"age\": 22, \"city\": \"Los Angeles\"},\n",
    "    {\"name\": \"Diana\", \"age\": 35, \"city\": \"Chicago\"}\n",
    "]\n",
    "collection.insert_many(sample_data)\n",
    "\n",
    "# Use the find() method to query the collection\n",
    "result_cursor = collection.find({\"age\": {\"$gte\": 30}})\n",
    "\n",
    "# Iterate through the cursor and print the matching documents\n",
    "print(\"Matching documents:\")\n",
    "for document in result_cursor:\n",
    "    print(document)\n",
    "\n",
    "\n",
    "client.close()\n"
   ]
  },
  {
   "cell_type": "markdown",
   "metadata": {},
   "source": [
    "## **Q6:-** \n",
    "### **Explain the sort() method. Give an example to demonstrate sorting in MongoDB.**"
   ]
  },
  {
   "cell_type": "markdown",
   "metadata": {},
   "source": [
    "### **Ans:-**"
   ]
  },
  {
   "cell_type": "code",
   "execution_count": 4,
   "metadata": {},
   "outputs": [
    {
     "name": "stdout",
     "output_type": "stream",
     "text": [
      "Sorted documents (Ascending Order by Age):\n",
      "{'_id': ObjectId('659260264214d612e79e148f'), 'name': 'Charlie', 'age': 22, 'city': 'Los Angeles'}\n",
      "{'_id': ObjectId('6592605f4214d612e79e1494'), 'name': 'Charlie', 'age': 22, 'city': 'Los Angeles'}\n",
      "{'_id': ObjectId('659260ac4214d612e79e14a0'), 'name': 'Charlie', 'age': 22, 'city': 'Los Angeles'}\n",
      "{'_id': ObjectId('659260ac4214d612e79e14a5'), 'name': 'Charlie', 'age': 22, 'city': 'Los Angeles'}\n",
      "{'_id': ObjectId('6592610b03bcaf7f546d4389'), 'name': 'Charlie', 'age': 22, 'city': 'Los Angeles'}\n",
      "{'_id': ObjectId('6592610b03bcaf7f546d438e'), 'name': 'Charlie', 'age': 22, 'city': 'Los Angeles'}\n",
      "{'_id': ObjectId('659260264214d612e79e148d'), 'name': 'Alice', 'age': 25, 'city': 'New York'}\n",
      "{'_id': ObjectId('6592605f4214d612e79e1492'), 'name': 'Alice', 'age': 25, 'city': 'New York'}\n",
      "{'_id': ObjectId('659260ac4214d612e79e149e'), 'name': 'Alice', 'age': 25, 'city': 'New York'}\n",
      "{'_id': ObjectId('659260ac4214d612e79e14a3'), 'name': 'Alice', 'age': 25, 'city': 'New York'}\n",
      "{'_id': ObjectId('6592610b03bcaf7f546d4387'), 'name': 'Alice', 'age': 25, 'city': 'New York'}\n",
      "{'_id': ObjectId('6592610b03bcaf7f546d438c'), 'name': 'Alice', 'age': 25, 'city': 'New York'}\n",
      "{'_id': ObjectId('659260264214d612e79e148e'), 'name': 'Bob', 'age': 30, 'city': 'San Francisco'}\n",
      "{'_id': ObjectId('6592605f4214d612e79e1493'), 'name': 'Bob', 'age': 30, 'city': 'San Francisco'}\n",
      "{'_id': ObjectId('659260ac4214d612e79e149f'), 'name': 'Bob', 'age': 30, 'city': 'San Francisco'}\n",
      "{'_id': ObjectId('659260ac4214d612e79e14a4'), 'name': 'Bob', 'age': 30, 'city': 'San Francisco'}\n",
      "{'_id': ObjectId('6592610b03bcaf7f546d4388'), 'name': 'Bob', 'age': 30, 'city': 'San Francisco'}\n",
      "{'_id': ObjectId('6592610b03bcaf7f546d438d'), 'name': 'Bob', 'age': 30, 'city': 'San Francisco'}\n",
      "{'_id': ObjectId('659260264214d612e79e1490'), 'name': 'Diana', 'age': 35, 'city': 'Chicago'}\n",
      "{'_id': ObjectId('6592605f4214d612e79e1495'), 'name': 'Diana', 'age': 35, 'city': 'Chicago'}\n",
      "{'_id': ObjectId('659260ac4214d612e79e14a1'), 'name': 'Diana', 'age': 35, 'city': 'Chicago'}\n",
      "{'_id': ObjectId('659260ac4214d612e79e14a6'), 'name': 'Diana', 'age': 35, 'city': 'Chicago'}\n",
      "{'_id': ObjectId('6592610b03bcaf7f546d438a'), 'name': 'Diana', 'age': 35, 'city': 'Chicago'}\n",
      "{'_id': ObjectId('6592610b03bcaf7f546d438f'), 'name': 'Diana', 'age': 35, 'city': 'Chicago'}\n",
      "\n",
      "Sorted documents (Descending Order by Age):\n",
      "{'_id': ObjectId('659260264214d612e79e1490'), 'name': 'Diana', 'age': 35, 'city': 'Chicago'}\n",
      "{'_id': ObjectId('6592605f4214d612e79e1495'), 'name': 'Diana', 'age': 35, 'city': 'Chicago'}\n",
      "{'_id': ObjectId('659260ac4214d612e79e14a1'), 'name': 'Diana', 'age': 35, 'city': 'Chicago'}\n",
      "{'_id': ObjectId('659260ac4214d612e79e14a6'), 'name': 'Diana', 'age': 35, 'city': 'Chicago'}\n",
      "{'_id': ObjectId('6592610b03bcaf7f546d438a'), 'name': 'Diana', 'age': 35, 'city': 'Chicago'}\n",
      "{'_id': ObjectId('6592610b03bcaf7f546d438f'), 'name': 'Diana', 'age': 35, 'city': 'Chicago'}\n",
      "{'_id': ObjectId('659260264214d612e79e148e'), 'name': 'Bob', 'age': 30, 'city': 'San Francisco'}\n",
      "{'_id': ObjectId('6592605f4214d612e79e1493'), 'name': 'Bob', 'age': 30, 'city': 'San Francisco'}\n",
      "{'_id': ObjectId('659260ac4214d612e79e149f'), 'name': 'Bob', 'age': 30, 'city': 'San Francisco'}\n",
      "{'_id': ObjectId('659260ac4214d612e79e14a4'), 'name': 'Bob', 'age': 30, 'city': 'San Francisco'}\n",
      "{'_id': ObjectId('6592610b03bcaf7f546d4388'), 'name': 'Bob', 'age': 30, 'city': 'San Francisco'}\n",
      "{'_id': ObjectId('6592610b03bcaf7f546d438d'), 'name': 'Bob', 'age': 30, 'city': 'San Francisco'}\n",
      "{'_id': ObjectId('659260264214d612e79e148d'), 'name': 'Alice', 'age': 25, 'city': 'New York'}\n",
      "{'_id': ObjectId('6592605f4214d612e79e1492'), 'name': 'Alice', 'age': 25, 'city': 'New York'}\n",
      "{'_id': ObjectId('659260ac4214d612e79e149e'), 'name': 'Alice', 'age': 25, 'city': 'New York'}\n",
      "{'_id': ObjectId('659260ac4214d612e79e14a3'), 'name': 'Alice', 'age': 25, 'city': 'New York'}\n",
      "{'_id': ObjectId('6592610b03bcaf7f546d4387'), 'name': 'Alice', 'age': 25, 'city': 'New York'}\n",
      "{'_id': ObjectId('6592610b03bcaf7f546d438c'), 'name': 'Alice', 'age': 25, 'city': 'New York'}\n",
      "{'_id': ObjectId('659260264214d612e79e148f'), 'name': 'Charlie', 'age': 22, 'city': 'Los Angeles'}\n",
      "{'_id': ObjectId('6592605f4214d612e79e1494'), 'name': 'Charlie', 'age': 22, 'city': 'Los Angeles'}\n",
      "{'_id': ObjectId('659260ac4214d612e79e14a0'), 'name': 'Charlie', 'age': 22, 'city': 'Los Angeles'}\n",
      "{'_id': ObjectId('659260ac4214d612e79e14a5'), 'name': 'Charlie', 'age': 22, 'city': 'Los Angeles'}\n",
      "{'_id': ObjectId('6592610b03bcaf7f546d4389'), 'name': 'Charlie', 'age': 22, 'city': 'Los Angeles'}\n",
      "{'_id': ObjectId('6592610b03bcaf7f546d438e'), 'name': 'Charlie', 'age': 22, 'city': 'Los Angeles'}\n"
     ]
    }
   ],
   "source": [
    "import pymongo\n",
    "\n",
    "mongo_uri = \"mongodb://localhost:27017/\"\n",
    "\n",
    "client = pymongo.MongoClient(mongo_uri)\n",
    "\n",
    "# Access the database and collection\n",
    "database_name = \"mydatabase\"\n",
    "collection_name = \"users\"\n",
    "db = client[database_name]\n",
    "collection = db[collection_name]\n",
    "\n",
    "# Insert some sample data (for demonstration purposes)\n",
    "sample_data = [\n",
    "    {\"name\": \"Alice\", \"age\": 25, \"city\": \"New York\"},\n",
    "    {\"name\": \"Bob\", \"age\": 30, \"city\": \"San Francisco\"},\n",
    "    {\"name\": \"Charlie\", \"age\": 22, \"city\": \"Los Angeles\"},\n",
    "    {\"name\": \"Diana\", \"age\": 35, \"city\": \"Chicago\"}\n",
    "]\n",
    "collection.insert_many(sample_data)\n",
    "\n",
    "# Use the find() method with sort() to query and sort the collection\n",
    "result_cursor = collection.find().sort(\"age\", pymongo.ASCENDING)\n",
    "\n",
    "# Print the sorted documents\n",
    "print(\"Sorted documents (Ascending Order by Age):\")\n",
    "for document in result_cursor:\n",
    "    print(document)\n",
    "\n",
    "# Use the find() method with sort() to query and sort the collection in descending order\n",
    "result_cursor_desc = collection.find().sort(\"age\", pymongo.DESCENDING)\n",
    "\n",
    "# Print the sorted documents in descending order\n",
    "print(\"\\nSorted documents (Descending Order by Age):\")\n",
    "for document in result_cursor_desc:\n",
    "    print(document)\n",
    "\n",
    "client.close()\n"
   ]
  },
  {
   "cell_type": "markdown",
   "metadata": {},
   "source": [
    "## **Q7:-**\n",
    "### **Explain why delete_one(), delete_many(), and drop() is used.**"
   ]
  },
  {
   "cell_type": "markdown",
   "metadata": {},
   "source": [
    "### **Ans:-**"
   ]
  },
  {
   "cell_type": "markdown",
   "metadata": {},
   "source": [
    "### **delete_one(filter) Method:**\n",
    "\n",
    "#### Purpose: This method is used to delete a single document from a collection that matches the specified filter criteria."
   ]
  },
  {
   "cell_type": "code",
   "execution_count": 5,
   "metadata": {},
   "outputs": [],
   "source": [
    "# Syntax: delete_one(filter, collation=None, session=None)"
   ]
  },
  {
   "cell_type": "markdown",
   "metadata": {},
   "source": [
    "### **delete_many(filter) Method:**\n",
    "\n",
    "#### Purpose: This method is used to delete multiple documents from a collection that match the specified filter criteria."
   ]
  },
  {
   "cell_type": "code",
   "execution_count": 6,
   "metadata": {},
   "outputs": [],
   "source": [
    "# Syntax: delete_many(filter, collation=None, session=None)"
   ]
  },
  {
   "cell_type": "markdown",
   "metadata": {},
   "source": [
    "### **drop() Method:**\n",
    "\n",
    "#### Purpose: This method is used to delete an entire collection from the database, effectively removing all documents and indexes associated with the collection."
   ]
  },
  {
   "cell_type": "code",
   "execution_count": 7,
   "metadata": {},
   "outputs": [],
   "source": [
    "# Syntax: drop(index=None, session=None)"
   ]
  }
 ],
 "metadata": {
  "kernelspec": {
   "display_name": "base",
   "language": "python",
   "name": "python3"
  },
  "language_info": {
   "codemirror_mode": {
    "name": "ipython",
    "version": 3
   },
   "file_extension": ".py",
   "mimetype": "text/x-python",
   "name": "python",
   "nbconvert_exporter": "python",
   "pygments_lexer": "ipython3",
   "version": "3.11.5"
  }
 },
 "nbformat": 4,
 "nbformat_minor": 2
}
