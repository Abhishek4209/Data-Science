{
 "cells": [
  {
   "cell_type": "markdown",
   "metadata": {},
   "source": [
    "## **Q1:-**  \n",
    "### **What is the Probability density function?**"
   ]
  },
  {
   "cell_type": "markdown",
   "metadata": {},
   "source": [
    "### **Ans:-**"
   ]
  },
  {
   "cell_type": "markdown",
   "metadata": {},
   "source": [
    "### **The probability density function (PDF) is a statistical expression that defines the probability that some outcome will occur. In this function, the probability is the percentage of a dataset's distribution that falls between two criteria.**"
   ]
  },
  {
   "cell_type": "markdown",
   "metadata": {},
   "source": [
    "## **Q2:-**  \n",
    "### **What are the types of Probability distribution?**"
   ]
  },
  {
   "cell_type": "markdown",
   "metadata": {},
   "source": [
    "### **Ans:-**"
   ]
  },
  {
   "cell_type": "markdown",
   "metadata": {},
   "source": [
    "## **There are two types of probability distributions:-**\n",
    "### **1.Discrete probability distributions.**\n",
    "#### **a.Uniform distribution**\n",
    "#### **b.Binomial distribution**\n",
    "#### **c.Bernoulli distributions.**\n",
    "#### **d.Poisson distributions**\n",
    "### **2.Continuous probability distributions.**\n",
    "#### **a.Normal distribution**\n",
    "#### **b.Log Normal distribution**\n"
   ]
  },
  {
   "cell_type": "markdown",
   "metadata": {},
   "source": [
    "## **Q3:-**   \n",
    "### **Write a Python function to calculate the probability density function of a normal distribution with given mean and standard deviation at a given point.**"
   ]
  },
  {
   "cell_type": "markdown",
   "metadata": {},
   "source": [
    "### **Ans:-**"
   ]
  },
  {
   "cell_type": "code",
   "execution_count": 1,
   "metadata": {},
   "outputs": [],
   "source": [
    "from scipy.stats import norm\n",
    "def normal_pdf(mean, std_dev, x):\n",
    "    return norm.pdf(x, loc=mean, scale=std_dev)\n",
    "    "
   ]
  },
  {
   "cell_type": "code",
   "execution_count": 2,
   "metadata": {},
   "outputs": [
    {
     "name": "stdout",
     "output_type": "stream",
     "text": [
      "PDF at x=6 for mean=5 and std_dev=2: 0.17603266338214976\n"
     ]
    }
   ],
   "source": [
    "mean = 5\n",
    "std_dev = 2\n",
    "x = 6\n",
    "pdf_value = normal_pdf(mean, std_dev, x)\n",
    "print(f\"PDF at x={x} for mean={mean} and std_dev={std_dev}: {pdf_value}\")"
   ]
  },
  {
   "cell_type": "markdown",
   "metadata": {},
   "source": [
    "## **Q4:-**   \n",
    "### **What are the properties of Binomial distribution? Give two examples of events where binomial distribution can be applied.**"
   ]
  },
  {
   "cell_type": "markdown",
   "metadata": {},
   "source": [
    "### **Ans:-**"
   ]
  },
  {
   "cell_type": "markdown",
   "metadata": {},
   "source": [
    "### **The properties of the binomial distribution are:**\n",
    "#### There are only two distinct possible outcomes: true/false, success/failure, yes/no.\n",
    "#### There is a fixed number of 'n' times repeated trials in a given experiment.\n",
    "#### The probability of success or failure remains constant for each attempt/trial."
   ]
  },
  {
   "cell_type": "markdown",
   "metadata": {},
   "source": [
    "#### **If a coin is tossed 5 times, using binomial distribution find the probability of:**\n",
    "#### (a)Exactly 2 heads\n",
    "#### (b) At least 4 heads."
   ]
  },
  {
   "cell_type": "markdown",
   "metadata": {},
   "source": [
    "### **By using the YES/ NO survey**"
   ]
  },
  {
   "cell_type": "markdown",
   "metadata": {},
   "source": [
    "## **Q5:-**    \n",
    "### **Generate a random sample of size 1000 from a binomial distribution with probability of success 0.4 and plot a histogram of the results using matplotlib.**"
   ]
  },
  {
   "cell_type": "markdown",
   "metadata": {},
   "source": [
    "### **Ans:-**"
   ]
  },
  {
   "cell_type": "code",
   "execution_count": 3,
   "metadata": {},
   "outputs": [
    {
     "data": {
      "image/png": "[encoded data removed]",
      "text/plain": [
       "<Figure size 640x480 with 1 Axes>"
      ]
     },
     "metadata": {},
     "output_type": "display_data"
    }
   ],
   "source": [
    "import numpy as np\n",
    "import matplotlib.pyplot as plt\n",
    "\n",
    "# Set the parameters\n",
    "sample_size = 1000\n",
    "probability_of_success = 0.4\n",
    "number_of_trials = 1  # We are sampling from a single trial binomial distribution\n",
    "\n",
    "# Generate the random sample from the binomial distribution\n",
    "random_sample = np.random.binomial(number_of_trials, probability_of_success, sample_size)\n",
    "\n",
    "# Create a histogram\n",
    "plt.hist(random_sample, bins=range(0, 2), align='left', rwidth=0.8, density=True)\n",
    "\n",
    "# Add labels and title\n",
    "plt.xlabel('Number of Successes')\n",
    "plt.ylabel('Probability')\n",
    "plt.title('Histogram of Binomial Distribution (n=1, p=0.4)')\n",
    "\n",
    "# Customize the x-axis ticks\n",
    "plt.xticks([0, 1])\n",
    "\n",
    "# Display the histogram\n",
    "plt.show()"
   ]
  },
  {
   "cell_type": "markdown",
   "metadata": {},
   "source": [
    "## **Q6:-** \n",
    "### **Write a Python function to calculate the cumulative distribution function of a Poisson distribution with given mean at a given point.**"
   ]
  },
  {
   "cell_type": "markdown",
   "metadata": {},
   "source": [
    "### **Ans:-**"
   ]
  },
  {
   "cell_type": "code",
   "execution_count": 4,
   "metadata": {},
   "outputs": [
    {
     "name": "stdout",
     "output_type": "stream",
     "text": [
      "CDF at x=3 for mean=5: 0.2650259152973615\n"
     ]
    }
   ],
   "source": [
    "from scipy.stats import poisson\n",
    "def poisson_cdf(mean,x):\n",
    "    return poisson.cdf(x,mu=mean)\n",
    "mean = 5\n",
    "x = 3\n",
    "cdf_value = poisson_cdf(mean, x)\n",
    "print(f\"CDF at x={x} for mean={mean}: {cdf_value}\")"
   ]
  },
  {
   "cell_type": "markdown",
   "metadata": {},
   "source": [
    "## **Q7:-** \n",
    "### **How Binomial distribution different from Poisson distribution?**"
   ]
  },
  {
   "cell_type": "markdown",
   "metadata": {},
   "source": [
    "### **Ans:-**"
   ]
  },
  {
   "cell_type": "markdown",
   "metadata": {},
   "source": [
    "### **Binomial distribution describes the distribution of binary data from a finite sample. Thus it gives the probability of getting r events out of n trials.**\n",
    "### **Poisson distribution describes the distribution of binary data from an infinite sample. Thus it gives the probability of getting r events in a population.**"
   ]
  },
  {
   "cell_type": "markdown",
   "metadata": {},
   "source": [
    "## **Q8:-**      \n",
    "### **Generate a random sample of size 1000 from a Poisson distribution with mean 5 and calculate the sample mean and variance.**"
   ]
  },
  {
   "cell_type": "markdown",
   "metadata": {},
   "source": [
    "### **Ans:-**"
   ]
  },
  {
   "cell_type": "code",
   "execution_count": 5,
   "metadata": {},
   "outputs": [
    {
     "name": "stdout",
     "output_type": "stream",
     "text": [
      "Sample Mean: 4.961\n",
      "Sample Variance: 4.801479\n"
     ]
    }
   ],
   "source": [
    "import numpy as np\n",
    "\n",
    "# Set the parameters\n",
    "mean = 5\n",
    "sample_size = 1000\n",
    "\n",
    "# Generate a random sample from a Poisson distribution\n",
    "sample = np.random.poisson(mean, sample_size)\n",
    "\n",
    "# Calculate the sample mean and variance\n",
    "sample_mean = np.mean(sample)\n",
    "sample_variance = np.var(sample)\n",
    "\n",
    "print(f\"Sample Mean: {sample_mean}\")\n",
    "print(f\"Sample Variance: {sample_variance}\")"
   ]
  },
  {
   "cell_type": "markdown",
   "metadata": {},
   "source": [
    "## **Q9:-**       \n",
    "### **How mean and variance are related in Binomial distribution and Poisson distribution?**"
   ]
  },
  {
   "cell_type": "markdown",
   "metadata": {},
   "source": [
    "### **Ans:-**"
   ]
  },
  {
   "cell_type": "markdown",
   "metadata": {},
   "source": [
    "## **In binomial distribution:-**\n",
    "### **Mean > Variance**\n",
    "## **Poisson distribution:-** \n",
    "### **mean = variance.**"
   ]
  },
  {
   "cell_type": "markdown",
   "metadata": {},
   "source": [
    "## **Q10:-**  \n",
    "### **In normal distribution with respect to mean position, where does the least frequent data appear?**"
   ]
  },
  {
   "cell_type": "markdown",
   "metadata": {},
   "source": [
    "### **Ans:-**"
   ]
  },
  {
   "cell_type": "markdown",
   "metadata": {},
   "source": [
    "### **This means that most of the observed data is clustered near the mean, while the data become less frequent when farther away from the mean.**"
   ]
  }
 ],
 "metadata": {
  "kernelspec": {
   "display_name": "Python 3",
   "language": "python",
   "name": "python3"
  },
  "language_info": {
   "codemirror_mode": {
    "name": "ipython",
    "version": 3
   },
   "file_extension": ".py",
   "mimetype": "text/x-python",
   "name": "python",
   "nbconvert_exporter": "python",
   "pygments_lexer": "ipython3",
   "version": "3.11.3"
  },
  "orig_nbformat": 4
 },
 "nbformat": 4,
 "nbformat_minor": 2
}
