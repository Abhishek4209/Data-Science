{
 "cells": [
  {
   "cell_type": "markdown",
   "metadata": {},
   "source": [
    "## **Q1:-**\n",
    "### **What is a database? Differentiate between SQL and NoSQL databases.**"
   ]
  },
  {
   "cell_type": "markdown",
   "metadata": {},
   "source": [
    "### **Ans:-**"
   ]
  },
  {
   "cell_type": "markdown",
   "metadata": {},
   "source": [
    "### **A database is a collection of structured information that is usually stored electronically in a computer system. Databases can contain any type of data, including words, numbers, images, videos, and files.**"
   ]
  },
  {
   "cell_type": "markdown",
   "metadata": {},
   "source": [
    "### **Data structure**\n",
    "SQL databases are table-based, while NoSQL databases are non-relational.\n",
    "### **Data types**\n",
    "SQL databases are best used for structured data, while NoSQL databases are suitable for structured, semi-structured, and unstructured data.\n",
    "### **Scalability**\n",
    "SQL databases are vertically scalable, while NoSQL databases are horizontally scalable.\n",
    "### **Data models**\n",
    "SQL databases use tables with pre-defined schemas to store data, while NoSQL databases use flexible data models that can adapt to changes in data.\n",
    "### **Transactions**\n",
    "SQL databases are better for multi-row transactions, while NoSQL is better for unstructured data like documents or JSON."
   ]
  },
  {
   "cell_type": "markdown",
   "metadata": {},
   "source": [
    "## **Q2:-** \n",
    "### **What is DDL? Explain why CREATE, DROP, ALTER, and TRUNCATE are used with an example.**"
   ]
  },
  {
   "cell_type": "markdown",
   "metadata": {},
   "source": [
    "### **Ans:-**"
   ]
  },
  {
   "cell_type": "markdown",
   "metadata": {},
   "source": [
    "### **DDL stands for Data Definition Language, and it is a subset of SQL (Structured Query Language) used to define and manage the structure of a relational database. DDL statements are responsible for defining and managing the database schema, including creating, modifying, and deleting database objects such as tables, indexes, and constraints.**"
   ]
  },
  {
   "cell_type": "markdown",
   "metadata": {},
   "source": [
    "### **1.CREATE:**\n",
    "Purpose: Used to create a new database object, such as a table, view, index, or schema."
   ]
  },
  {
   "cell_type": "code",
   "execution_count": 18,
   "metadata": {},
   "outputs": [],
   "source": [
    "# pip install mysql-connector-python"
   ]
  },
  {
   "cell_type": "code",
   "execution_count": 1,
   "metadata": {},
   "outputs": [
    {
     "name": "stdout",
     "output_type": "stream",
     "text": [
      "Table created successfully.\n"
     ]
    }
   ],
   "source": [
    "import mysql.connector\n",
    "\n",
    "# Establish a connection to the MySQL database\n",
    "conn = mysql.connector.connect(\n",
    "    host=\"localhost\",\n",
    "    user=\"root\",\n",
    "    password=\"9336\",\n",
    "    database=\"collage\"\n",
    ")\n",
    "\n",
    "# Create a cursor object to execute SQL commands\n",
    "cursor = conn.cursor()\n",
    "\n",
    "# Execute a CREATE TABLE statement to create a new table 'employees'\n",
    "create_query = \"\"\"\n",
    "    CREATE TABLE employees (\n",
    "        id INT AUTO_INCREMENT PRIMARY KEY,\n",
    "        name VARCHAR(100),\n",
    "        age INT,\n",
    "        department VARCHAR(100)\n",
    "    )\n",
    "\"\"\"\n",
    "cursor.execute(create_query)\n",
    "print(\"Table created successfully.\")\n",
    "\n",
    "# Close the cursor and connection\n",
    "# cursor.close()\n",
    "# conn.close()\n"
   ]
  },
  {
   "cell_type": "markdown",
   "metadata": {},
   "source": [
    "### **3.ALTER:**\n",
    "\n",
    "The ALTER command is used to modify the structure of an existing database object, such as adding or dropping columns.\n",
    "The ALTER command is used to modify the structure of existing database objects such as tables.\n",
    "Example: Adding a new column 'salary' to the 'employees' table."
   ]
  },
  {
   "cell_type": "code",
   "execution_count": 2,
   "metadata": {},
   "outputs": [
    {
     "name": "stdout",
     "output_type": "stream",
     "text": [
      "Table altered successfully.\n"
     ]
    }
   ],
   "source": [
    "# Establish a connection to the MySQL database (same as before)\n",
    "\n",
    "# Create a cursor object to execute SQL commands (same as before)\n",
    "\n",
    "# Execute an ALTER TABLE statement to add a new column 'salary' to the 'employees' table\n",
    "alter_query = \"ALTER TABLE employees ADD COLUMN salary DECIMAL(10, 2)\"\n",
    "cursor.execute(alter_query)\n",
    "print(\"Table altered successfully.\")\n",
    "\n",
    "# Close the cursor and connection (same as before)\n"
   ]
  },
  {
   "cell_type": "markdown",
   "metadata": {},
   "source": [
    "### **4.TRUNCATE:**\n",
    "\n",
    "The TRUNCATE command is used to remove all rows from a table while keeping its structure intact."
   ]
  },
  {
   "cell_type": "code",
   "execution_count": 3,
   "metadata": {},
   "outputs": [
    {
     "name": "stdout",
     "output_type": "stream",
     "text": [
      "Table truncated successfully.\n"
     ]
    }
   ],
   "source": [
    "# Establish a connection to the MySQL database (same as before)\n",
    "\n",
    "# Create a cursor object to execute SQL commands (same as before)\n",
    "\n",
    "# Execute a TRUNCATE TABLE statement to remove all rows from the 'employees' table\n",
    "truncate_query = \"TRUNCATE TABLE employees\"\n",
    "cursor.execute(truncate_query)\n",
    "print(\"Table truncated successfully.\")\n",
    "\n",
    "# Close the cursor and connection (same as before)\n"
   ]
  },
  {
   "cell_type": "markdown",
   "metadata": {},
   "source": [
    "### **2.DROP:**\n",
    "\n",
    "The DROP command is used to delete existing database objects."
   ]
  },
  {
   "cell_type": "code",
   "execution_count": 4,
   "metadata": {},
   "outputs": [
    {
     "name": "stdout",
     "output_type": "stream",
     "text": [
      "Table dropped successfully.\n"
     ]
    }
   ],
   "source": [
    "# Establish a connection to the MySQL database (same as before)\n",
    "\n",
    "# Create a cursor object to execute SQL commands (same as before)\n",
    "\n",
    "# Execute a DROP TABLE statement to delete the 'employees' table\n",
    "drop_query = \"DROP TABLE employees\"\n",
    "cursor.execute(drop_query)\n",
    "print(\"Table dropped successfully.\")\n",
    "\n",
    "# Close the cursor and connection (same as before)\n"
   ]
  },
  {
   "cell_type": "markdown",
   "metadata": {},
   "source": [
    "## **Q3:-** \n",
    "### **What is DML? Explain INSERT, UPDATE, and DELETE with an example.**"
   ]
  },
  {
   "cell_type": "markdown",
   "metadata": {},
   "source": [
    "### **Ans:-**"
   ]
  },
  {
   "cell_type": "markdown",
   "metadata": {},
   "source": [
    "### **DML, or Data Manipulation Language, is a subset of SQL (Structured Query Language) used for managing and manipulating data stored in a database. In Python, you can use various database libraries to interact with databases and execute DML commands. Below are examples using the popular sqlite3 module, which is a built-in module for SQLite databases.**"
   ]
  },
  {
   "cell_type": "markdown",
   "metadata": {},
   "source": [
    "#### **INSERT:**\n",
    "\n",
    "The INSERT command is used to add new records (rows) to a table."
   ]
  },
  {
   "cell_type": "markdown",
   "metadata": {},
   "source": [
    "#### **UPDATE:**\n",
    "\n",
    "The UPDATE command is used to modify existing records in a table."
   ]
  },
  {
   "cell_type": "markdown",
   "metadata": {},
   "source": [
    "#### **DELETE:**\n",
    "\n",
    "The DELETE command is used to remove records from a table."
   ]
  },
  {
   "cell_type": "code",
   "execution_count": 5,
   "metadata": {},
   "outputs": [
    {
     "name": "stdout",
     "output_type": "stream",
     "text": [
      "Record inserted successfully.\n",
      "Record updated successfully.\n",
      "Record deleted successfully.\n"
     ]
    }
   ],
   "source": [
    "import mysql.connector\n",
    "\n",
    "# Establish a connection to the MySQL database\n",
    "conn = mysql.connector.connect(\n",
    "    host=\"localhost\",\n",
    "    user=\"root\",\n",
    "    password=\"9336\",\n",
    "    database=\"test1\"\n",
    ")\n",
    "\n",
    "# Create a cursor object to execute SQL commands\n",
    "cursor = conn.cursor()\n",
    "\n",
    "# Example 1: INSERT\n",
    "# Execute an INSERT statement to add a new record into the 'employees' table\n",
    "insert_query = \"INSERT INTO employees (name, age, department) VALUES (%s, %s, %s)\"\n",
    "data = ('John', 28, 'Marketing')\n",
    "cursor.execute(insert_query, data)\n",
    "conn.commit()\n",
    "print(\"Record inserted successfully.\")\n",
    "\n",
    "# Example 2: UPDATE\n",
    "# Execute an UPDATE statement to modify an existing record in the 'employees' table\n",
    "update_query = \"UPDATE employees SET department = %s WHERE name = %s\"\n",
    "new_department = 'Sales'\n",
    "employee_name = 'John'\n",
    "cursor.execute(update_query, (new_department, employee_name))\n",
    "conn.commit()\n",
    "print(\"Record updated successfully.\")\n",
    "\n",
    "# Example 3: DELETE\n",
    "# Execute a DELETE statement to remove a record from the 'employees' table\n",
    "delete_query = \"DELETE FROM employees WHERE name = %s\"\n",
    "employee_name = 'John'\n",
    "cursor.execute(delete_query, (employee_name,))\n",
    "conn.commit()\n",
    "print(\"Record deleted successfully.\")\n",
    "\n",
    "# Close the cursor and connection\n",
    "cursor.close()\n",
    "conn.close()\n"
   ]
  },
  {
   "cell_type": "markdown",
   "metadata": {},
   "source": [
    "## **Q4:-** \n",
    "### **What is DQL? Explain SELECT with an example.**"
   ]
  },
  {
   "cell_type": "markdown",
   "metadata": {},
   "source": [
    "### **Ans:-**"
   ]
  },
  {
   "cell_type": "markdown",
   "metadata": {},
   "source": [
    "DQL stands for Data Query Language, which is a subset of SQL (Structured Query Language) used for querying data from a database. The SELECT statement is a fundamental DQL command used to retrieve data from one or more tables in a database. Here's an example of using the SELECT statement in Python with MySQL database using the mysql.connector library:"
   ]
  },
  {
   "cell_type": "code",
   "execution_count": 6,
   "metadata": {},
   "outputs": [
    {
     "name": "stdout",
     "output_type": "stream",
     "text": [
      "(1, 'Davolio', 'Nancy', 'Sales Representative', 'Ms.', datetime.datetime(1948, 12, 8, 0, 0), datetime.datetime(1992, 5, 1, 0, 0), '507 - 20th Ave. E.Apt. 2A', 'Seattle', 'WA', '98122', 'USA', '(206) 555-9857', '5467', 'Education includes a BA in psychology from Colorado State University in 1970.  She also completed \"The Art of the Cold Call.\"  Nancy is a member of Toastmasters International.', 2, 'http://accweb/emmployees/davolio.bmp', 2954.55)\n",
      "(2, 'Fuller', 'Andrew', 'Vice President, Sales', 'Dr.', datetime.datetime(1952, 2, 19, 0, 0), datetime.datetime(1992, 8, 14, 0, 0), '908 W. Capital Way', 'Tacoma', 'WA', '98401', 'USA', '(206) 555-9482', '3457', 'Andrew received his BTS commercial in 1974 and a Ph.D. in international marketing from the University of Dallas in 1981.  He is fluent in French and Italian and reads German.  He joined the company as a sales representative, was promoted to sales manager in January 1992 and to vice president of sales in March 1993.  Andrew is a member of the Sales Management Roundtable, the Seattle Chamber of Commerce, and the Pacific Rim Importers Association.', None, 'http://accweb/emmployees/fuller.bmp', 2254.49)\n",
      "(3, 'Leverling', 'Janet', 'Sales Representative', 'Ms.', datetime.datetime(1963, 8, 30, 0, 0), datetime.datetime(1992, 4, 1, 0, 0), '722 Moss Bay Blvd.', 'Kirkland', 'WA', '98033', 'USA', '(206) 555-3412', '3355', 'Janet has a BS degree in chemistry from Boston College (1984).  She has also completed a certificate program in food retailing management.  Janet was hired as a sales associate in 1991 and promoted to sales representative in February 1992.', 2, 'http://accweb/emmployees/leverling.bmp', 3119.15)\n",
      "(4, 'Peacock', 'Margaret', 'Sales Representative', 'Mrs.', datetime.datetime(1937, 9, 19, 0, 0), datetime.datetime(1993, 5, 3, 0, 0), '4110 Old Redmond Rd.', 'Redmond', 'WA', '98052', 'USA', '(206) 555-8122', '5176', 'Margaret holds a BA in English literature from Concordia College (1958) and an MA from the American Institute of Culinary Arts (1966).  She was assigned to the London office temporarily from July through November 1992.', 2, 'http://accweb/emmployees/peacock.bmp', 1861.08)\n",
      "(5, 'Buchanan', 'Steven', 'Sales Manager', 'Mr.', datetime.datetime(1955, 3, 4, 0, 0), datetime.datetime(1993, 10, 17, 0, 0), '14 Garrett Hill', 'London', None, 'SW1 8JR', 'UK', '(71) 555-4848', '3453', 'Steven Buchanan graduated from St. Andrews University, Scotland, with a BSC degree in 1976.  Upon joining the company as a sales representative in 1992, he spent 6 months in an orientation program at the Seattle office and then returned to his permanent post in London.  He was promoted to sales manager in March 1993.  Mr. Buchanan has completed the courses \"Successful Telemarketing\" and \"International Sales Management.\"  He is fluent in French.', 2, 'http://accweb/emmployees/buchanan.bmp', 1744.21)\n",
      "(6, 'Suyama', 'Michael', 'Sales Representative', 'Mr.', datetime.datetime(1963, 7, 2, 0, 0), datetime.datetime(1993, 10, 17, 0, 0), 'Coventry House\\r\\nMiner Rd.', 'London', None, 'EC2 7JR', 'UK', '(71) 555-7773', '428', 'Michael is a graduate of Sussex University (MA, economics, 1983) and the University of California at Los Angeles (MBA, marketing, 1986).  He has also taken the courses \"Multi-Cultural Selling\" and \"Time Management for the Sales Professional.\"  He is fluent in Japanese and can read and write French, Portuguese, and Spanish.', 5, 'http://accweb/emmployees/davolio.bmp', 2004.07)\n",
      "(7, 'King', 'Robert', 'Sales Representative', 'Mr.', datetime.datetime(1960, 5, 29, 0, 0), datetime.datetime(1994, 1, 2, 0, 0), 'Edgeham Hollow\\r\\nWinchester Way', 'London', None, 'RG1 9SP', 'UK', '(71) 555-5598', '465', 'Robert King served in the Peace Corps and traveled extensively before completing his degree in English at the University of Michigan in 1992, the year he joined the company.  After completing a course entitled \"Selling in Europe,\" he was transferred to the London office in March 1993.', 5, 'http://accweb/emmployees/davolio.bmp', 1991.55)\n",
      "(8, 'Callahan', 'Laura', 'Inside Sales Coordinator', 'Ms.', datetime.datetime(1958, 1, 9, 0, 0), datetime.datetime(1994, 3, 5, 0, 0), '4726 - 11th Ave. N.E.', 'Seattle', 'WA', '98105', 'USA', '(206) 555-1189', '2344', 'Laura received a BA in psychology from the University of Washington.  She has also completed a course in business French.  She reads and writes French.', 2, 'http://accweb/emmployees/davolio.bmp', 2100.5)\n",
      "(9, 'Dodsworth', 'Anne', 'Sales Representative', 'Ms.', datetime.datetime(1966, 1, 27, 0, 0), datetime.datetime(1994, 11, 15, 0, 0), '7 Houndstooth Rd.', 'London', None, 'WG2 7LT', 'UK', '(71) 555-4444', '452', 'Anne has a BA degree in English from St. Lawrence College.  She is fluent in French and German.', 5, 'http://accweb/emmployees/davolio.bmp', 2333.33)\n"
     ]
    }
   ],
   "source": [
    "import mysql.connector\n",
    "\n",
    "# Establish a connection to the MySQL database\n",
    "conn = mysql.connector.connect(\n",
    "    host=\"localhost\",\n",
    "    user=\"root\",\n",
    "    password=\"9336\",\n",
    "    database=\"lab2\"\n",
    ")\n",
    "\n",
    "# Create a cursor object to execute SQL commands\n",
    "cursor = conn.cursor()\n",
    "\n",
    "# Execute a SELECT statement to retrieve data from the 'employees' table\n",
    "query = \"SELECT * FROM employees\"\n",
    "cursor.execute(query)\n",
    "\n",
    "# Fetch all the rows returned by the SELECT statement\n",
    "rows = cursor.fetchall()\n",
    "\n",
    "# Print the retrieved data\n",
    "for row in rows:\n",
    "    print(row)\n",
    "\n",
    "# Close the cursor and connection\n",
    "cursor.close()\n",
    "conn.close()\n"
   ]
  },
  {
   "cell_type": "markdown",
   "metadata": {},
   "source": [
    "## **Q5:-**\n",
    "### **Explain Primary Key and Foreign Key.**"
   ]
  },
  {
   "cell_type": "markdown",
   "metadata": {},
   "source": [
    "### **Ans:-**"
   ]
  },
  {
   "cell_type": "markdown",
   "metadata": {},
   "source": [
    "### **Primary Key:-**\n",
    "\n",
    "#### A Primary Key is a column or a set of columns in a table that uniquely identifies each row or record in that table.\n",
    "#### It must contain unique values for each row, and it cannot contain NULL values (although some database systems allow a composite primary key with NULL values if only part of the key is NULL).\n",
    "#### By defining a Primary Key, you ensure that each record in a table can be uniquely identified.\n",
    "#### Typically, Primary Keys are chosen from attributes that are unique and never change, such as an ID number, username, or email address.\n",
    "#### In most database management systems (DBMS), Primary Keys are automatically indexed, which improves the search performance for data retrieval.\n"
   ]
  },
  {
   "cell_type": "markdown",
   "metadata": {},
   "source": [
    "### **Foreign Key:-**\n",
    "\n",
    "#### A Foreign Key is a column or a set of columns in a table that establishes a relationship with the Primary Key or a Unique Key in another table.\n",
    "#### It helps maintain referential integrity by enforcing a link between the data in two tables.\n",
    "#### The values in the Foreign Key column(s) must match the values in the Primary Key or Unique Key column(s) in the referenced table.\n",
    "#### Foreign Keys ensure that rows in one table correspond to rows in another table. For example, in a database of students and courses, a Foreign Key in the \"Students\" table might reference the Primary Key in the \"Courses\" table, indicating which course each student is enrolled in.\n",
    "#### It's not mandatory for a Foreign Key to be unique, meaning multiple rows in the referencing table can have the same Foreign Key value.\n",
    "#### When a Foreign Key is defined, constraints can be applied to ensure that data integrity is maintained, such as preventing the deletion of a record in the referenced table if there are corresponding records in the referencing table (this is known as referential integrity)"
   ]
  },
  {
   "cell_type": "markdown",
   "metadata": {},
   "source": [
    "## **Q6:-** \n",
    "### **Write a python code to connect MySQL to python. Explain the cursor() and execute() method.**"
   ]
  },
  {
   "cell_type": "markdown",
   "metadata": {},
   "source": [
    "### **Ans:-"
   ]
  },
  {
   "cell_type": "code",
   "execution_count": 7,
   "metadata": {},
   "outputs": [
    {
     "name": "stdout",
     "output_type": "stream",
     "text": [
      "<mysql.connector.connection_cext.CMySQLConnection object at 0x00000251CC007FD0>\n",
      "('abhishek',)\n",
      "('collage',)\n",
      "('college',)\n",
      "('information_schema',)\n",
      "('lab2',)\n",
      "('mysql',)\n",
      "('performance_schema',)\n",
      "('sys',)\n",
      "('test1',)\n",
      "('testdb',)\n"
     ]
    }
   ],
   "source": [
    "import mysql.connector\n",
    "mydb=mysql.connector.connect(\n",
    "    host=\"localhost\",\n",
    "    user=\"root\",\n",
    "    password=\"9336\",\n",
    "    database=\"lab2\"\n",
    "    \n",
    ")\n",
    "print(mydb)\n",
    "mycursor=mydb.cursor()\n",
    "mycursor.execute(\"SHOW DATABASES\")\n",
    "for x in mycursor:\n",
    "    print(x)\n",
    "    "
   ]
  },
  {
   "cell_type": "markdown",
   "metadata": {},
   "source": [
    "## **Q7:-** \n",
    "### **Give the order of execution of SQL clauses in an SQL query.**"
   ]
  },
  {
   "cell_type": "markdown",
   "metadata": {},
   "source": [
    "### **Ans:-**"
   ]
  },
  {
   "cell_type": "markdown",
   "metadata": {},
   "source": [
    "### **The order of execution of SQL clauses in an SQL query generally follows the sequence outlined below:**\n",
    "\n",
    "#### FROM: Specifies the table or tables from which to retrieve data.\n",
    "\n",
    "#### JOIN: Combines rows from two or more tables based on a related column between them. The JOIN clause is part of the FROM clause and is used to join tables.\n",
    "\n",
    "#### WHERE: Filters rows based on specified conditions. It is used to extract only those records that fulfill the specified criteria.\n",
    "\n",
    "#### GROUP BY: Groups rows that have the same values into summary rows, often used with aggregate functions like COUNT, SUM, AVG, etc.\n",
    "\n",
    "#### HAVING: Filters groups based on specified conditions. It is similar to the WHERE clause but is used with aggregate functions when filtering groups.\n",
    "\n",
    "#### SELECT: Specifies the columns to be retrieved from the tables. It is one of the last clauses to be executed.\n",
    "\n",
    "#### DISTINCT: Removes duplicate records from the result set.\n",
    "\n",
    "#### ORDER BY: Sorts the result set based on specified columns and their sort order.\n",
    "\n",
    "#### LIMIT/OFFSET or FETCH FIRST: Limits the number of rows returned by the query."
   ]
  }
 ],
 "metadata": {
  "kernelspec": {
   "display_name": "base",
   "language": "python",
   "name": "python3"
  },
  "language_info": {
   "codemirror_mode": {
    "name": "ipython",
    "version": 3
   },
   "file_extension": ".py",
   "mimetype": "text/x-python",
   "name": "python",
   "nbconvert_exporter": "python",
   "pygments_lexer": "ipython3",
   "version": "3.11.5"
  }
 },
 "nbformat": 4,
 "nbformat_minor": 2
}
