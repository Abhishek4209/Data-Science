{
 "cells": [
  {
   "cell_type": "markdown",
   "metadata": {},
   "source": [
    "## **Q1:-** \n",
    "### **What is Estimation Statistics? Explain point estimate and interval estimate.**"
   ]
  },
  {
   "cell_type": "markdown",
   "metadata": {},
   "source": [
    "### **Ans:-**"
   ]
  },
  {
   "cell_type": "markdown",
   "metadata": {},
   "source": [
    "### **Point estimation:-**\n",
    "#### Uses sample data to calculate a single value that estimates an unknown population parameter. For example, a sample mean is a point estimate of a population mean.\n",
    "### **Interval estimation:-**\n",
    "#### Uses survey data to construct a range of values that contain the population parameter with a certain level of confidence. The most common type of interval estimate is a confidence interval.**"
   ]
  },
  {
   "cell_type": "markdown",
   "metadata": {},
   "source": [
    "## **Q2:-**\n",
    "### **Write a Python function to estimate the population mean using a sample mean and standard deviation.**"
   ]
  },
  {
   "cell_type": "markdown",
   "metadata": {},
   "source": [
    "### **Ans:-**"
   ]
  },
  {
   "cell_type": "code",
   "execution_count": 1,
   "metadata": {},
   "outputs": [
    {
     "name": "stdout",
     "output_type": "stream",
     "text": [
      "Estimated population mean (95% confidence interval): 48.04 to 51.96\n"
     ]
    }
   ],
   "source": [
    "import math\n",
    "\n",
    "def estimate_population_mean(sample_mean, sample_std_dev, sample_size, confidence_level=0.95):\n",
    "\n",
    "    z_score = 0.5 + confidence_level / 2\n",
    "    \n",
    "    z_critical = 1.96  \n",
    "\n",
    "    # Calculate the margin of error\n",
    "    margin_of_error = z_critical * (sample_std_dev / math.sqrt(sample_size))\n",
    "\n",
    "    # Calculate the confidence interval\n",
    "    lower_bound = sample_mean - margin_of_error\n",
    "    upper_bound = sample_mean + margin_of_error\n",
    "\n",
    "    return lower_bound, upper_bound\n",
    "\n",
    "\n",
    "sample_mean = 50\n",
    "sample_std_dev = 10\n",
    "sample_size = 100\n",
    "confidence_level = 0.95\n",
    "\n",
    "lower_bound, upper_bound = estimate_population_mean(sample_mean, sample_std_dev, sample_size, confidence_level)\n",
    "print(f\"Estimated population mean (95% confidence interval): {lower_bound} to {upper_bound}\")\n"
   ]
  },
  {
   "cell_type": "markdown",
   "metadata": {},
   "source": [
    "## **Q3:-** \n",
    "### **What is Hypothesis testing? Why is it used? State the importance of Hypothesis testing.**"
   ]
  },
  {
   "cell_type": "markdown",
   "metadata": {},
   "source": [
    "### **Ans:-**"
   ]
  },
  {
   "cell_type": "markdown",
   "metadata": {},
   "source": [
    "### **Hypothesis testing is a statistical method that determines the plausibility of a hypothesis. It's used to determine if there's enough evidence in a sample data to draw conclusions about a population**"
   ]
  },
  {
   "cell_type": "markdown",
   "metadata": {},
   "source": [
    "#### **Hypothesis testing is important because it:-**\n",
    "##### Allows researchers to determine if an assumption about a population parameter is true or false\n",
    "##### Provides evidence concerning the plausibility of a hypothesis\n",
    "##### Evaluates the strength of evidence from a sample\n",
    "##### Provides a framework for making determinations related to the population\n",
    "##### Evaluates the result's unusualness\n",
    "##### Takes away decisions based on gut feeling or experience"
   ]
  },
  {
   "cell_type": "markdown",
   "metadata": {},
   "source": [
    "## **Q4:-** \n",
    "### **Create a hypothesis that states whether the average weight of male college students is greater than the average weight of female college students.**"
   ]
  },
  {
   "cell_type": "markdown",
   "metadata": {},
   "source": [
    "### **Ans:-**"
   ]
  },
  {
   "cell_type": "markdown",
   "metadata": {},
   "source": [
    "### **Hypothesis: The average weight of male college students is greater than the average weight of female college students.**"
   ]
  },
  {
   "cell_type": "markdown",
   "metadata": {},
   "source": [
    "## **Q5:-** \n",
    "### **Write a Python script to conduct a hypothesis test on the difference between two population means, given a sample from each population.**"
   ]
  },
  {
   "cell_type": "markdown",
   "metadata": {},
   "source": [
    "### **Ans:-**"
   ]
  },
  {
   "cell_type": "code",
   "execution_count": 2,
   "metadata": {},
   "outputs": [
    {
     "name": "stdout",
     "output_type": "stream",
     "text": [
      "T-statistic: 4.806464918052401\n",
      "P-value: 0.00014138877106069326\n",
      "Reject the null hypothesis: There is a significant difference between the two population means.\n"
     ]
    }
   ],
   "source": [
    "import numpy as np\n",
    "from scipy.stats import ttest_ind\n",
    "\n",
    "\n",
    "population1 = np.array([80, 85, 78, 90, 92, 88, 75, 82, 86, 88])\n",
    "population2 = np.array([70, 72, 68, 75, 80, 77, 73, 71, 76, 79])\n",
    "\n",
    "# Set the significance level (alpha)\n",
    "alpha = 0.05\n",
    "\n",
    "# Perform the independent t-test\n",
    "t_stat, p_value = ttest_ind(population1, population2)\n",
    "\n",
    "# Output the results\n",
    "print(\"T-statistic:\", t_stat)\n",
    "print(\"P-value:\", p_value)\n",
    "\n",
    "# Compare the p-value to the significance level\n",
    "if p_value < alpha:\n",
    "    print(\"Reject the null hypothesis: There is a significant difference between the two population means.\")\n",
    "else:\n",
    "    print(\"Fail to reject the null hypothesis: There is no significant difference between the two population means.\")\n"
   ]
  },
  {
   "cell_type": "markdown",
   "metadata": {},
   "source": [
    "## **Q6:-**  \n",
    "### **What is a null and alternative hypothesis? Give some examples.**"
   ]
  },
  {
   "cell_type": "markdown",
   "metadata": {},
   "source": [
    "### **Ans:-**"
   ]
  },
  {
   "cell_type": "markdown",
   "metadata": {},
   "source": [
    "#### **A null hypothesis is a statement of equality that assumes there is no difference between the population parameter and the assumed value of the parameter. The alternative hypothesis is a statement that is contrary to the null hypothesis. The alternative hypothesis is also known as the research hypothesis.**"
   ]
  },
  {
   "cell_type": "markdown",
   "metadata": {},
   "source": [
    "### Does taking aspirin every day reduce the chance of having a heart attack?\t\n",
    "### Taking aspirin daily does not affect heart attack risk."
   ]
  },
  {
   "cell_type": "markdown",
   "metadata": {},
   "source": [
    "## **Q7:-**  \n",
    "### **Write down the steps involved in hypothesis testing.**"
   ]
  },
  {
   "cell_type": "markdown",
   "metadata": {},
   "source": [
    "### **Ans:-**"
   ]
  },
  {
   "cell_type": "markdown",
   "metadata": {},
   "source": [
    "### **Identify Population and Sample.**\n",
    "### **State the Hypotheses in terms of population parameters.**\n",
    "### **State Assumptions and Check Conditions.**\n",
    "### **Calculate the Test Statistic.**\n",
    "### **Calculate the P-value.**\n",
    "### **State the Conclusion.**"
   ]
  },
  {
   "cell_type": "markdown",
   "metadata": {},
   "source": [
    "## **Q8:-** \n",
    "### **Define p-value and explain its significance in hypothesis testing.**"
   ]
  },
  {
   "cell_type": "markdown",
   "metadata": {},
   "source": [
    "### **Ans:-**"
   ]
  },
  {
   "cell_type": "markdown",
   "metadata": {},
   "source": [
    "### **In statistical hypothesis testing, a p-value is a number that measures the probability of getting a result that is at least as extreme as the actual observations. The p-value is also known as the level of marginal significance.**\n",
    "### **P-values are used in hypothesis testing to help decide whether to reject the null hypothesis. The smaller the p-value, the stronger the evidence against the null hypothesis.**"
   ]
  },
  {
   "cell_type": "markdown",
   "metadata": {},
   "source": [
    "## **Q9:-**  \n",
    "### **Generate a Student's t-distribution plot using Python's matplotlib library, with the degrees of freedom parameter set to 10.**"
   ]
  },
  {
   "cell_type": "markdown",
   "metadata": {},
   "source": [
    "### **Ans:-**"
   ]
  },
  {
   "cell_type": "code",
   "execution_count": 3,
   "metadata": {},
   "outputs": [
    {
     "data": {
      "image/png": "[encoded data removed]",
      "text/plain": [
       "<Figure size 800x600 with 1 Axes>"
      ]
     },
     "metadata": {},
     "output_type": "display_data"
    }
   ],
   "source": [
    "import numpy as np\n",
    "import matplotlib.pyplot as plt\n",
    "from scipy.stats import t\n",
    "\n",
    "degrees_of_freedom = 10\n",
    "\n",
    "x = np.linspace(-4, 4, 1000)\n",
    "\n",
    "# Calculate the probability density function (PDF) for the t-distribution\n",
    "pdf = t.pdf(x, df=degrees_of_freedom)\n",
    "\n",
    "\n",
    "plt.figure(figsize=(8, 6))\n",
    "plt.plot(x, pdf, label=f't-distribution (df={degrees_of_freedom})', color='b')\n",
    "plt.xlabel('X')\n",
    "plt.ylabel('Probability Density')\n",
    "plt.title(f'Student\\'s t-Distribution (df={degrees_of_freedom})')\n",
    "plt.legend()\n",
    "\n",
    "plt.grid(True)\n",
    "plt.show()"
   ]
  },
  {
   "cell_type": "markdown",
   "metadata": {},
   "source": [
    "## **Q10:-** \n",
    "### **Write a Python program to calculate the two-sample t-test for independent samples, given two random samples of equal size and a null hypothesis that the population means are equal.**"
   ]
  },
  {
   "cell_type": "code",
   "execution_count": 4,
   "metadata": {},
   "outputs": [
    {
     "name": "stdout",
     "output_type": "stream",
     "text": [
      "Sample 1: [-1.17839768  0.13354321 -1.53808435 -0.55799646 -0.34993759 -0.4721288\n",
      "  1.64292378 -0.48428787 -0.70456685  0.98194866 -1.09147576  0.1759413\n",
      "  0.22845055 -1.44471132 -0.22484772 -1.56284467 -0.4476332  -0.18573073\n",
      " -0.50350512  0.52300431 -0.83520277 -0.12355284 -0.79984442 -0.54175428\n",
      " -0.56353115  1.01112333  0.37709538 -0.81179214 -0.01904003 -1.06163068\n",
      "  0.18169452  1.2232301   0.85972768 -0.76819664 -0.83804287  0.43153858\n",
      "  0.52634511 -0.1343394   2.27937177 -0.00486425  0.42859831 -0.67546538\n",
      " -2.10370637  2.29105705 -0.36825154  1.23123878  0.14876031  1.04351459\n",
      "  1.30296582  1.31569846]\n",
      "Sample 2: [ 0.68074158  0.4148897   0.23142326 -2.44831123  0.93538931  1.52747817\n",
      "  0.05274537  0.82807592 -0.3058519  -0.13333633 -2.47129423 -0.35135021\n",
      "  0.34740858 -1.15615156  2.52105324  0.29938441 -1.62520962  1.71195762\n",
      " -0.63352046  0.90510018 -0.44633387 -0.52803908 -1.13258777 -0.73330734\n",
      " -1.83351123  0.21131191 -0.50089834  0.26837049  0.52825237  1.0166619\n",
      "  1.43958573  0.13008558 -0.26342281  1.22306576  0.56859871  0.65715741\n",
      " -2.45890148  0.51201028 -2.75064168 -2.01176564 -0.52125423 -0.69559738\n",
      "  1.21623283 -0.47352398  1.22528615 -1.03657701 -0.46394211  0.12082124\n",
      "  0.77016115 -1.65581558]\n",
      "T-Statistic: 0.3903240453233582\n",
      "P-Value: 0.6971440709732304\n",
      "Fail to reject the null hypothesis. The population means are equal.\n"
     ]
    }
   ],
   "source": [
    "import numpy as np\n",
    "from scipy import stats\n",
    "\n",
    "sample1 = np.random.randn(50)  \n",
    "sample2 = np.random.randn(50)  \n",
    "\n",
    "# Perform a two-sample t-test for equal means\n",
    "t_statistic, p_value = stats.ttest_ind(sample1, sample2)\n",
    "\n",
    "# Define the significance level (alpha)\n",
    "alpha = 0.05\n",
    "\n",
    "print(\"Sample 1:\", sample1)\n",
    "print(\"Sample 2:\", sample2)\n",
    "print(\"T-Statistic:\", t_statistic)\n",
    "print(\"P-Value:\", p_value)\n",
    "\n",
    "if p_value < alpha:\n",
    "    print(\"Reject the null hypothesis. The population means are not equal.\")\n",
    "else:\n",
    "    print(\"Fail to reject the null hypothesis. The population means are equal.\")\n"
   ]
  },
  {
   "cell_type": "markdown",
   "metadata": {},
   "source": [
    "## **Q11:-** \n",
    "### **What is Student’s t distribution? When to use the t-Distribution.**"
   ]
  },
  {
   "cell_type": "markdown",
   "metadata": {},
   "source": [
    "### **Ans:-**"
   ]
  },
  {
   "cell_type": "markdown",
   "metadata": {},
   "source": [
    "### **Student's t-distribution is a probability distribution used in statistics to make inferences about the population mean. It's used when the sample size is small or when the population standard deviation is unknown.**\n",
    "#### **The t-distribution is similar to the normal distribution, but has heavier tails. It's a symmetrical, bell-shaped distribution.**\n",
    "#### **The t-distribution is used instead of the normal distribution when you have small samples**"
   ]
  },
  {
   "cell_type": "markdown",
   "metadata": {},
   "source": [
    "## **Q12:-**\n",
    "### **What is t-statistic? State the formula for t-statistic.**"
   ]
  },
  {
   "cell_type": "markdown",
   "metadata": {},
   "source": [
    "### **Ans:-**"
   ]
  },
  {
   "cell_type": "markdown",
   "metadata": {},
   "source": [
    "### **The formula for the t-statistic is t = (X‾ - μ0) / (s / √n). In this formula, X‾ is the sample mean, μ0 is the population mean, s is the standard deviation of the sample, and n is the size of the sample.**\n",
    "#### Here are some examples of the t-statistic formula: \n",
    "#### Common t-test: t = (X‾ - μ0) / (s / √n)\n",
    "#### Dependent t-test: t = ˉD−μD(SD√n)\n",
    "#### Difference of means: t = mA−mB√S2nA+S2nB"
   ]
  },
  {
   "cell_type": "markdown",
   "metadata": {},
   "source": [
    "## **Q13:-** \n",
    "### **A coffee shop owner wants to estimate the average daily revenue for their shop. They take a random sample of 50 days and find the sample mean revenue to be $500 with a standard deviation of $50. Estimate the population mean revenue with a 95% confidence interval.**"
   ]
  },
  {
   "cell_type": "markdown",
   "metadata": {},
   "source": [
    "### **Ans:-**"
   ]
  },
  {
   "cell_type": "markdown",
   "metadata": {},
   "source": [
    "### To estimate the population mean revenue with a 95% confidence interval based on the sample mean and standard deviation, you can use the formula for the confidence interval for the population mean (μ) when the sample size is sufficiently large (usually n > 30):\n",
    "\n",
    "#### Confidence Interval = X̄ ± Z * (σ / √n)\n",
    "\n",
    "#### Where:\n",
    "\n",
    "#### X̄ is the sample mean (in this case, $500).\n",
    "#### Z is the critical Z-score for a 95% confidence interval (usually 1.96 for a 95% confidence level).\n",
    "#### σ is the population standard deviation (in this case, $50).\n",
    "#### n is the sample size (in this case, 50)."
   ]
  },
  {
   "cell_type": "code",
   "execution_count": 5,
   "metadata": {},
   "outputs": [
    {
     "name": "stdout",
     "output_type": "stream",
     "text": [
      "95% Confidence Interval: $486.14 to $513.86\n"
     ]
    }
   ],
   "source": [
    "import scipy.stats as stats\n",
    "import math\n",
    "sample_mean = 500  \n",
    "sample_std = 50    \n",
    "sample_size = 50   \n",
    "confidence_level = 0.95\n",
    "\n",
    "# Calculate the critical Z-score for a 95% confidence level\n",
    "z_score = stats.norm.ppf(1 - (1 - confidence_level) / 2)\n",
    "\n",
    "# Calculate the margin of error\n",
    "margin_of_error = z_score * (sample_std / math.sqrt(sample_size))\n",
    "\n",
    "# Calculate the confidence interval\n",
    "lower_bound = sample_mean - margin_of_error\n",
    "upper_bound = sample_mean + margin_of_error\n",
    "\n",
    "print(f\"95% Confidence Interval: ${lower_bound:.2f} to ${upper_bound:.2f}\")\n"
   ]
  },
  {
   "cell_type": "markdown",
   "metadata": {},
   "source": [
    "## **Q14:-** \n",
    "### **A researcher hypothesizes that a new drug will decrease blood pressure by 10 mmHg. They conduct a clinical trial with 100 patients and find that the sample mean decrease in blood pressure is 8 mmHg with a standard deviation of 3 mmHg. Test the hypothesis with a significance level of 0.05.**"
   ]
  },
  {
   "cell_type": "markdown",
   "metadata": {},
   "source": [
    "### **Ans:-**"
   ]
  },
  {
   "cell_type": "markdown",
   "metadata": {},
   "source": [
    "### **To test the researcher's hypothesis that the new drug will decrease blood pressure by 10 mmHg, you can perform a one-sample t-test. The null hypothesis (H0) is that the drug has no effect, which means the population mean decrease in blood pressure is 0 mmHg, while the alternative hypothesis (H1) is that the drug decreases blood pressure by 10 mmHg (population mean decrease is 10 mmHg).**\n",
    "\n",
    "### **Here are the steps to conduct the one-sample t-test:-**\n",
    "\n",
    "#### **1.Formulate the null and alternative hypotheses:-**\n",
    "\n",
    "#### Null Hypothesis (H0): The population mean decrease in blood pressure is 0 mmHg (μ = 0).\n",
    "#### Alternative Hypothesis (H1): The population mean decrease in blood pressure is 10 mmHg (μ = 10).\n",
    "#### **2.Calculate the t-statistic using the formula:-**\n",
    "##### t = (X̄ - μ) / (s / √n)\n",
    "\n",
    "#### Where:\n",
    "\n",
    "#### X̄ is the sample mean (8 mmHg)\n",
    "#### μ is the hypothesized population mean (0 mmHg)\n",
    "#### s is the sample standard deviation (3 mmHg)\n",
    "#### n is the sample size (100)\n",
    "#### **3.Determine the degrees of freedom, which is (n - 1), in this case, 99.**\n",
    "\n",
    "#### **4.Find the critical t-value for a significance level of 0.05 and 99 degrees of freedom.**\n",
    "\n",
    "#### **5.Compare the calculated t-statistic to the critical t-value and make a decision.**"
   ]
  },
  {
   "cell_type": "code",
   "execution_count": 6,
   "metadata": {},
   "outputs": [
    {
     "name": "stdout",
     "output_type": "stream",
     "text": [
      "Reject the null hypothesis\n",
      "P-Value: 0.0\n"
     ]
    }
   ],
   "source": [
    "import scipy.stats as stats\n",
    "\n",
    "sample_mean = 8\n",
    "hypothesized_mean = 0\n",
    "sample_std = 3\n",
    "sample_size = 100\n",
    "significance_level = 0.05\n",
    "\n",
    "# Calculate the t-statistic\n",
    "t_statistic = (sample_mean - hypothesized_mean) / (sample_std / (sample_size**0.5))\n",
    "\n",
    "# Find the critical t-value for a two-tailed test\n",
    "degrees_of_freedom = sample_size - 1\n",
    "critical_t_value = stats.t.ppf(1 - significance_level / 2, df=degrees_of_freedom)\n",
    "\n",
    "# Determine if we reject the null hypothesis\n",
    "if abs(t_statistic) > critical_t_value:\n",
    "    print(\"Reject the null hypothesis\")\n",
    "else:\n",
    "    print(\"Fail to reject the null hypothesis\")\n",
    "\n",
    "# Calculate the p-value (two-tailed test)\n",
    "p_value = 2 * (1 - stats.t.cdf(abs(t_statistic), df=degrees_of_freedom))\n",
    "print(\"P-Value:\", p_value)\n"
   ]
  },
  {
   "cell_type": "markdown",
   "metadata": {},
   "source": [
    "## **Q15:-** \n",
    "### **An electronics company produces a certain type of product with a mean weight of 5 pounds and a standard deviation of 0.5 pounds. A random sample of 25 products is taken, and the sample mean weight is found to be 4.8 pounds. Test the hypothesis that the true mean weight of the products is less than 5 pounds with a significance level of 0.01.**"
   ]
  },
  {
   "cell_type": "markdown",
   "metadata": {},
   "source": [
    "### **Ans:-**"
   ]
  },
  {
   "cell_type": "markdown",
   "metadata": {},
   "source": [
    "### **1.Formulate the null and alternative hypotheses:-**\n",
    "\n",
    "##### Null Hypothesis (H0): μ = 5 (The true mean weight is equal to 5 pounds).\n",
    "##### Alternative Hypothesis (H1): μ < 5 (The true mean weight is less than 5 pounds).\n",
    "### **2.Calculate the test statistic using the formula:**\n",
    "##### t = (X̄ - μ) / (s / √n)\n",
    "\n",
    "##### Where:\n",
    "\n",
    "##### X̄ is the sample mean (4.8 pounds).\n",
    "##### μ is the hypothesized population mean (5 pounds).\n",
    "##### s is the sample standard deviation (0.5 pounds).\n",
    "##### n is the sample size (25 products).\n",
    "### **3.Determine the degrees of freedom, which is (n - 1), in this case, 24.**\n",
    "\n",
    "### **4.Find the critical t-value for a one-tailed test at a significance level of 0.01 and the calculated degrees of freedom.**\n",
    "\n",
    "### **5.Compare the calculated t-statistic to the critical t-value and make a decision.**"
   ]
  },
  {
   "cell_type": "code",
   "execution_count": 7,
   "metadata": {},
   "outputs": [
    {
     "name": "stdout",
     "output_type": "stream",
     "text": [
      "Fail to reject the null hypothesis\n",
      "P-Value: 0.02846992496829572\n"
     ]
    }
   ],
   "source": [
    "import scipy.stats as stats\n",
    "\n",
    "\n",
    "sample_mean = 4.8 \n",
    "hypothesized_mean = 5  \n",
    "sample_std = 0.5    \n",
    "sample_size = 25   \n",
    "significance_level = 0.01\n",
    "\n",
    "\n",
    "t_statistic = (sample_mean - hypothesized_mean) / (sample_std / (sample_size**0.5))\n",
    "\n",
    "\n",
    "degrees_of_freedom = sample_size - 1\n",
    "\n",
    "# Find the critical t-value for a one-tailed test\n",
    "critical_t_value = stats.t.ppf(significance_level, df=degrees_of_freedom)\n",
    "\n",
    "# Determine if we reject the null hypothesis\n",
    "if t_statistic < critical_t_value:\n",
    "    print(\"Reject the null hypothesis\")\n",
    "else:\n",
    "    print(\"Fail to reject the null hypothesis\")\n",
    "\n",
    "# Calculate the p-value (one-tailed test)\n",
    "p_value = stats.t.cdf(t_statistic, df=degrees_of_freedom)\n",
    "print(\"P-Value:\", p_value)\n"
   ]
  },
  {
   "cell_type": "markdown",
   "metadata": {},
   "source": [
    "## **Q16:-** \n",
    "### **Two groups of students are given different study materials to prepare for a test. The first group (n1 = 30) has a mean score of 80 with a standard deviation of 10, and the second group (n2 = 40) has a mean score of 75 with a standard deviation of 8. Test the hypothesis that the population means for the two groups are equal with a significance level of 0.01.**"
   ]
  },
  {
   "cell_type": "markdown",
   "metadata": {},
   "source": [
    "### **Ans:-**"
   ]
  },
  {
   "cell_type": "markdown",
   "metadata": {},
   "source": [
    "### To test whether the population means for the two groups are equal, you can perform a two-sample t-test for independent samples. The null hypothesis (H0) is that the population means are equal, while the alternative hypothesis (H1) is that they are not equal. You will use a significance level (alpha) of 0.01.\n",
    "\n",
    "\n",
    "#### 1.Formulate the null and alternative hypotheses:\n",
    "\n",
    "##### Null Hypothesis (H0): μ1 = μ2 (The population means are equal for both groups)\n",
    "##### Alternative Hypothesis (H1): μ1 ≠ μ2 (The population means are not equal for the two groups)\n",
    "#### 2.Calculate the test statistic using the formula:\n",
    "##### t = (X̄1 - X̄2) / √((s1²/n1) + (s2²/n2))\n",
    "\n",
    "##### Where:\n",
    "\n",
    "##### X̄1 and X̄2 are the sample means for the two groups.\n",
    "##### s1 and s2 are the sample standard deviations for the two groups.\n",
    "##### n1 and n2 are the sample sizes for the two groups.\n",
    "##### Determine the degrees of freedom, which can be calculated using the formula:\n",
    "##### df = (n1 + n2 - 2)\n",
    "\n",
    "##### Find the critical t-value for a two-tailed test at a significance level of 0.01 and the calculated degrees of freedom.\n",
    "\n",
    "##### Compare the calculated t-statistic to the critical t-value and make a decision."
   ]
  },
  {
   "cell_type": "code",
   "execution_count": 8,
   "metadata": {},
   "outputs": [
    {
     "name": "stdout",
     "output_type": "stream",
     "text": [
      "Fail to reject the null hypothesis\n",
      "P-Value: 0.023123013413725912\n"
     ]
    }
   ],
   "source": [
    "import scipy.stats as stats\n",
    "\n",
    "# Given data for Group 1\n",
    "n1 = 30\n",
    "mean1 = 80\n",
    "std1 = 10\n",
    "\n",
    "# Given data for Group 2\n",
    "n2 = 40\n",
    "mean2 = 75\n",
    "std2 = 8\n",
    "\n",
    "# Significance level\n",
    "alpha = 0.01\n",
    "\n",
    "# Calculate the t-statistic\n",
    "pooled_std = ((std1**2 * (n1 - 1) + std2**2 * (n2 - 1)) / (n1 + n2 - 2))**0.5\n",
    "t_statistic = (mean1 - mean2) / (pooled_std * (1/n1 + 1/n2)**0.5)\n",
    "\n",
    "# Calculate degrees of freedom\n",
    "degrees_of_freedom = n1 + n2 - 2\n",
    "\n",
    "# Find the critical t-value for a two-tailed test\n",
    "critical_t_value = stats.t.ppf(1 - alpha / 2, df=degrees_of_freedom)\n",
    "\n",
    "# Determine if we reject the null hypothesis\n",
    "if abs(t_statistic) > critical_t_value:\n",
    "    print(\"Reject the null hypothesis\")\n",
    "else:\n",
    "    print(\"Fail to reject the null hypothesis\")\n",
    "\n",
    "# Calculate the p-value (two-tailed test)\n",
    "p_value = 2 * (1 - stats.t.cdf(abs(t_statistic), df=degrees_of_freedom))\n",
    "print(\"P-Value:\", p_value)\n"
   ]
  },
  {
   "cell_type": "markdown",
   "metadata": {},
   "source": [
    "## **Q17:-**\n",
    "### **A marketing company wants to estimate the average number of ads watched by viewers during a TV program. They take a random sample of 50 viewers and find that the sample mean is 4 with a standard deviation of 1.5. Estimate the population mean with a 99% confidence interval.**"
   ]
  },
  {
   "cell_type": "markdown",
   "metadata": {},
   "source": [
    "### **Ans:-**"
   ]
  },
  {
   "cell_type": "markdown",
   "metadata": {},
   "source": [
    "### **To estimate the population mean number of ads watched by viewers during a TV program with a 99% confidence interval, you can use the formula for the confidence interval for the population mean (μ) when the sample size is sufficiently large (usually n > 30):**\n",
    "\n",
    "### **Confidence Interval = X̄ ± Z * (σ / √n)**\n",
    "\n",
    "### Where:\n",
    "\n",
    "#### X̄ is the sample mean (in this case, 4).\n",
    "#### Z is the critical Z-score for a 99% confidence interval (you can find this from the standard normal distribution table; for a 99% confidence level, it's typically around 2.576).\n",
    "#### σ is the population standard deviation (in this case, 1.5).\n",
    "#### n is the sample size (in this case, 50)."
   ]
  },
  {
   "cell_type": "code",
   "execution_count": 9,
   "metadata": {},
   "outputs": [
    {
     "name": "stdout",
     "output_type": "stream",
     "text": [
      "99% Confidence Interval: 3.45 to 4.55 ads watched\n"
     ]
    }
   ],
   "source": [
    "import scipy.stats as stats\n",
    "import math\n",
    "\n",
    "sample_mean = 4   \n",
    "sample_std = 1.5  \n",
    "sample_size = 50  \n",
    "confidence_level = 0.99\n",
    "\n",
    "# Calculate the critical Z-score for a 99% confidence level\n",
    "z_score = stats.norm.ppf(1 - (1 - confidence_level) / 2)\n",
    "\n",
    "# Calculate the margin of error\n",
    "margin_of_error = z_score * (sample_std / math.sqrt(sample_size))\n",
    "\n",
    "# Calculate the confidence interval\n",
    "lower_bound = sample_mean - margin_of_error\n",
    "upper_bound = sample_mean + margin_of_error\n",
    "\n",
    "print(f\"99% Confidence Interval: {lower_bound:.2f} to {upper_bound:.2f} ads watched\")\n"
   ]
  }
 ],
 "metadata": {
  "kernelspec": {
   "display_name": "base",
   "language": "python",
   "name": "python3"
  },
  "language_info": {
   "codemirror_mode": {
    "name": "ipython",
    "version": 3
   },
   "file_extension": ".py",
   "mimetype": "text/x-python",
   "name": "python",
   "nbconvert_exporter": "python",
   "pygments_lexer": "ipython3",
   "version": "3.11.5"
  }
 },
 "nbformat": 4,
 "nbformat_minor": 2
}
